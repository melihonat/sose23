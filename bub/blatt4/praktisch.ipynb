{
 "cells": [
  {
   "cell_type": "markdown",
   "id": "32c4a1cf",
   "metadata": {
    "deletable": false,
    "editable": false,
    "nbgrader": {
     "cell_type": "markdown",
     "checksum": "4608bd114db12451ba8d0362715de37c",
     "grade": false,
     "grade_id": "cell-f0e08049127dc5a5",
     "locked": true,
     "schema_version": 3,
     "solution": false,
     "task": false
    }
   },
   "source": [
    "## Praktische Aufgaben – Blatt 4"
   ]
  },
  {
   "cell_type": "code",
   "execution_count": null,
   "id": "15ba44ca",
   "metadata": {
    "deletable": false,
    "editable": false,
    "nbgrader": {
     "cell_type": "code",
     "checksum": "2f3be4f0b61a1a6b5f2db5c753e70d9b",
     "grade": false,
     "grade_id": "cell-21216987b0eb859c",
     "locked": true,
     "schema_version": 3,
     "solution": false,
     "task": false
    }
   },
   "outputs": [],
   "source": [
    "import numpy as np\n",
    "import matplotlib.pyplot as plt\n",
    "import scipy\n",
    "import scipy.io.wavfile\n",
    "import sklearn\n",
    "import IPython"
   ]
  },
  {
   "cell_type": "markdown",
   "id": "1ff1fcac-4c82-4f3d-b8ad-e6e53bfbb194",
   "metadata": {
    "deletable": false,
    "editable": false,
    "nbgrader": {
     "cell_type": "markdown",
     "checksum": "2863749de37263e56580dd7ed696f393",
     "grade": false,
     "grade_id": "cell-9ec952a204e03c23",
     "locked": true,
     "schema_version": 3,
     "solution": false,
     "task": false
    }
   },
   "source": [
    "### Aufgabe 1: Fast Fourier Transform\n",
    "\n",
    "Anbei findet ihr die Audiodatei, mit welcher das Spektrogramm aus Blatt 3 erzeugt wurde. Im Folgenden möchten wir selbst das Spektrogramm erzeugen, in welchem die Frequenzen über die Zeit geplottet werden."
   ]
  },
  {
   "cell_type": "markdown",
   "id": "6e45419f",
   "metadata": {
    "deletable": false,
    "editable": false,
    "nbgrader": {
     "cell_type": "markdown",
     "checksum": "a7727828ef4cdcc02de4fb1b5f26140e",
     "grade": false,
     "grade_id": "cell-0302d512fc1ec3d8",
     "locked": true,
     "schema_version": 3,
     "solution": false,
     "task": false
    }
   },
   "source": [
    "**1.** Erzeugt im ersten Schritt eine Zeit-Frequenz-Repräsentation `spectrogram_data`, indem ihr die Amplituden der Frequenzen im Signal in mehreren Zeitintervallen berechnet.\n",
    "\n",
    "Nutzt hierzu die gegebene Fensterbreite `fft_size` und -verschiebung `fft_shift`,\n",
    "- multipliziert jedes Fenster mit der Fensterfunktion `window_func`,\n",
    "- berechnet die FFT, und\n",
    "- berechnet den Logarithmus auf den Fenstern.\n",
    "\n",
    "_Hinweis_: `range(start, end, step)` und `np.fft.rfft` können hier sehr hilfreich sein."
   ]
  },
  {
   "cell_type": "code",
   "execution_count": null,
   "id": "2b16b656",
   "metadata": {
    "deletable": false,
    "editable": false,
    "nbgrader": {
     "cell_type": "code",
     "checksum": "c9f1961acc655bdbf2c008e6528e9fac",
     "grade": false,
     "grade_id": "cell-c7f70b73c2ea1900",
     "locked": true,
     "schema_version": 3,
     "solution": false,
     "task": false
    }
   },
   "outputs": [],
   "source": [
    "sampling_rate, data = scipy.io.wavfile.read('telephone.wav')\n",
    "\n",
    "fft_size = 2048\n",
    "fft_shift = 1024\n",
    "window_func = np.blackman(fft_size)"
   ]
  },
  {
   "cell_type": "code",
   "execution_count": null,
   "id": "416c7c83",
   "metadata": {
    "deletable": false,
    "nbgrader": {
     "cell_type": "code",
     "checksum": "579066967f9f8f990c84b041de94574a",
     "grade": true,
     "grade_id": "cell-ade20ae6d8b02fb9",
     "locked": false,
     "points": 1,
     "schema_version": 3,
     "solution": true,
     "task": false
    }
   },
   "outputs": [],
   "source": [
    "spectrogram_data = []\n",
    "\n",
    "# YOUR CODE HERE\n",
    "raise NotImplementedError()"
   ]
  },
  {
   "cell_type": "markdown",
   "id": "707c40f6",
   "metadata": {
    "deletable": false,
    "editable": false,
    "nbgrader": {
     "cell_type": "markdown",
     "checksum": "e332de645f0c0a81d761d948c39266e6",
     "grade": false,
     "grade_id": "cell-d9d90f7df34a8fe9",
     "locked": true,
     "schema_version": 3,
     "solution": false,
     "task": false
    }
   },
   "source": [
    "**2.** Generiert dann im zweiten Schritt das Spektrogramm basierend auf eurer Zeit-Frequenz-Repräsentation `spectromgram_data`.\n",
    "\n",
    "_Hinweis_: Hier kann euch `plt.imshow` weiterhelfen."
   ]
  },
  {
   "cell_type": "code",
   "execution_count": null,
   "id": "0fa489c6",
   "metadata": {
    "deletable": false,
    "nbgrader": {
     "cell_type": "code",
     "checksum": "f85010ada858c565270df38cc2b5367a",
     "grade": true,
     "grade_id": "cell-7d4296e00ac8bbbf",
     "locked": false,
     "points": 1,
     "schema_version": 3,
     "solution": true,
     "task": false
    }
   },
   "outputs": [],
   "source": [
    "plt.figure(figsize=(6,6))\n",
    "\n",
    "# YOUR CODE HERE\n",
    "raise NotImplementedError()\n",
    "\n",
    "plt.yticks(np.array(range(0, 18)) * (sampling_rate / fft_shift), np.array(range(0, 18)))\n",
    "plt.ylabel(\"Zeit [s]\")\n",
    "plt.colorbar()"
   ]
  },
  {
   "cell_type": "markdown",
   "id": "917ce57f",
   "metadata": {},
   "source": []
  },
  {
   "cell_type": "markdown",
   "id": "9715b259-627a-4ac9-a82c-82e75a126f6d",
   "metadata": {
    "deletable": false,
    "editable": false,
    "nbgrader": {
     "cell_type": "markdown",
     "checksum": "9c64016fed6ecbb5478168c5aaa878c3",
     "grade": false,
     "grade_id": "cell-35c200da97e1f08a",
     "locked": true,
     "schema_version": 3,
     "solution": false,
     "task": false
    }
   },
   "source": [
    "### 2. Aufgabe: EMG\n",
    "\n",
    "Im Ordner findet ihr zwei Dateien mit EMG-Aufnahmen `emg_train.npy`, `emg_test.npy` des Unterarms (Elektrodenposition vergl. Bild), sowie entsprechende Labels `emg_train_labels.npy`, `emg_test_labels.npy` (siehe `elek_position.png`).\n",
    "\n",
    "<img src=\"elek_position.png\" style=\"width: 30%\">"
   ]
  },
  {
   "cell_type": "code",
   "execution_count": null,
   "id": "aa4eedc9-6fa2-4c18-ae17-09d55243c877",
   "metadata": {
    "deletable": false,
    "editable": false,
    "nbgrader": {
     "cell_type": "code",
     "checksum": "f4dc5c58b9fa50a34158252381885109",
     "grade": false,
     "grade_id": "cell-cdb255434008da94",
     "locked": true,
     "schema_version": 3,
     "solution": false,
     "task": false
    }
   },
   "outputs": [],
   "source": [
    "emg_train = np.load(\"emg_train.npy\")\n",
    "emg_test = np.load(\"emg_test.npy\")\n",
    "\n",
    "train_labels = np.load(\"emg_train_labels.npy\")\n",
    "test_labels = np.load(\"emg_test_labels.npy\")\n",
    "\n",
    "emg_test.shape, test_labels.shape"
   ]
  },
  {
   "cell_type": "markdown",
   "id": "b8f29fd5",
   "metadata": {
    "deletable": false,
    "editable": false,
    "nbgrader": {
     "cell_type": "markdown",
     "checksum": "f65aa2c2b89f587013200a0662cca8f1",
     "grade": false,
     "grade_id": "cell-a2fc2a4d634d52bb",
     "locked": true,
     "schema_version": 3,
     "solution": false,
     "task": false
    }
   },
   "source": [
    "In den Aufnahmen ist die Hand jeweils am Anfang entspannt (Labelwert 0) und wird dann zuerst stark (Labelwert 2) und dann weniger stark (Labelwert 1) geballt. Die Daten sind mit einer Frequenz von 1000 Hz aufgenommen.\n",
    "\n",
    "Die Labels geben die Griffstärke für Fenster der Länge 250 ms an."
   ]
  },
  {
   "cell_type": "code",
   "execution_count": null,
   "id": "f5c32328-40be-4b46-a0cb-4626b2594b65",
   "metadata": {
    "deletable": false,
    "editable": false,
    "nbgrader": {
     "cell_type": "code",
     "checksum": "5b1e541776e0054cd33ef5b084b8181c",
     "grade": false,
     "grade_id": "cell-ff02bfa3159d599d",
     "locked": true,
     "schema_version": 3,
     "solution": false,
     "task": false
    }
   },
   "outputs": [],
   "source": [
    "plt.figure(figsize=(10,5))\n",
    "\n",
    "ax1 = plt.subplot(2, 1, 1)\n",
    "plt.plot(emg_train)\n",
    "plt.gca().set_title('EMG waveform (training data)')\n",
    "plt.xlabel(\"Time [ms]\")\n",
    "plt.ylabel(\"Amplified EMG value\")\n",
    "\n",
    "ax2 = ax1.twinx() \n",
    "plt.plot(np.repeat(train_labels, 250), c='orange')\n",
    "plt.ylabel(\"Reference Label\")\n",
    "\n",
    "ax1 = plt.subplot(2, 1, 2)\n",
    "plt.plot(emg_test)\n",
    "plt.gca().set_title('EMG waveform (test data)')\n",
    "plt.xlabel(\"Time [ms]\")\n",
    "plt.ylabel(\"Amplified EMG value\")\n",
    "\n",
    "ax2 = ax1.twinx() \n",
    "plt.plot(np.repeat(test_labels, 250), c='orange')\n",
    "plt.ylabel(\"Reference Label\")\n",
    "\n",
    "plt.tight_layout()"
   ]
  },
  {
   "cell_type": "markdown",
   "id": "5e6483db-1bc7-415d-9bdb-79a2c4f9e09d",
   "metadata": {
    "deletable": false,
    "editable": false,
    "nbgrader": {
     "cell_type": "markdown",
     "checksum": "87dffb66692de139f9cd4eb30c44eab1",
     "grade": false,
     "grade_id": "cell-f13c97dad5ca5bf3",
     "locked": true,
     "schema_version": 3,
     "solution": false,
     "task": false
    }
   },
   "source": [
    "**1.** Feature Extraktion\n",
    "- Fenstert das Signal in 250 ms Fenster  \n",
    "- Berechnet auf jedem Fenster ein selbstgewähltes Feature, bspw: Energie im 120 Hz Frequenzbin, Gesamtenergie, Summe, Durchschnitt o.Ä.   \n",
    "- Plottet euer Feature "
   ]
  },
  {
   "cell_type": "code",
   "execution_count": null,
   "id": "05ccf5c6-b36a-4abf-b6d0-c2f5b3f85bed",
   "metadata": {
    "deletable": false,
    "nbgrader": {
     "cell_type": "code",
     "checksum": "58a1d99d26c286fcf25b44f86a0ab93d",
     "grade": true,
     "grade_id": "cell-7366526c9b3d7bfe",
     "locked": false,
     "points": 1.5,
     "schema_version": 3,
     "solution": true,
     "task": false
    }
   },
   "outputs": [],
   "source": [
    "train_features = []\n",
    "test_features = []\n",
    "\n",
    "# YOUR CODE HERE\n",
    "raise NotImplementedError()"
   ]
  },
  {
   "cell_type": "markdown",
   "id": "4896032e",
   "metadata": {
    "deletable": false,
    "editable": false,
    "nbgrader": {
     "cell_type": "markdown",
     "checksum": "87fa45e900fa12b5e4ef9555627613ab",
     "grade": false,
     "grade_id": "cell-e58ca6af9ce75897",
     "locked": true,
     "schema_version": 3,
     "solution": false,
     "task": false
    }
   },
   "source": [
    "**2.** Ist dieses Feature geeignet, die Intensität des Greifens zu repräsentieren?"
   ]
  },
  {
   "cell_type": "markdown",
   "id": "d4b6bc0d",
   "metadata": {
    "deletable": false,
    "nbgrader": {
     "cell_type": "markdown",
     "checksum": "889fdef224a46a9ae887e7601c001dec",
     "grade": true,
     "grade_id": "cell-24949034a6537b97",
     "locked": false,
     "points": 0.5,
     "schema_version": 3,
     "solution": true,
     "task": false
    }
   },
   "source": [
    "YOUR ANSWER HERE"
   ]
  },
  {
   "cell_type": "markdown",
   "id": "71f35807-6727-433a-9fa6-9b87a78dfd83",
   "metadata": {
    "deletable": false,
    "editable": false,
    "nbgrader": {
     "cell_type": "markdown",
     "checksum": "d7a17185f8e8e5751f444a5b3ba8b67f",
     "grade": false,
     "grade_id": "cell-3a6d6de619842c34",
     "locked": true,
     "schema_version": 3,
     "solution": false,
     "task": false
    }
   },
   "source": [
    "**3.** Testet euer Feature mit einem Token Klassifikator aus der VL (KNN, SVM, ....). Trainiert hierzu den Klassifikator mit den Trainingsdaten und klassifiziert mit dem trainierten Klassifikator die Testdaten.\n",
    "\n",
    "_Hinweis_: Nutzt hier gerne `sklearn`!"
   ]
  },
  {
   "cell_type": "code",
   "execution_count": null,
   "id": "46f08328-e84a-4d5a-a5f0-e2ab02628b46",
   "metadata": {
    "deletable": false,
    "nbgrader": {
     "cell_type": "code",
     "checksum": "1f8f9a2597af5258f8cffd3785d7fdc7",
     "grade": true,
     "grade_id": "cell-5d2a94dce46cfc47",
     "locked": false,
     "points": 0.5,
     "schema_version": 3,
     "solution": true,
     "task": false
    }
   },
   "outputs": [],
   "source": [
    "# YOUR CODE HERE\n",
    "raise NotImplementedError()"
   ]
  },
  {
   "cell_type": "markdown",
   "id": "d2e9b2e9",
   "metadata": {
    "deletable": false,
    "editable": false,
    "nbgrader": {
     "cell_type": "markdown",
     "checksum": "6dcd611b449cd5e0a7b24dc1a4459bee",
     "grade": false,
     "grade_id": "cell-cc5f79b3b77f4f88",
     "locked": true,
     "schema_version": 3,
     "solution": false,
     "task": false
    }
   },
   "source": [
    "**4.**\n",
    "Entspricht die erzielte Akkuratheit eurer Erwartung aus **2.**? Wie könnt ihr die Akkuratheit verbessern? **Achtung**: Eure Idee muss nicht umgesetzt werden!"
   ]
  },
  {
   "cell_type": "markdown",
   "id": "cb7e8c78",
   "metadata": {
    "deletable": false,
    "nbgrader": {
     "cell_type": "markdown",
     "checksum": "404bf175bf2e0c84e11385a5f568bfed",
     "grade": true,
     "grade_id": "cell-fbf1a2a97219bf6b",
     "locked": false,
     "points": 0.5,
     "schema_version": 3,
     "solution": true,
     "task": false
    }
   },
   "source": [
    "YOUR ANSWER HERE"
   ]
  },
  {
   "cell_type": "markdown",
   "id": "4e5eac45",
   "metadata": {
    "deletable": false,
    "editable": false,
    "nbgrader": {
     "cell_type": "markdown",
     "checksum": "86cd185735d34ca56ca762a2d1be8bd1",
     "grade": false,
     "grade_id": "cell-725bf17b7dbbd241",
     "locked": true,
     "schema_version": 3,
     "solution": false,
     "task": false
    }
   },
   "source": [
    "### 3. Aufgabe: Spracherkennung\n",
    "\n",
    "Im Folgenden wollen wir eine Nutzerschnittstelle mithilfe von Spracherkennung bauen."
   ]
  },
  {
   "cell_type": "markdown",
   "id": "f89c1e16",
   "metadata": {
    "deletable": false,
    "editable": false,
    "nbgrader": {
     "cell_type": "markdown",
     "checksum": "8970967e66f3f8edee5a90bb650f5099",
     "grade": false,
     "grade_id": "cell-a2716af96809da21",
     "locked": true,
     "schema_version": 3,
     "solution": false,
     "task": false
    }
   },
   "source": [
    "Installiert zunächst die folgenden beiden Pakete in eurer (virtuellen) python Umgebung:\n",
    "\n",
    "1. Spracherkenner (unter anderem basierend auf *Google Web Speech API*): https://pypi.org/project/SpeechRecognition/\n",
    "2. Text to Speech (unter anderem basierend auf *Google Text to Speech (TTS) API*): https://pypi.org/project/gTTS/"
   ]
  },
  {
   "cell_type": "code",
   "execution_count": null,
   "id": "69fc7699-52ea-4754-99a1-478e6b490b4e",
   "metadata": {
    "deletable": false,
    "editable": false,
    "nbgrader": {
     "cell_type": "code",
     "checksum": "2aa6862d052a2734bc64b0174df4f5fe",
     "grade": false,
     "grade_id": "cell-7bd7acfdf7462987",
     "locked": true,
     "schema_version": 3,
     "solution": false,
     "task": false
    }
   },
   "outputs": [],
   "source": [
    "import speech_recognition as sr\n",
    "from gtts import gTTS"
   ]
  },
  {
   "cell_type": "markdown",
   "id": "1c13cf60",
   "metadata": {
    "deletable": false,
    "editable": false,
    "nbgrader": {
     "cell_type": "markdown",
     "checksum": "4e0a1047f78d18260d246fc9df1a2e19",
     "grade": false,
     "grade_id": "cell-e1f684ccb3275c83",
     "locked": true,
     "schema_version": 3,
     "solution": false,
     "task": false
    }
   },
   "source": [
    "**1.** Implementiert nun zunächst zwei Hilfsfunktionen (unter Verwendung der beiden Pakete).\n",
    "\n",
    "- `audio2text` nimmt einen Pfad zu einer englischen Audiodatei und gibt die gesprochene Sprache als String zurück\n",
    "\n",
    "- `text2audio` nimmt einen (englischen) String und Pfad und schreibt an diesen Pfad eine Audiodatei mit dem vorgelesenen Text  "
   ]
  },
  {
   "cell_type": "code",
   "execution_count": null,
   "id": "d444801c-87a2-483d-b921-3e384b0ab5a5",
   "metadata": {
    "deletable": false,
    "nbgrader": {
     "cell_type": "code",
     "checksum": "0f8daa66e798e7b58fc72121bf0d4a14",
     "grade": true,
     "grade_id": "cell-baf51c0ec60af0c7",
     "locked": false,
     "points": 1,
     "schema_version": 3,
     "solution": true,
     "task": false
    }
   },
   "outputs": [],
   "source": [
    "def audio2text(audio_filename):\n",
    "    # YOUR CODE HERE\n",
    "    raise NotImplementedError()\n",
    "    \n",
    "def text2audio(text, audio_filename): \n",
    "    # YOUR CODE HERE\n",
    "    raise NotImplementedError()\n",
    "    \n",
    "def mp3wavconverter(audio_filename):\n",
    "    # YOUR CODE HERE\n",
    "    raise NotImplementedError()\n",
    "    \n",
    "# Testet eure Implementierung: \n",
    "text2audio(\"I'd like to go to Namibia. I'm from Germany.\", \"test.mp3\")\n",
    "IPython.display.Audio('test.mp3', autoplay=True)"
   ]
  },
  {
   "cell_type": "markdown",
   "id": "749ceb11-9089-4fcb-bf0e-2dac0c5abd79",
   "metadata": {
    "deletable": false,
    "editable": false,
    "nbgrader": {
     "cell_type": "markdown",
     "checksum": "901a5c9f8bf78efcb100565c873a684f",
     "grade": false,
     "grade_id": "cell-e2b06bfefa27cedd",
     "locked": true,
     "points": 6,
     "schema_version": 3,
     "solution": false,
     "task": true
    }
   },
   "source": [
    "**2.** Überlegt euch eine einfache Applikation für eine Nutzerschnittstelle, die Spracherkennung nutzt. Für diese Aufgabe könnt ihr hierunter so viele Zellen einfügen wie nötig.\n",
    "- Nutzt für die Applikation die eben implementierten Funktionen `audio2text` und `text2audio`. \n",
    "- Ihr solltet min. zwei mögliche Nutzereingaben und min. zwei mögliche Systemausgaben erlauben.\n",
    "- Eure Applikation sollte vom Umfang in etwa den gleichen Arbeitsaufwand haben wie alle obigen Aufgaben kombiniert (mehr ist natürlich erlaubt, gibt aber keine extra Punkte).\n",
    "- Eure Applikation sollte als Eingabe Sprache annehmen und Sprache ausgeben. Die Eingabe empfiehlt sich via `text2Audio` zu simulieren.\n",
    "\n",
    "_Hinweis_: Mögliche Ideen wären eine U-Bahn Ansage/Navigation, ein Dungeon (ie \"Sie können links und rechts gehen\", \"ich gehe rechts.\" ...), etc\n",
    "\n"
   ]
  }
 ],
 "metadata": {
  "kernelspec": {
   "display_name": "Python 3 (ipykernel)",
   "language": "python",
   "name": "python3"
  },
  "language_info": {
   "codemirror_mode": {
    "name": "ipython",
    "version": 3
   },
   "file_extension": ".py",
   "mimetype": "text/x-python",
   "name": "python",
   "nbconvert_exporter": "python",
   "pygments_lexer": "ipython3",
   "version": "3.10.6"
  },
  "vscode": {
   "interpreter": {
    "hash": "0ebd0b701ff4c2363b86f7237a81d4bde3162c261c985e5f11c480c0a9ebf323"
   }
  }
 },
 "nbformat": 4,
 "nbformat_minor": 5
}

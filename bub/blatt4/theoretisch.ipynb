{
 "cells": [
  {
   "attachments": {},
   "cell_type": "markdown",
   "id": "5f99883e",
   "metadata": {
    "deletable": false,
    "editable": false,
    "nbgrader": {
     "cell_type": "markdown",
     "checksum": "0836ca89810628c5eb94a5f96bfa405c",
     "grade": false,
     "grade_id": "cell-3b95a240bfb4e376",
     "locked": true,
     "schema_version": 3,
     "solution": false,
     "task": false
    }
   },
   "source": [
    "## Theoretische Aufgaben – Blatt4"
   ]
  },
  {
   "attachments": {},
   "cell_type": "markdown",
   "id": "0f5285d6",
   "metadata": {
    "deletable": false,
    "editable": false,
    "nbgrader": {
     "cell_type": "markdown",
     "checksum": "4fe209a84a83a741241960a52ee91dd8",
     "grade": false,
     "grade_id": "cell-4f6cd4936872cacf",
     "locked": true,
     "schema_version": 3,
     "solution": false,
     "task": false
    }
   },
   "source": [
    "Beantwortet die inhaltlichen Fragen schriftlich und verwendet für die Statistikaufgaben eine mathematische Notation und keine Textbeschreibung oder graphische Deduktion. Ohne Rechenweg können keine Punkte vergeben werden.\n",
    "\n",
    "_Hinweis_: Beantwortet die folgenden Fragen ohne Programmierung.\n",
    "\n",
    "_Tipp_: Ihr könnt in den Markdown Zellen auch Latex verwenden oder Bilder einfügen."
   ]
  },
  {
   "attachments": {},
   "cell_type": "markdown",
   "id": "80881398",
   "metadata": {
    "deletable": false,
    "editable": false,
    "nbgrader": {
     "cell_type": "markdown",
     "checksum": "7647582215c7b63095abff0a6a7c8666",
     "grade": false,
     "grade_id": "cell-5abb67d6b6e8d23e",
     "locked": true,
     "points": 2,
     "schema_version": 3,
     "solution": false,
     "task": true
    }
   },
   "source": [
    "### Aufgabe 1: Allgemeines\n",
    "\n",
    "1. Beschriftet in der untenstehenden Grafik die einzelnen Komponenten des Skelettmuskels. Was bildet zusammen eine Motorische Einheit?\n",
    "\n",
    "![muskel_struktur.png](muskel_struktur.png)\n",
    "\n",
    "2. Nennt vier physikalische Größen und die dazugehörigen perzeptuellen Eigenschaften, die beim Hören eines Acapella-Duetts auftreten.\n",
    "\n",
    "3. Relativ zu welchem konkreten Wert wird der Schalldruckpegel angegeben? \n",
    "\n",
    "4. Was ist ein Phonem? Was ein Phon?\n"
   ]
  },
  {
   "attachments": {},
   "cell_type": "markdown",
   "id": "8d0758a0-7dc3-489c-b4a1-35c96a00cb6f",
   "metadata": {},
   "source": []
  },
  {
   "attachments": {},
   "cell_type": "markdown",
   "id": "0cf5eee2-cd8d-41b1-9e9d-d79081d4b92d",
   "metadata": {
    "deletable": false,
    "editable": false,
    "nbgrader": {
     "cell_type": "markdown",
     "checksum": "ec37865e0377fd5450e21c48bdfaec39",
     "grade": false,
     "grade_id": "cell-a09f3a04b54f7a6c",
     "locked": true,
     "points": 5,
     "schema_version": 3,
     "solution": false,
     "task": true
    }
   },
   "source": [
    "### Aufgabe 2: Sprachsignalverarbeitung und Spracherkennung\n",
    "\n",
    "1. Aus welchen Gründen hat man die Wörter `Cepstrum` und `Quefrenz` geschöpft? Welche Einheit verwenden wir für den Spektral- und Quefrenzbereich?\n",
    "\n",
    "2. Unten seht ihr das Spektrogramm eines Audiosignals von einem englischen Wort.\n",
    "Schätzt, welches Wort am besten passt:  \n",
    "(a) talking (b) told (c) says (d) said (e) speak (f) spoken (g) utter (h) utters  \n",
    "Nutzt für eure Antwort die verschiedenen Artikulationsarten und erklärt woran ihr diese erkennt.\n",
    "\n",
    "![spectrogram.png](spectrogram.png)\n",
    "\n",
    "3. In der Vorlesung haben wir das Quelle-Filter-Modell behandelt. Was ist beim Sprechen - physiologisch gesehen - die Quelle und was der Filter?\n",
    "\n",
    "4. Mel-Frequency Cepstral Coefficients sind in der Spracherkennung oft verwendete Features. Wie werden MFCCs aus einer Audio-Wellenform berechnet? Warum verwenden wir in der Spracherkennung Mel-Filterbänke?\n",
    "\n",
    "5. In der Sprachverarbeitung verwenden wir üblicherweise einen Fenstervorschub (Frame Shift), der kürzer als die Fensterlänge ist. Warum?\n"
   ]
  },
  {
   "attachments": {},
   "cell_type": "markdown",
   "id": "a68d2f2c-47b7-4239-9e52-bb0c2c538000",
   "metadata": {},
   "source": []
  },
  {
   "attachments": {},
   "cell_type": "markdown",
   "id": "10cb1159",
   "metadata": {
    "deletable": false,
    "editable": false,
    "nbgrader": {
     "cell_type": "markdown",
     "checksum": "d269e53a9ce2c70224d3d0567deeba90",
     "grade": false,
     "grade_id": "cell-faeca15a91913a05",
     "locked": true,
     "points": 5,
     "schema_version": 3,
     "solution": false,
     "task": true
    }
   },
   "source": [
    "### Aufgabe 3: Bigramm-Modelle\n",
    "\n",
    "Gegeben sind drei Sätze:\n",
    "  \n",
    "    1. Weiße Borsten bürsten besser als besonders schwarze Borsten bürsten.\n",
    "    2. Bürsten mit harten Borsten bürsten besonders sauber.\n",
    "    3. Die Bürsten mit schwarzen Borsten bürsten besser als die Bürsten mit blauen Borsten bürsten.\n",
    "\n",
    "1. Welche Wahrscheinlichkeit würde ein Bigramm-Sprachmodell, welches auf diesen Sätzen trainiert wurde, dem Satz `Weiße Borsten bürsten besonders sauber.` zuweisen?\n",
    "\n",
    "2. Welche Probleme würden auftreten, wenn man versuchen würde die Wahrscheinlichkeit für den Satz `Schwarze Borsten bleiben besser.` zu berechnen?\n",
    "\n",
    "3. Wie könnte man die Probleme von Teilaufgabe 2 beheben?\n"
   ]
  },
  {
   "attachments": {},
   "cell_type": "markdown",
   "id": "714838e6",
   "metadata": {},
   "source": []
  }
 ],
 "metadata": {
  "kernelspec": {
   "display_name": "Python 3 (ipykernel)",
   "language": "python",
   "name": "python3"
  },
  "language_info": {
   "codemirror_mode": {
    "name": "ipython",
    "version": 3
   },
   "file_extension": ".py",
   "mimetype": "text/x-python",
   "name": "python",
   "nbconvert_exporter": "python",
   "pygments_lexer": "ipython3",
   "version": "3.10.4"
  }
 },
 "nbformat": 4,
 "nbformat_minor": 5
}

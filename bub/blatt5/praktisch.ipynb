{
 "cells": [
  {
   "cell_type": "markdown",
   "id": "32c4a1cf",
   "metadata": {
    "deletable": false,
    "editable": false,
    "nbgrader": {
     "cell_type": "markdown",
     "checksum": "b23beba56517e219bee2fdccc188ed20",
     "grade": false,
     "grade_id": "cell-f0e08049127dc5a5",
     "locked": true,
     "schema_version": 3,
     "solution": false,
     "task": false
    }
   },
   "source": [
    "## Praktische Aufgaben – Blatt 5"
   ]
  },
  {
   "cell_type": "code",
   "execution_count": null,
   "id": "15ba44ca",
   "metadata": {
    "deletable": false,
    "editable": false,
    "nbgrader": {
     "cell_type": "code",
     "checksum": "3c1d3c26be32ab026e614b4e54408d76",
     "grade": false,
     "grade_id": "cell-21216987b0eb859c",
     "locked": true,
     "schema_version": 3,
     "solution": false,
     "task": false
    }
   },
   "outputs": [],
   "source": [
    "import numpy as np\n",
    "import matplotlib.pyplot as plt\n",
    "import sklearn"
   ]
  },
  {
   "cell_type": "markdown",
   "id": "0ac24490-d39b-4dc1-a354-f65b17d68141",
   "metadata": {
    "deletable": false,
    "editable": false,
    "nbgrader": {
     "cell_type": "markdown",
     "checksum": "143bad5988074e6219545b9a5a283985",
     "grade": false,
     "grade_id": "cell-4a8695883fa626a6",
     "locked": true,
     "schema_version": 3,
     "solution": false,
     "task": false
    }
   },
   "source": [
    "### Vorausgesetzte Pakete\n",
    "\n",
    "Installiert euch bitte die folgenden Pakete in eure python Umgebung:\n",
    "- https://hmmlearn.readthedocs.io/en/latest/index.html\n",
    "- https://pandas.pydata.org/pandas-docs/stable/index.html\n",
    "- https://seaborn.pydata.org/\n",
    "\n",
    "Dies könnt ihr mit diesem Befehl tun: \n",
    "```\n",
    "pip install hmmlearn pandas seaborn\n",
    "```"
   ]
  },
  {
   "cell_type": "code",
   "execution_count": null,
   "id": "9a44b158-6bc5-4409-8a50-2b45276f895a",
   "metadata": {
    "deletable": false,
    "editable": false,
    "nbgrader": {
     "cell_type": "code",
     "checksum": "e0113c00eec003cea67e666d1b6daa02",
     "grade": false,
     "grade_id": "cell-4f46465ec3d8dc93",
     "locked": true,
     "schema_version": 3,
     "solution": false,
     "task": false
    }
   },
   "outputs": [],
   "source": [
    "import hmmlearn.hmm as hmm\n",
    "import pandas as pd\n",
    "import seaborn as sns"
   ]
  },
  {
   "cell_type": "markdown",
   "id": "e3ef56b0-28df-4db7-a0d9-33bb0cfa45fb",
   "metadata": {
    "deletable": false,
    "editable": false,
    "nbgrader": {
     "cell_type": "markdown",
     "checksum": "7f66fe3e0e79249a75278fc145b0b1ec",
     "grade": false,
     "grade_id": "cell-bbd83348ecc9b54a",
     "locked": true,
     "schema_version": 3,
     "solution": false,
     "task": false
    }
   },
   "source": [
    "### Vorbereitung\n",
    "\n",
    "Im Folgenden möchten wir Bewegungsdaten automatisch erkennen und segmentieren.\n",
    "Es gibt drei verschiedene Bewegungen.\n",
    "Die Daten sind mit verschiedenen Sensoren (EMG, Akzelerometer, Gyroskop und Goniometer) aufgenommen worden. Diese sind um das Knie herum angebracht und tasten mit 1000 Hz ab. Anbei eine Grafik der Sensorpositionen:\n",
    "\n",
    "<img src=\"SensorPlacement.png\" style=\"width: 30%\">"
   ]
  },
  {
   "cell_type": "code",
   "execution_count": null,
   "id": "8ff7b130-a479-481a-a21d-eeb2cdf597af",
   "metadata": {
    "deletable": false,
    "editable": false,
    "nbgrader": {
     "cell_type": "code",
     "checksum": "2aa43749d9281cfaece8957575929c55",
     "grade": false,
     "grade_id": "cell-bbaba84ce4f2a4cb",
     "locked": true,
     "schema_version": 3,
     "solution": false,
     "task": false
    }
   },
   "outputs": [],
   "source": [
    "channels = np.array([\n",
    "        'EMG1', 'EMG2', 'EMG3', 'EMG4',\n",
    "        'Airborne',\n",
    "        'Piezo',\n",
    "        'AccUp1', 'AccUp2', 'AccUp3',\n",
    "        'Gonio1',\n",
    "        'AccLow1', 'AccLow2', 'AccLow3',\n",
    "        'Gonio2',\n",
    "        'GyroUp1', 'GyroUp2', 'GyroUp3',\n",
    "        'Force',\n",
    "        'GyroLow1', 'GyroLow2', 'GyroLow3'\n",
    "    ])\n",
    "\n",
    "# Laden der Test und Trainingsdaten\n",
    "data, labels = np.load('data.npy')[:, :-1], pd.read_csv('data.csv')[:-1]\n",
    "labels['Duration'] = labels['End'] - labels['Start']\n",
    "\n",
    "labels.head()"
   ]
  },
  {
   "cell_type": "markdown",
   "id": "1ff1fcac-4c82-4f3d-b8ad-e6e53bfbb194",
   "metadata": {
    "deletable": false,
    "editable": false,
    "nbgrader": {
     "cell_type": "markdown",
     "checksum": "1fc8abf67de91c1a188d7a743f6ae730",
     "grade": false,
     "grade_id": "cell-9ec952a204e03c23",
     "locked": true,
     "schema_version": 3,
     "solution": false,
     "task": false
    }
   },
   "source": [
    "### Aufgabe 1: Visualisierung "
   ]
  },
  {
   "cell_type": "markdown",
   "id": "8dd9fe92",
   "metadata": {
    "deletable": false,
    "editable": false,
    "nbgrader": {
     "cell_type": "markdown",
     "checksum": "698185690e9fd4426f74c7085d64dbd0",
     "grade": false,
     "grade_id": "cell-5b72294b0b1a87eb",
     "locked": true,
     "schema_version": 3,
     "solution": false,
     "task": false
    }
   },
   "source": [
    "**1.** Plottet die durchschnittliche Dauer der verschiedenen Aktivitäten/Bewegungen mit ihren jeweiligen Standardabweichungen. Auf eurer x-Achse sollen also die drei Aktivitäten und auf der y-Achse die Durchschnittsdauern mit den Standardabweichungen als Fehlerbalken abgebildet werden.\n",
    "\n",
    "Macht euch hierfür mit `seaborn` (aka `sns`) vertraut und nutzt dessen Funktion `sns.barplot` (https://seaborn.pydata.org/generated/seaborn.barplot.html?highlight=barplot#seaborn.barplot). Achtet hierbei darauf, die Funktion idiomatisch zu nutzen, also so wie von `seaborn` vorgesehen. Schaut euch dazu gern ein paar Beispiele an."
   ]
  },
  {
   "cell_type": "code",
   "execution_count": null,
   "id": "416c7c83",
   "metadata": {
    "deletable": false,
    "nbgrader": {
     "cell_type": "code",
     "checksum": "adc4b4f82da105566eb0626cd7affe37",
     "grade": true,
     "grade_id": "cell-ade20ae6d8b02fb9",
     "locked": false,
     "points": 1,
     "schema_version": 3,
     "solution": true,
     "task": false
    }
   },
   "outputs": [],
   "source": [
    "# YOUR CODE HERE\n",
    "raise NotImplementedError()"
   ]
  },
  {
   "cell_type": "markdown",
   "id": "65d051aa",
   "metadata": {
    "deletable": false,
    "editable": false,
    "nbgrader": {
     "cell_type": "markdown",
     "checksum": "184c08e94fce96eda1bcaa2b8584082c",
     "grade": false,
     "grade_id": "cell-8acde0f3378a5786",
     "locked": true,
     "schema_version": 3,
     "solution": false,
     "task": false
    }
   },
   "source": [
    "**2.** Plottet jeweils exemplarisch den Goniometer (Winkelmesser) Kanal `Gonio2` für die jeweils erste Instanz der drei Bewegungen. Ihr könnt hierfür entweder `seaborn` oder `plt.plot()` nutzen. \n",
    "\n",
    "_Hinweis_: Wenn ihr möchtet, könnt ihr für diese Aufgabe eine sehr einfache Lösung mit `numpy` slicing (`arr[start:end]`) nutzen, um die wesentlichen Datensegmente zu bekommen. "
   ]
  },
  {
   "cell_type": "code",
   "execution_count": null,
   "id": "b6663eaf-8f9c-4195-b3a9-70909626812a",
   "metadata": {
    "deletable": false,
    "nbgrader": {
     "cell_type": "code",
     "checksum": "37c58e4eab6272b413bc4593929f9078",
     "grade": true,
     "grade_id": "cell-b465bd1fa615b46f",
     "locked": false,
     "points": 1,
     "schema_version": 3,
     "solution": true,
     "task": false
    }
   },
   "outputs": [],
   "source": [
    "gonio_data = data[:, channels == 'Gonio2']\n",
    "\n",
    "# YOUR CODE HERE\n",
    "raise NotImplementedError()"
   ]
  },
  {
   "cell_type": "markdown",
   "id": "baaa3c4d-fd16-4dcd-a02a-d2c7bdd756cd",
   "metadata": {
    "deletable": false,
    "editable": false,
    "nbgrader": {
     "cell_type": "markdown",
     "checksum": "905b797788031a4e4c822b0acad81dd9",
     "grade": false,
     "grade_id": "cell-729d5b637d64ad5a",
     "locked": true,
     "points": 1,
     "schema_version": 3,
     "solution": false,
     "task": true
    }
   },
   "source": [
    "**3.** Basierend auf den Plots aus 1 und 2:\n",
    "1. Sind diese drei Klassen gut trennbar?\n",
    "2. Würdet ihr hier einen Token- oder Sequenzklassikator wählen? Warum?\n",
    "   "
   ]
  },
  {
   "cell_type": "markdown",
   "id": "17c9b420-eac9-4c3b-85b6-5eee50a7fe72",
   "metadata": {},
   "source": []
  },
  {
   "cell_type": "markdown",
   "id": "dc058c72-6b85-4cca-80c6-033f359faa6b",
   "metadata": {
    "deletable": false,
    "editable": false,
    "nbgrader": {
     "cell_type": "markdown",
     "checksum": "6384bfb0a229dff25ee91e7162349b86",
     "grade": false,
     "grade_id": "cell-a39669f5568826bc",
     "locked": true,
     "schema_version": 3,
     "solution": false,
     "task": false
    }
   },
   "source": [
    "Die folgende Graphik zeigt den typischen Verlauf eines Ganges anhand der drei Winkel am Knöchel, Knie und an der Hüfte.\n",
    "\n",
    "<img src=\"gait_cycle.png\" style=\"width: 50%\">\n",
    "\n",
    "Graphik aus Kapitel 2, Seite 59 aus:   \n",
    "Whittle, M. W. (2007). Gait Analysis. In Gait Analysis: An Introduction. Elsevier. https://doi.org/10.1016/B978-0-7506-8883-3.X5001-6"
   ]
  },
  {
   "cell_type": "markdown",
   "id": "25a13c37",
   "metadata": {
    "deletable": false,
    "editable": false,
    "nbgrader": {
     "cell_type": "markdown",
     "checksum": "cf6bc6a33eb9f6598be017436a39a535",
     "grade": false,
     "grade_id": "cell-9219a0898e7ac3ea",
     "locked": true,
     "points": 0.5,
     "schema_version": 3,
     "solution": false,
     "task": true
    }
   },
   "source": [
    "**4.** Vergleichen wir unsere Plots mit dem Plot aus Whittle: Stellt eine Vermutung an, warum die Walk Plots \"umgekehrt\" sind, also die gegebenen Daten bei 70\\% ein Minimum haben, Whittle dort aber ein Maximum zeigt.\n",
    "   "
   ]
  },
  {
   "cell_type": "markdown",
   "id": "944c2773",
   "metadata": {},
   "source": []
  },
  {
   "cell_type": "markdown",
   "id": "fa832ca6",
   "metadata": {
    "deletable": false,
    "editable": false,
    "nbgrader": {
     "cell_type": "markdown",
     "checksum": "8d628b9e9892390883ada92a67105040",
     "grade": false,
     "grade_id": "cell-789c4a485949ed12",
     "locked": true,
     "points": 0.5,
     "schema_version": 3,
     "solution": false,
     "task": true
    }
   },
   "source": [
    "**5.** Unsere drei Plots beinhalten ähnliche Signalschnipsel. Stellt eine Vermutung an, welche Bewegung in diesem Schnipsel enthalten ist.\n"
   ]
  },
  {
   "cell_type": "markdown",
   "id": "df1fd868-a8a4-4754-a944-0e9cac5f62ff",
   "metadata": {},
   "source": []
  },
  {
   "cell_type": "markdown",
   "id": "007768cc-abb3-483e-bfd3-87104c02c045",
   "metadata": {
    "deletable": false,
    "editable": false,
    "nbgrader": {
     "cell_type": "markdown",
     "checksum": "edf813813af0ac4c1fe00fa150f26ab3",
     "grade": false,
     "grade_id": "cell-63028dd0747afe92",
     "locked": true,
     "schema_version": 3,
     "solution": false,
     "task": false
    }
   },
   "source": [
    "### Aufgabe 2: Phasenerkennung\n",
    "Im Folgenden wollen wir die einzelnen Phasen des menschlichen Ganges (VL 19, Teil 3, Folie 7ff) automatisch erkennen und hierfür ein HMM (siehe VL 11) nutzen. Hierfür nutzen wir die `hmmlearn` Bibliothek.\n",
    "\n",
    "_Dokumentation_: https://hmmlearn.readthedocs.io/en/latest/api.html#"
   ]
  },
  {
   "cell_type": "markdown",
   "id": "5ce1eff1",
   "metadata": {
    "deletable": false,
    "editable": false,
    "nbgrader": {
     "cell_type": "markdown",
     "checksum": "1a41c29f84e7ee29242e60bb5ce906b9",
     "grade": false,
     "grade_id": "cell-4292e31d573bcc6b",
     "locked": true,
     "schema_version": 3,
     "solution": false,
     "task": false
    }
   },
   "source": [
    "Nutzt ab hier nur noch `walk_data`, `walk_data_train` und `walk_durations`, die so gefiltert sind, dass sie sich auf die Aktivität _walk_ beschränken. Versucht dafür erst einmal, diese drei Datenstrukturen zu verstehen."
   ]
  },
  {
   "cell_type": "code",
   "execution_count": null,
   "id": "cfccf261-0a40-4ff0-a2de-63bc6f564cf8",
   "metadata": {
    "deletable": false,
    "editable": false,
    "nbgrader": {
     "cell_type": "code",
     "checksum": "821faa5f056800d5da238ee9bd8b768f",
     "grade": false,
     "grade_id": "cell-1b0e8d054d8d015f",
     "locked": true,
     "schema_version": 3,
     "solution": false,
     "task": false
    }
   },
   "outputs": [],
   "source": [
    "# Filtern der Daten, sodass diese nur noch die Aktivität Walk enthält.\n",
    "walk_data = [data[row['Start']:row['End']] for _, row in labels[labels['Activity'] == 'walk'].iterrows()]\n",
    "\n",
    "# Datenform, welche von hmmlearn gefordert ist. \n",
    "walk_data_train = np.concatenate(walk_data)\n",
    "walk_durations = labels['Duration'][labels['Activity'] == 'walk'].values"
   ]
  },
  {
   "cell_type": "markdown",
   "id": "4638ef30",
   "metadata": {
    "deletable": false,
    "editable": false,
    "nbgrader": {
     "cell_type": "markdown",
     "checksum": "273401e863744a61a4050b3f9667bc8d",
     "grade": false,
     "grade_id": "cell-20cfcdecee30e883",
     "locked": true,
     "schema_version": 3,
     "solution": false,
     "task": false
    }
   },
   "source": [
    "**1.** Trainiert ein GMMHMM der `hmmlearn` Bibliothek auf dem Goniometer-Kanal (`Gonio2`) der `walk_data_train`  Daten. Nutzt 5 HMM-Zustände und eine Gaussverteilung pro Mixtur."
   ]
  },
  {
   "cell_type": "code",
   "execution_count": null,
   "id": "0b95bda0-128a-43de-a0f5-f933cb5e1f67",
   "metadata": {
    "deletable": false,
    "nbgrader": {
     "cell_type": "code",
     "checksum": "6a81b90aecf6c83ce34b619d6f060460",
     "grade": true,
     "grade_id": "cell-46b434cbc5a5bf11",
     "locked": false,
     "points": 1,
     "schema_version": 3,
     "solution": true,
     "task": false
    }
   },
   "outputs": [],
   "source": [
    "model = hmm.GMMHMM()\n",
    "\n",
    "# YOUR CODE HERE\n",
    "raise NotImplementedError()"
   ]
  },
  {
   "cell_type": "markdown",
   "id": "0b3311ac",
   "metadata": {
    "deletable": false,
    "editable": false,
    "nbgrader": {
     "cell_type": "markdown",
     "checksum": "54a5757e33a6299c1e93d65ecc3a4b41",
     "grade": false,
     "grade_id": "cell-b2637ea8231238fb",
     "locked": true,
     "schema_version": 3,
     "solution": false,
     "task": false
    }
   },
   "source": [
    "**2.** Berechnet die wahrscheinlichste Zustandsfolge (`model.predict`) für die erste Walk Sequenz aus `walk_data`. Nutzt hier wieder nur den Goniometer-Kanal `Gonio2`."
   ]
  },
  {
   "cell_type": "code",
   "execution_count": null,
   "id": "fccee099",
   "metadata": {
    "deletable": false,
    "nbgrader": {
     "cell_type": "code",
     "checksum": "358a665e38b010bda93eb3737808f2bb",
     "grade": true,
     "grade_id": "cell-5e0f9dc330635f64",
     "locked": false,
     "points": 1,
     "schema_version": 3,
     "solution": true,
     "task": false
    }
   },
   "outputs": [],
   "source": [
    "prd = []\n",
    "\n",
    "# YOUR CODE HERE\n",
    "raise NotImplementedError()"
   ]
  },
  {
   "cell_type": "markdown",
   "id": "18ee670c",
   "metadata": {
    "deletable": false,
    "editable": false,
    "nbgrader": {
     "cell_type": "markdown",
     "checksum": "e96895811a3815a95bd1accdf5f52ba2",
     "grade": false,
     "grade_id": "cell-f420d6971a13a382",
     "locked": true,
     "schema_version": 3,
     "solution": false,
     "task": false
    }
   },
   "source": [
    "**3.** Plottet jetzt die erste walk Sequenz aus `walk_data` in blau und  die eben darauf berechnete Prädiktion `prd` in orange mithilfe von matplotlib."
   ]
  },
  {
   "cell_type": "code",
   "execution_count": null,
   "id": "ef37f137",
   "metadata": {
    "deletable": false,
    "nbgrader": {
     "cell_type": "code",
     "checksum": "715fcb0fcbd9d3835bcd7e8d4ddff4d1",
     "grade": true,
     "grade_id": "cell-f5adb07e3d9b6dac",
     "locked": false,
     "points": 1,
     "schema_version": 3,
     "solution": true,
     "task": false
    }
   },
   "outputs": [],
   "source": [
    "fig, ax1 = plt.subplots()\n",
    "\n",
    "# Plotten der ersten walk Sequenz\n",
    "# YOUR CODE HERE\n",
    "raise NotImplementedError()\n",
    "\n",
    "ax2 = ax1.twinx()\n",
    "\n",
    "# Plotten der Prädiktion\n",
    "# YOUR CODE HERE\n",
    "raise NotImplementedError()"
   ]
  },
  {
   "cell_type": "markdown",
   "id": "62876426-903f-4521-a6d3-3614d852d2b1",
   "metadata": {
    "deletable": false,
    "editable": false,
    "nbgrader": {
     "cell_type": "markdown",
     "checksum": "3cba1cd3f1f4e6af69ba55f1bb531445",
     "grade": false,
     "grade_id": "cell-98cd96d1a913b5c2",
     "locked": true,
     "schema_version": 3,
     "solution": false,
     "task": false
    }
   },
   "source": [
    "Einfacher **Referenzplot**\n",
    "\n",
    "Euer Plot sieht aufgrund der Initialisierung vermutlich leicht anders aus. Stellt aber für die nächsten Teilaufgaben sicher, dass wir beim Korrigieren den Plot sehen, den ihr in eurer Lösung beschreibt.\n",
    "\n",
    "<img src=\"hmm1_ref.png\" style=\"width: 50%\">"
   ]
  },
  {
   "cell_type": "markdown",
   "id": "58118857-d667-4233-aab5-bec0a245283e",
   "metadata": {
    "deletable": false,
    "editable": false,
    "nbgrader": {
     "cell_type": "markdown",
     "checksum": "552642b5f55b50c509f94bfa8293eef5",
     "grade": false,
     "grade_id": "cell-ff98fd1628981b8e",
     "locked": true,
     "points": 1,
     "schema_version": 3,
     "solution": false,
     "task": true
    }
   },
   "source": [
    "**4.** In welchem Zustand ist das HMM (Referenzplot) nach 1000 ms?\n",
    "\n",
    "**5.** Hat das HMM (Referenzplot) eine Topologie gelernt? Wenn nein, warum? Wenn ja, nennt drei Zustandsübergänge.\n",
    "\n"
   ]
  },
  {
   "cell_type": "markdown",
   "id": "f1c16662-f110-4963-8073-79e58c372cc8",
   "metadata": {},
   "source": []
  },
  {
   "cell_type": "markdown",
   "id": "20b6db1e",
   "metadata": {
    "deletable": false,
    "editable": false,
    "nbgrader": {
     "cell_type": "markdown",
     "checksum": "4b4198cb16ef633f1e513f6aab31fb9d",
     "grade": false,
     "grade_id": "cell-127f0000dcb5284b",
     "locked": true,
     "schema_version": 3,
     "solution": false,
     "task": false
    }
   },
   "source": [
    "Typischerweise modellieren wir Sequenzen in einer linearen Topologie (vgl. VL 11, Teil 2, Folie 19). Im Folgenden wollen wir deshalb ein Modell mit linearer Topologie trainieren.\n",
    "\n",
    "In `hmmlearn` könnt ihr ein Modell mit linearer Topologie mithilfe der Attribute `startprob_` und `transmat_` erstellen:\n",
    "- `startprob` ist die Verteilung der Anfangswahrscheinlichkeit pro Zustand,\n",
    "- `transmat_` gibt die Übergangswahrscheinlichkeiten in einer Matrix an (also `mtr[0,0]` ist die Wahrscheinlickeit von Zustand 0 zum Zustand 0 zu gehen)."
   ]
  },
  {
   "cell_type": "markdown",
   "id": "98e8d219",
   "metadata": {
    "deletable": false,
    "editable": false,
    "nbgrader": {
     "cell_type": "markdown",
     "checksum": "b3cb2f2b30f66b4aa3cb384d6144c20e",
     "grade": false,
     "grade_id": "cell-65351ad878d8781b",
     "locked": true,
     "schema_version": 3,
     "solution": false,
     "task": false
    }
   },
   "source": [
    "**6.** Überschreibt in einem ersten Schritt die drei Variablen `hmm_params`, `start_prob` und `transmat`. Die Wahrscheinlichkeit in einem Zustand zu bleiben soll 0,7 und in den nächsten überzugehen 0,3 betragen (außer im letzen Zustand). Nutzt wieder 5 Zustände, diesmal mit 5 Gaussverteilungen pro Zustand.\n",
    "\n",
    "_Notiz_: `**dictionary`, ist ein Pythonkürzel, welches alle `keys` des `dictionary`s als Parameternamen \n",
    "und die korrespondierenden `values` als Werte in den Funktionsaufruf einsetzt. "
   ]
  },
  {
   "cell_type": "code",
   "execution_count": null,
   "id": "fcaa9442-f7f0-43a3-9c48-8e2481afc72d",
   "metadata": {
    "deletable": false,
    "nbgrader": {
     "cell_type": "code",
     "checksum": "897a31a9ab60c324cac874e1722b037d",
     "grade": false,
     "grade_id": "cell-a4b53d4ad601873d",
     "locked": false,
     "schema_version": 3,
     "solution": true,
     "task": false
    }
   },
   "outputs": [],
   "source": [
    "hmm_params = {'n_components': 0, 'n_mix': 0}\n",
    "start_prob = np.array([])\n",
    "transmat = np.array([])\n",
    "\n",
    "# YOUR CODE HERE\n",
    "raise NotImplementedError()\n",
    "\n",
    "model2 = hmm.GMMHMM(init_params=\"mwc\", params=\"stmwc\", **hmm_params) \n",
    "model2.startprob_ = start_prob\n",
    "model2.transmat_ = transmat"
   ]
  },
  {
   "cell_type": "code",
   "execution_count": null,
   "id": "e6d87865",
   "metadata": {
    "deletable": false,
    "editable": false,
    "nbgrader": {
     "cell_type": "code",
     "checksum": "820737f5e9c18b6f51e3135f79bdc4ea",
     "grade": true,
     "grade_id": "cell-c0344863995c1ac6",
     "locked": true,
     "points": 1,
     "schema_version": 3,
     "solution": false,
     "task": false
    }
   },
   "outputs": [],
   "source": [
    "# Euer Ergebnis wird automatisch getestet."
   ]
  },
  {
   "cell_type": "markdown",
   "id": "a69756a7",
   "metadata": {
    "deletable": false,
    "editable": false,
    "nbgrader": {
     "cell_type": "markdown",
     "checksum": "f8ba3fe0b9be34850b7f33cc8ef9673c",
     "grade": false,
     "grade_id": "cell-268def833538a8a7",
     "locked": true,
     "schema_version": 3,
     "solution": false,
     "task": false
    }
   },
   "source": [
    "**7.** Trainiert euer neues Modell `model2` wie oben auf dem Goniometer-Kanal `Gonio2` aus `walk_data_train` und berechnet erneut die wahrscheinlichste Zustandsfolge der ersten walk Sequenz aus `walk_data`. Plottet anschließend euer Ergebnis."
   ]
  },
  {
   "cell_type": "code",
   "execution_count": null,
   "id": "23a2a975",
   "metadata": {
    "deletable": false,
    "nbgrader": {
     "cell_type": "code",
     "checksum": "9f064b7c4f010c97334040bd53174fe9",
     "grade": true,
     "grade_id": "cell-0ac762cd049bc1fb",
     "locked": false,
     "points": 1,
     "schema_version": 3,
     "solution": true,
     "task": false
    }
   },
   "outputs": [],
   "source": [
    "prd2 = []\n",
    "\n",
    "# YOUR CODE HERE\n",
    "raise NotImplementedError()"
   ]
  },
  {
   "cell_type": "markdown",
   "id": "313e6e62-ff0c-439a-91ee-831969418250",
   "metadata": {
    "deletable": false,
    "editable": false,
    "nbgrader": {
     "cell_type": "markdown",
     "checksum": "ce1b7450dbb367c07df61cc3d6e5ef6e",
     "grade": false,
     "grade_id": "cell-2c7f42ebe89bb3f8",
     "locked": true,
     "schema_version": 3,
     "solution": false,
     "task": false
    }
   },
   "source": [
    "Einfacher **Referenzplot**\n",
    "\n",
    "Euer Plot sieht aufgrund der Initialisierung vermutlich leicht anders aus. Stellt aber für die nächsten Teilaufgaben sicher, dass wir beim Korrigieren den Plot sehen, den ihr in eurer Lösung beschreibt.\n",
    "\n",
    "<img src=\"hmm2_ref.png\" style=\"width: 50%\">"
   ]
  },
  {
   "cell_type": "markdown",
   "id": "53e62058-0254-4254-8b97-cfb9cbb72b1b",
   "metadata": {
    "deletable": false,
    "editable": false,
    "nbgrader": {
     "cell_type": "markdown",
     "checksum": "c4ab48a2697a88c75c26f318f4d9f42c",
     "grade": false,
     "grade_id": "cell-0594c2b69a8cb6c5",
     "locked": true,
     "points": 2,
     "schema_version": 3,
     "solution": false,
     "task": true
    }
   },
   "source": [
    "Vergleicht die wahrscheinlichste Zustandsfolge des HMMs (Referenzplot) mit den Phasen des Ganges (z.B. Mid-Stance, Terminal-Swing etc). Siehe Grafik oben aus Whittle 2007. \n",
    "\n",
    "**8.** Hat das HMM die richtige Phaseneinteilung gelernt?\n",
    "\n",
    "**9.** Woran könnte das liegen?\n",
    "\n",
    "**10.** Was könntet ihr tun, um die Phasen besser zu erkennen? Nennt und erklärt zwei Möglichkeiten.\n"
   ]
  },
  {
   "cell_type": "markdown",
   "id": "917ce57f",
   "metadata": {},
   "source": []
  }
 ],
 "metadata": {
  "kernelspec": {
   "display_name": "Python 3 (ipykernel)",
   "language": "python",
   "name": "python3"
  },
  "language_info": {
   "codemirror_mode": {
    "name": "ipython",
    "version": 3
   },
   "file_extension": ".py",
   "mimetype": "text/x-python",
   "name": "python",
   "nbconvert_exporter": "python",
   "pygments_lexer": "ipython3",
   "version": "3.10.6"
  },
  "vscode": {
   "interpreter": {
    "hash": "0ebd0b701ff4c2363b86f7237a81d4bde3162c261c985e5f11c480c0a9ebf323"
   }
  }
 },
 "nbformat": 4,
 "nbformat_minor": 5
}

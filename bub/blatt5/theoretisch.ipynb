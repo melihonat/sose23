{
 "cells": [
  {
   "cell_type": "markdown",
   "id": "96c40ed5",
   "metadata": {
    "deletable": false,
    "editable": false,
    "nbgrader": {
     "cell_type": "markdown",
     "checksum": "9342db21e68fbdfbf7ff61f5efd9223c",
     "grade": false,
     "grade_id": "cell-3b95a240bfb4e376",
     "locked": true,
     "schema_version": 3,
     "solution": false,
     "task": false
    }
   },
   "source": [
    "## Theoretische Aufgaben – Blatt5"
   ]
  },
  {
   "cell_type": "markdown",
   "id": "d3a50d80",
   "metadata": {
    "deletable": false,
    "editable": false,
    "nbgrader": {
     "cell_type": "markdown",
     "checksum": "bfdbd27c6216b8098f6afd5fd89ad22f",
     "grade": false,
     "grade_id": "cell-4f6cd4936872cacf",
     "locked": true,
     "schema_version": 3,
     "solution": false,
     "task": false
    }
   },
   "source": [
    "Beantwortet die inhaltlichen Fragen schriftlich und verwendet für die Statistikaufgaben eine mathematische Notation und keine Textbeschreibung oder graphische Deduktion. Ohne Rechenweg können keine Punkte vergeben werden.\n",
    "\n",
    "_Hinweis_: Beantwortet die folgenden Fragen ohne Programmierung. Bezieht euch bei Wissensfragen auf die VL-Folien, bei Anwendungsfragen auf den Anwendungsfall. Haltet euch knapp.\n",
    "\n",
    "_Tipp_: Ihr könnt in den Markdown Zellen auch Latex verwenden oder Bilder einfügen."
   ]
  },
  {
   "cell_type": "markdown",
   "id": "8c43143d",
   "metadata": {
    "deletable": false,
    "editable": false,
    "nbgrader": {
     "cell_type": "markdown",
     "checksum": "8357b1044bedfa313fbb0a5b3d61329d",
     "grade": false,
     "grade_id": "cell-a09f3a04b54f7a6c",
     "locked": true,
     "points": 3,
     "schema_version": 3,
     "solution": false,
     "task": true
    }
   },
   "source": [
    "### Aufgabe 1: Bewegung\n",
    "\n",
    "Ihr sollt ein System für Sportaktivitätserfassung entwickeln, das zur Steuerung eines Avatars in einem Computer-Spiel genutzt wird.\n",
    "\n",
    "1. Allgemein: Was ist Bewegung?\n",
    "\n",
    "2. Nennt 3 Anforderungen, die man an dieses Bewegungserfassungssystem stellen könnte.\n",
    "\n",
    "3. Es gibt interne und externe Bewegungserfassungsmethoden. Interne Bewegungserfassung misst Bewegung im Körper, externe außerhalb des Körpers. Wahr oder falsch? Nennt Beispiele.\n",
    "\n",
    "4. Euer System soll, wenn es einmal fertig ist, als Massenprodukt verkauft werden. Für welches der Verfahren aus dem vorhergehenden Aufgabenteil würdet ihr euch entscheiden? Was sind die Vorteile des ausgewählten Verfahrens?\n"
   ]
  },
  {
   "cell_type": "markdown",
   "id": "e3c8cf3d",
   "metadata": {},
   "source": [
    "1.\\\n",
    "Bewegungen sind räumliche Verschiebungen von Gewebe. Beispielsweise kann sich bei der Bewegung eines Arms das Gewebe der Muskeln, Sehnen und Knochen im Arm räumlich verschieben.\\\n",
    "\n",
    "2.\\\n",
    "Das System sollte in der Lage sein, eine Vielzahl von Bewegungen zu erkennen, um eine genaue Steuerung des Avatars zu ermöglichen. Außerdem sollte das System zuverlässig sein, auch bei schnellen oder komplexen Bewegungen. Zu guter Letzt sollte das System leicht zu bedienen sein und eine schnelle Kalibrierung ermöglichen, um eine gute Integration ins Spiel zu gewährleisten und eine unterbrechungsfreie Erfahrung zu ermöglichen.\n",
    "\n",
    "3.\\\n",
    "Die Aussage ist wahr. Ein Beispiel für eine interne Bewegungserfassungsmethode ist die Elektromyographie (EMG), die elektrische Muskelaktivität misst. Ein Beispiel für eine externe Bewegungserfassungsmethode ist z.B. ein Bewegungserfassungssystem mit Infrarotmarkern oder ähnlichen Techniken, die Bewegungen verfolgt.\n",
    "\n",
    "4.\\\n",
    "Für ein Massenprodukt wäre eine externe Bewegungserfassungsmethode angebrachter. Wir würden uns für das Bewegungserfassungssystem mit Infrarotmarkern entscheiden, da sie nicht in den Körper eingreifen und dadurch sicherer und komfortabler für den Endnutzer sind. Dazu erfordern sie keine komplizierte Einrichtung und die Nutzer können einfach die notwendigen Geräte anziehen oder halten und direkt loslegen. "
   ]
  },
  {
   "cell_type": "markdown",
   "id": "6eed805f",
   "metadata": {
    "deletable": false,
    "editable": false,
    "nbgrader": {
     "cell_type": "markdown",
     "checksum": "5d2906396051c96907942f39b360d1f3",
     "grade": false,
     "grade_id": "cell-83e35c59ec3b4124",
     "locked": true,
     "points": 4,
     "schema_version": 3,
     "solution": false,
     "task": true
    }
   },
   "source": [
    "### Aufgabe 2: Segmentierung\n",
    "\n",
    "1. Warum segmentieren wir (Bewegungs-) Daten?\n",
    "\n",
    "2. Welchen Vorteil könnte eine strikte Segmentierung gegenüber einer Partition haben? Welchen Vorteil hat eine Partition?\n",
    "\n",
    "3. In welcher Situation ist eine manuelle Segmentierung besser als eine automatische geeignet? In welcher ist die automatische besser?\n",
    "\n",
    "4. Erläutert die Segmentierung mittels PCA. \n",
    "\n"
   ]
  },
  {
   "cell_type": "markdown",
   "id": "80bb48ea",
   "metadata": {},
   "source": [
    "1.\\\n",
    "Die Segmentierung kann helfen, Muster und Trends in den Daten zu erkennen. Z.B. kann man feststellen, dass bestimmte Bewegungen oder Aktivitäten zu bestimmten Zeiten häufiger auftreten.\n",
    "\n",
    "2.\\\n",
    "Bei einer strikten Segmentierung werden die Daten in separate und nicht überlappende Segmente unterteilt. Der Vorteil davon ist eine klarere und einfachere Analyse, da jedes Segment unabhängig von den anderen ist.\\\n",
    "Eine Partition unterteilt die Daten in Segmente, die sich überlappen können. Das kann helfen, wenn man Übergänge oder Beziehungen zwischen benachbarten Datenpunkten analysieren will. Insbesondere eine automatische Partition kann bei komplexen oder umfangreichen Daten effizienter und konsistenter sein.\n",
    "\n",
    "3.\\\n",
    "Manuelle Segmentierung kann in Situationen besser geeignet sein, in denen eine hohe Genauigkeit oder spezielles Wissen erforderlich ist, oder wenn die Daten komplex oder subjektiv sind. Die automatische Segmentierung kann jedoch in Situationen besser geeignet sein, in denen Effizienz und Konsistenz wichtig sind, insbesodere bei großen, umfangreichen Daten.\n",
    "\n",
    "4.\\\n",
    "Die Idee des PCA ist, dass einfache Bewegungen eine niedrigere Dimensionalität als komplexe Bewegung haben. Es wird eine Projektion in einen niedriger-dimensionalen Unterraum durchgeführt, sodass die Dimensionen mit niedrigster Varianz quasi keine Aussagekraft haben. Um die optimale Dimensionalität zu finden, setzt man einen Threshold fest, wie viel Varianz noch aufgeklärt werden soll, bzw wie groß der Fehler sein darf. Die Grundidee für die Segmentierung ist, dass sich der Fehler konstant hält, solange dieselbe Bewegung ausgeführt wird. Wenn sich die Bewegung ändert, steigt der Fehler an."
   ]
  },
  {
   "cell_type": "markdown",
   "id": "194a9213",
   "metadata": {
    "deletable": false,
    "editable": false,
    "nbgrader": {
     "cell_type": "markdown",
     "checksum": "2774fff0e8bda8d6feac76accf0e8665",
     "grade": false,
     "grade_id": "cell-faeca15a91913a05",
     "locked": true,
     "points": 3,
     "schema_version": 3,
     "solution": false,
     "task": true
    }
   },
   "source": [
    "### Aufgabe 3: Haut und EDA\n",
    "\n",
    "1. Wie ist die Haut aufgebaut?\n",
    "\n",
    "2. Worin unterscheiden sich Endosomatische und Exosomatische Messungen?\n",
    "\n",
    "3. Ihr möchtet einen Emotionserkenner basierend auf EDA bauen. Nennt je Problemklasse zwei Beispiele.\n",
    "\n",
    "4. Beschreibt die ideale Gestalt einer EDR.\n"
   ]
  },
  {
   "cell_type": "markdown",
   "id": "528bf547",
   "metadata": {},
   "source": [
    "1.\\\n",
    "Die Haut besteht aus drei Hauptschichten: Epidermis, Dermis und Subcutis.\n",
    "Die Epidermis besteht aus mehreren Teilen, die alle verschiedene Rollen spielen, wie die Wasserregulierung, Stoffwechselprozesse und Regeneration der Hautzellen. Die Dermis beherbergt Schweißdrüsengänge, und die Subcutis besteht aus Fettgewebe und hautversorgenden Blutgefäßen und Nerven. Die Haut ist das Organ mit der größten Oberfläche im menschlichen Körper.\n",
    "\n",
    "2.\\\n",
    "Endosomatische Messungen messen direkt die Aktivität der Nerven in der Haut, während exosomatische Messungen einen schwachen Strom an die Haut anlegen und die Leitfähigkeit messen. Heutzutage ist die exosomatische Messung die gebräuchlichere Methode.\n",
    "\n",
    "3.\\\n",
    "Die EDA ermöglicht nicht immer eine zuverlässige Erfassung aller Emotionen. Zum Beispiel ist die Genauigkeit bei der Erkennung von Überraschung oft mangelhaft. Darüber hinaus ist die Reaktionszeit recht langsam, was die EDA für unmittelbare Echtzeitanwendungen untauglich macht. Zudem erzeugen Faktoren wie Bewegung, Schwitzen und andere Umweltvariablen zu viele Artefakte."
   ]
  },
  {
   "cell_type": "markdown",
   "id": "4a475cd9",
   "metadata": {
    "deletable": false,
    "editable": false,
    "nbgrader": {
     "cell_type": "markdown",
     "checksum": "f61e050770a94c4083e8fad678dbdb06",
     "grade": false,
     "grade_id": "cell-5abb67d6b6e8d23e",
     "locked": true,
     "points": 2,
     "schema_version": 3,
     "solution": false,
     "task": true
    }
   },
   "source": [
    "### Aufgabe 4: Augenaktivität\n",
    "\n",
    "1. Nennt drei Techniken zur Augenaktivitätserfassung.\n",
    "\n",
    "2. Was ist die Aufgabe der Netzhaut im Auge? Was versteht man unter dem blinden Fleck?\n",
    "\n",
    "3. Ihr sollt ein AR-System um eine Augenaktivitätserfassung erweitern, damit erkannt werden kann, worauf der/die Benutzer:in gerade blickt. Welches Verfahren würdet ihr wählen und warum?\n"
   ]
  },
  {
   "cell_type": "markdown",
   "id": "ca3947f2",
   "metadata": {},
   "source": [
    "1.\\\n",
    "Elektrookulographie (EOG), Videookulographie (VOG), Mobile Eyetracking\n",
    "\n",
    "2.\\\n",
    "Die Netzhaut spielt eine entscheidende Rolle bei der Wahrnehmung von Licht und Farben. Die Stäbchen sind für das S/W-Sehen zuständig und die Zapfen für das Farbensehen. Der blinde Fleck ist eine natürliche Einschränkung des Sichtfelds, da es an dieser Stelle keine Sinneszellen gibt, daher kann das Auge an dieser Stelle kein Licht wahrnehmen.\n",
    "\n",
    "3.\\\n",
    "Die Wahl hängt von den spezifischen Anforderungen ab. Wenn eine hohe räumliche und zeitliche Auflösung wichtig sind, könnte die VOG-Methode eine gute Wahl sein. Wenn jedoch die Benutzerfreundlichkeit und der Komfort der Nutzer wichtiger sind, könnte eine nicht kopfgetragene VOG-Methode oder die Infrarot-Reflexionsmethode besser geeignet sein, da sie nicht so invasiv wie die herkömmliche VOG-Methode sind."
   ]
  }
 ],
 "metadata": {
  "kernelspec": {
   "display_name": "Python 3 (ipykernel)",
   "language": "python",
   "name": "python3"
  },
  "language_info": {
   "codemirror_mode": {
    "name": "ipython",
    "version": 3
   },
   "file_extension": ".py",
   "mimetype": "text/x-python",
   "name": "python",
   "nbconvert_exporter": "python",
   "pygments_lexer": "ipython3",
   "version": "3.11.3"
  }
 },
 "nbformat": 4,
 "nbformat_minor": 5
}

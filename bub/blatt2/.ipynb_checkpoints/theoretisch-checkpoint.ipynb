{
 "cells": [
  {
   "cell_type": "markdown",
   "id": "5f99883e",
   "metadata": {
    "deletable": false,
    "editable": false,
    "nbgrader": {
     "cell_type": "markdown",
     "checksum": "ecf0ec94c0c45ea978b3fbf75876717c",
     "grade": false,
     "grade_id": "cell-3b95a240bfb4e376",
     "locked": true,
     "schema_version": 3,
     "solution": false,
     "task": false
    }
   },
   "source": [
    "## Theoretische Aufgaben – Blatt2"
   ]
  },
  {
   "cell_type": "markdown",
   "id": "0f5285d6",
   "metadata": {
    "deletable": false,
    "editable": false,
    "nbgrader": {
     "cell_type": "markdown",
     "checksum": "e3c99d731c6bc15629ccf3e1dbac076f",
     "grade": false,
     "grade_id": "cell-4f6cd4936872cacf",
     "locked": true,
     "schema_version": 3,
     "solution": false,
     "task": false
    }
   },
   "source": [
    "Beantwortet die inhaltlichen Fragen schriftlich und verwendet für die Statistikaufgaben eine mathematische Notation und keine Textbeschreibung oder graphische Deduktion. Ohne Rechenweg können keine Punkte vergeben werden. Haltet euch knapp, in den meisten Fällen reichen Stichwörter, außer natürlich, wenn ihr etwas erklären sollt.\n",
    "\n",
    "_Hinweis_: Beantwortet die folgenden Fragen ohne Programmierung.\n",
    "\n",
    "_Tipp_: Ihr könnt in den Markdown Zellen auch Latex verwenden oder Bilder einfügen."
   ]
  },
  {
   "cell_type": "markdown",
   "id": "0cf5eee2-cd8d-41b1-9e9d-d79081d4b92d",
   "metadata": {
    "deletable": false,
    "editable": false,
    "nbgrader": {
     "cell_type": "markdown",
     "checksum": "efefe372949def0ca056a877a603ba35",
     "grade": false,
     "grade_id": "cell-a09f3a04b54f7a6c",
     "locked": true,
     "points": 5,
     "schema_version": 3,
     "solution": false,
     "task": true
    }
   },
   "source": [
    "### Aufgabe 1: Signalverarbeitung\n",
    "\n",
    "1. Grundsätzlich ist es sinnvoll lieber zu viele als zu wenige Sensoren zu nutzen. Welches Problem handelt man sich jedoch mit vielen Sensoren ein?\n",
    "2. Zwei Signale können hochkorreliert sein, ohne dass ein Kausalzusammenhang zwischen ihnen besteht. Gebt mögliche Gründe hierfür an inkl. beispielhafter Illustrationen.\n",
    "3. Analoge Biosignale müssen digitalisiert werden um sie digital weiterverarbeiten zu können. Nennt die hierfür notwendigen Schritte. Ist die Reihenfolge hierbei wichtig?\n",
    "4. Welche Arten von synaptischen Reflexen gibt es? Wo entstehen diese?\n",
    "5. Es gibt chemische und elektrische Synapsen. Welche sind energieeffizienter während der Nachrichtenübertragung und warum?\n",
    "\n"
   ]
  },
  {
   "cell_type": "markdown",
   "id": "a68d2f2c-47b7-4239-9e52-bb0c2c538000",
   "metadata": {},
   "source": [
    "1. Das Problem, das man sich mit vielen Sensoren einhandelt, ist der Fluch der Dimensionalität, da die nötige Menge an Trainingsdaten exponentiell mit der Dimensionalität des Merkmalsraums steigt.  \n",
    "2. Mögliche Gründe hierfür sind Zufall oder das Vorhandensein eines dritten, ungesehenen Faktors (auch \"confounding factor\" oder \"lurking variable\" genannt). Ein Beispiel hierfür ist die Korrelation zwischen der Häufigkeit des Waschens und der Anzahl der Falten. Diese Korrelation liegt nicht daran, dass man vom Waschen Falten bekommt, sondern \"Alter\" als ungesehener Faktor.  \n",
    "3. Die notwendigen Schritte zur Digitalisierung analoger Biosignale sind Abtastung, Quantisierung und A/D-Wandlung. Die Reihenfolge ist wichtig, da die Abtastung das Signal in diskrete Zeitpunkte unterteilt, die Quantisierung die Amplitudenwerte in diskrete Werte umwandelt und die A/D-Wandlung das analoge Signal in ein digitales Signal umwandelt.\n",
    "4. Es gibt monosynaptische und polysynaptische Reflexe, die im Rückenmark entstehen.\n",
    "5. Elektrische Synapsen sind energieeffizienter während der Nachrichtenübertragung, da sie einen passiven Transport durch Ladungsträger durch die Zellmembran nutzen, der keinen Energieverbrauch erfordert. Im Gegensatz dazu erfordern chemische Synapsen die Freisetzung von Neurotransmittern, was einen Energieaufwand erfordert."
   ]
  },
  {
   "cell_type": "markdown",
   "id": "10cb1159",
   "metadata": {
    "deletable": false,
    "editable": false,
    "nbgrader": {
     "cell_type": "markdown",
     "checksum": "5f35fdf82ed040c61b988b4d9387842b",
     "grade": false,
     "grade_id": "cell-faeca15a91913a05",
     "locked": true,
     "points": 3,
     "schema_version": 3,
     "solution": false,
     "task": true
    }
   },
   "source": [
    "### Aufgabe 2: Menschliche Sprache\n",
    "\n",
    "Der Großteil der Frequenzanteile der menschlichen Sprache liegt im Bereich unter 4000Hz.\n",
    "\n",
    "1. Die G.726 Richtline gibt eine Abtastrate von 8KHz vor. Reicht dies um sämtliche Information der menschlichen Sprache zu erfassen? Warum/Warum nicht?  \n",
    "2. Bei einer Aufnahme sind höherfrequente Hintergrundgeräusche vorhanden. Warum kann das zu Problemen führen? Wie kann man diese vermeiden?\n",
    "3. Warum kann es gegebenenfalls sinnvoll sein, mit einer höheren Rate abzutasten, als unbedingt nötig wäre?\n"
   ]
  },
  {
   "cell_type": "markdown",
   "id": "714838e6",
   "metadata": {},
   "source": []
  },
  {
   "cell_type": "markdown",
   "id": "814394f1",
   "metadata": {
    "deletable": false,
    "editable": false,
    "nbgrader": {
     "cell_type": "markdown",
     "checksum": "fcb6f18c7742e0daf5fb1ed652928b02",
     "grade": false,
     "grade_id": "cell-ecda2d198dd25a9e",
     "locked": true,
     "points": 4,
     "schema_version": 3,
     "solution": false,
     "task": true
    }
   },
   "source": [
    "#### Aufgabe 3: Fourier-Transformation\n",
    "\n",
    "Gegeben sei ein Signal $f(t)$, bestehend aus Sinusschwingungen: Eine mit 5 Hz, überlagert von einer weiteren mit 9.42 Hz (mit geringerer Amplitude).\n",
    "\n",
    "1. Skizziert qualitativ das Betragsspektrum $|F(t)| = |\\mathcal{F}\\{f(t)\\}|$ des Signals. Beschriftet Achsen und markante Stellen. \n",
    "\n",
    "2. Unten ist ein Ausschnitt des Signals dargestellt. Wie nennt man solch eine Ausschnittsbildung? Würden wir, wenn wir das Betragsspektrum über die Fouriertransformation dieses Ausschnitts berechnen, das selbe Spektrum wie in Teilaufgabe 1 erhalten? Begründet eure Antwort!\n",
    "\n",
    "![sinus.png](sinus.png)\n",
    "\n",
    "3. Welche Charakteristika haben $f(t)$ und $|\\mathcal{F}\\{f(t)\\}|$?\n"
   ]
  },
  {
   "cell_type": "markdown",
   "id": "8ad523a0",
   "metadata": {},
   "source": []
  }
 ],
 "metadata": {
  "kernelspec": {
   "display_name": "Python 3 (ipykernel)",
   "language": "python",
   "name": "python3"
  },
  "language_info": {
   "codemirror_mode": {
    "name": "ipython",
    "version": 3
   },
   "file_extension": ".py",
   "mimetype": "text/x-python",
   "name": "python",
   "nbconvert_exporter": "python",
   "pygments_lexer": "ipython3",
   "version": "3.11.3"
  }
 },
 "nbformat": 4,
 "nbformat_minor": 5
}

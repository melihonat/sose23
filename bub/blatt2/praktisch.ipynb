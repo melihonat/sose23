{
 "cells": [
  {
   "cell_type": "markdown",
   "id": "32c4a1cf",
   "metadata": {
    "deletable": false,
    "editable": false,
    "nbgrader": {
     "cell_type": "markdown",
     "checksum": "2c8dc035ae863e214ba2c99ec578391d",
     "grade": false,
     "grade_id": "cell-f0e08049127dc5a5",
     "locked": true,
     "schema_version": 3,
     "solution": false,
     "task": false
    }
   },
   "source": [
    "## Praktische Aufgaben – Blatt 2"
   ]
  },
  {
   "cell_type": "markdown",
   "id": "fae3f9b3",
   "metadata": {
    "deletable": false,
    "editable": false,
    "nbgrader": {
     "cell_type": "markdown",
     "checksum": "50b3e0bc704fae3cae2cb6aebef90c90",
     "grade": false,
     "grade_id": "cell-5e3ce127a0036ee9",
     "locked": true,
     "schema_version": 3,
     "solution": false,
     "task": false
    }
   },
   "source": [
    "### Aufgabe 1: Vorbereitung"
   ]
  },
  {
   "cell_type": "code",
   "execution_count": null,
   "id": "15ba44ca",
   "metadata": {
    "deletable": false,
    "editable": false,
    "nbgrader": {
     "cell_type": "code",
     "checksum": "e507f5824253db89a580b43800b488a8",
     "grade": false,
     "grade_id": "cell-21216987b0eb859c",
     "locked": true,
     "schema_version": 3,
     "solution": false,
     "task": false
    },
    "tags": []
   },
   "outputs": [],
   "source": [
    "import numpy as np\n",
    "import matplotlib.pyplot as plt"
   ]
  },
  {
   "cell_type": "markdown",
   "id": "5758d9fd",
   "metadata": {
    "deletable": false,
    "editable": false,
    "nbgrader": {
     "cell_type": "markdown",
     "checksum": "1b2dc475d7e8aa7037bc909a83e9e801",
     "grade": false,
     "grade_id": "cell-f84e908caaab8b13",
     "locked": true,
     "schema_version": 3,
     "solution": false,
     "task": false
    }
   },
   "source": [
    "Im Folgenden laden wir einen klassischen, aber veränderten Datensatz.\n",
    "\n",
    "Die Daten findet ihr in `data`. Die erste Dimension (Zeilen) enthält alle Samples und die zweite (Spalten) die vier Merkmale. Die Klasse für jedes der 105 Samples findet ihr in `target`."
   ]
  },
  {
   "cell_type": "code",
   "execution_count": null,
   "id": "d6abe4bb",
   "metadata": {
    "deletable": false,
    "editable": false,
    "nbgrader": {
     "cell_type": "code",
     "checksum": "7efa27bb7e7f93279ec20cec7f84f84c",
     "grade": false,
     "grade_id": "cell-ad76377a5a998447",
     "locked": true,
     "schema_version": 3,
     "solution": false,
     "task": false
    },
    "tags": []
   },
   "outputs": [],
   "source": [
    "dataset = np.loadtxt(\"Dataset.csv\", delimiter=',', skiprows=1)\n",
    "np.random.shuffle(dataset)\n",
    "\n",
    "data = dataset[:, :-1]\n",
    "target = dataset[:, -1]\n",
    "print(data.shape, np.unique(target))"
   ]
  },
  {
   "cell_type": "markdown",
   "id": "71957016",
   "metadata": {
    "deletable": false,
    "editable": false,
    "nbgrader": {
     "cell_type": "markdown",
     "checksum": "694c0e760564879ed9d0c32f07ee0c8f",
     "grade": false,
     "grade_id": "cell-b6dfcdf31aedc8a6",
     "locked": true,
     "schema_version": 3,
     "solution": false,
     "task": false
    }
   },
   "source": [
    "**1.** Vereinfacht das 3-Klassenproblem zu einem 2-Klassenproblem, indem ihr die 3. Klasse für dieses Arbeitsblatt ignoriert.\n",
    "\n",
    "_Tipp_: Ähnlich wie in Blatt1 können slices und boolean indexes sehr hilfreich sein. Slicing und Indexing Beispiele: https://numpy.org/doc/stable/user/basics.indexing.html#advanced-indexing"
   ]
  },
  {
   "cell_type": "code",
   "execution_count": null,
   "id": "f7b435af-be48-43b7-9b8b-3026d8310454",
   "metadata": {
    "deletable": false,
    "nbgrader": {
     "cell_type": "code",
     "checksum": "30a0d6b09a8540cce6a9fffc371fad0d",
     "grade": true,
     "grade_id": "cell-6a78315550f98760",
     "locked": false,
     "points": 1,
     "schema_version": 3,
     "solution": true,
     "task": false
    },
    "tags": []
   },
   "outputs": [],
   "source": [
    "two_class_data = []\n",
    "two_class_target = []\n",
    "\n",
    "# YOUR CODE HERE\n",
    "raise NotImplementedError()\n",
    "\n",
    "two_class_data.shape, np.unique(two_class_target)"
   ]
  },
  {
   "cell_type": "markdown",
   "id": "e7944133",
   "metadata": {
    "deletable": false,
    "editable": false,
    "nbgrader": {
     "cell_type": "markdown",
     "checksum": "8d0d377c31aca5fa49810b9bdf9586c1",
     "grade": false,
     "grade_id": "cell-6b7c0a061644bd39",
     "locked": true,
     "schema_version": 3,
     "solution": false,
     "task": false
    }
   },
   "source": [
    "**2.** Vervollständigt für diese Aufgabe die Funktion `plot`. Plottet damit die ersten beiden Dimensionen als Punktdiagramm (scatter plot); plottet die ersten beiden Dimensionen anschließend noch einmal, diesmal mit unterschiedlichen Farben für die beiden Klassen.\n",
    "\n",
    "_Tipp_: https://matplotlib.org/stable/api/_as_gen/matplotlib.pyplot.scatter.html"
   ]
  },
  {
   "cell_type": "code",
   "execution_count": null,
   "id": "416c7c83",
   "metadata": {
    "deletable": false,
    "nbgrader": {
     "cell_type": "code",
     "checksum": "1542cfebc3b41f3df615c369f09a6f01",
     "grade": true,
     "grade_id": "cell-ade20ae6d8b02fb9",
     "locked": false,
     "points": 1,
     "schema_version": 3,
     "solution": true,
     "task": false
    }
   },
   "outputs": [],
   "source": [
    "plt.rcParams['figure.figsize'] = [8, 5]\n",
    "\n",
    "def plot(x, y, classes=None):\n",
    "    # YOUR CODE HERE\n",
    "    raise NotImplementedError()\n",
    "    plt.show()\n",
    "\n",
    "# Plotten der ersten beiden Dimensionen\n",
    "# YOUR CODE HERE\n",
    "raise NotImplementedError()\n",
    "\n",
    "# Plotten der ersten beiden Dimensionen mit Klassen in unterschiedlichen Farben\n",
    "# YOUR CODE HERE\n",
    "raise NotImplementedError()"
   ]
  },
  {
   "cell_type": "markdown",
   "id": "1102f333-79ef-47a1-ac62-91149235c8aa",
   "metadata": {
    "deletable": false,
    "editable": false,
    "nbgrader": {
     "cell_type": "markdown",
     "checksum": "4bbab287b3b249541b57a353952dcf18",
     "grade": false,
     "grade_id": "cell-842c5f9610f25e84",
     "locked": true,
     "points": 0.5,
     "schema_version": 3,
     "solution": false,
     "task": true
    }
   },
   "source": [
    "**3.** Was fällt euch in eurem Plot auf? Sind die Klassen gut trennbar?\n"
   ]
  },
  {
   "cell_type": "markdown",
   "id": "f8989f1b-d153-4361-a728-04a88056afd9",
   "metadata": {},
   "source": []
  },
  {
   "cell_type": "markdown",
   "id": "9715b259-627a-4ac9-a82c-82e75a126f6d",
   "metadata": {
    "deletable": false,
    "editable": false,
    "nbgrader": {
     "cell_type": "markdown",
     "checksum": "c4dd7ae787c6a62a1deffda82bc2872f",
     "grade": false,
     "grade_id": "cell-35c200da97e1f08a",
     "locked": true,
     "schema_version": 3,
     "solution": false,
     "task": false
    }
   },
   "source": [
    "### Aufgabe 2: Principal Component Analysis\n",
    "\n",
    "Wir möchten nun die PCA auf unsere Daten anwenden und verwenden dafür die PCA aus Scikit-learn: \n",
    "https://scikit-learn.org/stable/modules/generated/sklearn.decomposition.PCA.html"
   ]
  },
  {
   "cell_type": "markdown",
   "id": "b4e4c817-bb12-47df-a349-038b5580252c",
   "metadata": {
    "deletable": false,
    "editable": false,
    "nbgrader": {
     "cell_type": "markdown",
     "checksum": "36cbd0c916b73b3f739ebf37781bcf3f",
     "grade": false,
     "grade_id": "cell-e2f219fd66c6b0a2",
     "locked": true,
     "points": 0.5,
     "schema_version": 3,
     "solution": false,
     "task": true
    }
   },
   "source": [
    "**1.** Die PCA transformiert Daten, wie tut sie dies?\n"
   ]
  },
  {
   "cell_type": "markdown",
   "id": "16045597",
   "metadata": {},
   "source": []
  },
  {
   "cell_type": "markdown",
   "id": "8baad64c",
   "metadata": {
    "deletable": false,
    "editable": false,
    "nbgrader": {
     "cell_type": "markdown",
     "checksum": "245b5468ab07d6906f72ab94bf2c8ca5",
     "grade": false,
     "grade_id": "cell-b966d30d5e1945c1",
     "locked": true,
     "points": 0.5,
     "schema_version": 3,
     "solution": false,
     "task": true
    }
   },
   "source": [
    "**2.** Was erwartet ihr von einer Transformation basierend auf eurem obigen Plot?\n"
   ]
  },
  {
   "cell_type": "markdown",
   "id": "6b95b8d2-1090-4100-8cfd-5706428bc75d",
   "metadata": {},
   "source": []
  },
  {
   "cell_type": "markdown",
   "id": "85d9ddc7",
   "metadata": {
    "deletable": false,
    "editable": false,
    "nbgrader": {
     "cell_type": "markdown",
     "checksum": "169b59409abaa1bb8948b382384f7827",
     "grade": false,
     "grade_id": "cell-e391aa795f0fdb54",
     "locked": true,
     "schema_version": 3,
     "solution": false,
     "task": false
    }
   },
   "source": [
    "**3.** Transformiert die Daten mithilfe der PCA und plottet wieder die ersten beiden Dimensionen."
   ]
  },
  {
   "cell_type": "code",
   "execution_count": null,
   "id": "85076211-13be-48c5-8f70-dc0292ff562e",
   "metadata": {
    "deletable": false,
    "nbgrader": {
     "cell_type": "code",
     "checksum": "167a1edccf0a1c3c5076651cfa56bafa",
     "grade": true,
     "grade_id": "cell-f13c97dad5ca5bf3",
     "locked": false,
     "points": 1,
     "schema_version": 3,
     "solution": true,
     "task": false
    }
   },
   "outputs": [],
   "source": [
    "from sklearn.decomposition import PCA\n",
    "\n",
    "pca = PCA()\n",
    "\n",
    "# YOUR CODE HERE\n",
    "raise NotImplementedError()"
   ]
  },
  {
   "cell_type": "markdown",
   "id": "da0793ba-463c-44bf-b860-3ee251b13684",
   "metadata": {
    "deletable": false,
    "editable": false,
    "nbgrader": {
     "cell_type": "markdown",
     "checksum": "f5a6e7061f70378cc5355a3a43f7c77e",
     "grade": false,
     "grade_id": "cell-19f1515bf0f2e572",
     "locked": true,
     "points": 1,
     "schema_version": 3,
     "solution": false,
     "task": true
    }
   },
   "source": [
    "**4.** Entspricht diese Transformation euren Erwartungen? Warum/warum nicht? \n"
   ]
  },
  {
   "cell_type": "markdown",
   "id": "7dae8c28-2b49-4e1f-9d39-a57fdeea7410",
   "metadata": {},
   "source": []
  },
  {
   "cell_type": "markdown",
   "id": "b55f8db0",
   "metadata": {
    "deletable": false,
    "editable": false,
    "nbgrader": {
     "cell_type": "markdown",
     "checksum": "cf9fa2459d5cf3cf1ed0e8a79a283459",
     "grade": false,
     "grade_id": "cell-f8e8cb32ed993c74",
     "locked": true,
     "schema_version": 3,
     "solution": false,
     "task": false
    }
   },
   "source": [
    "**5.** Wie viel Varianz wird durch die erste transformierte Dimension erklärt?"
   ]
  },
  {
   "cell_type": "code",
   "execution_count": null,
   "id": "94279bf3-125d-4cfd-9473-1a3c72c4c67f",
   "metadata": {
    "deletable": false,
    "nbgrader": {
     "cell_type": "code",
     "checksum": "3a22135c32a1779eb3aa9e3ec729e4d8",
     "grade": false,
     "grade_id": "cell-0b307afb1af4083f",
     "locked": false,
     "schema_version": 3,
     "solution": true,
     "task": false
    }
   },
   "outputs": [],
   "source": [
    "explained_var = 0\n",
    "\n",
    "# YOUR CODE HERE\n",
    "raise NotImplementedError()\n",
    "\n",
    "print(explained_var)"
   ]
  },
  {
   "cell_type": "code",
   "execution_count": null,
   "id": "5401733d",
   "metadata": {
    "deletable": false,
    "editable": false,
    "nbgrader": {
     "cell_type": "code",
     "checksum": "fb8f176fee697374ecd26fee4ab74402",
     "grade": true,
     "grade_id": "cell-2fbac4907733f552",
     "locked": true,
     "points": 1,
     "schema_version": 3,
     "solution": false,
     "task": false
    }
   },
   "outputs": [],
   "source": [
    "# Euer Ergebnis wird automatisch getestet."
   ]
  },
  {
   "cell_type": "markdown",
   "id": "43ded2cc",
   "metadata": {
    "deletable": false,
    "editable": false,
    "nbgrader": {
     "cell_type": "markdown",
     "checksum": "3ae4598231b4723159f901d4f8b57a09",
     "grade": false,
     "grade_id": "cell-e8a7c27829c4de82",
     "locked": true,
     "schema_version": 3,
     "solution": false,
     "task": false
    }
   },
   "source": [
    "_Optional_: Plottet die Varianz pro Dimension, was fällt euch auf?"
   ]
  },
  {
   "cell_type": "code",
   "execution_count": null,
   "id": "f04590e0",
   "metadata": {
    "deletable": false,
    "nbgrader": {
     "cell_type": "code",
     "checksum": "b72d5dd94decc409940ce131249a4b27",
     "grade": false,
     "grade_id": "cell-28792536818199d3",
     "locked": false,
     "schema_version": 3,
     "solution": true,
     "task": false
    }
   },
   "outputs": [],
   "source": [
    "# YOUR CODE HERE\n",
    "raise NotImplementedError()"
   ]
  },
  {
   "cell_type": "markdown",
   "id": "46809ed5-e947-47c3-b210-b4ba98cfc91f",
   "metadata": {
    "deletable": false,
    "editable": false,
    "nbgrader": {
     "cell_type": "markdown",
     "checksum": "742b28ace3026cf656fa528f8041f3bf",
     "grade": false,
     "grade_id": "cell-4face11ea03b0a1b",
     "locked": true,
     "schema_version": 3,
     "solution": false,
     "task": false
    }
   },
   "source": [
    "### Aufgabe 3: Linear Discriminant Analysis\n",
    "\n",
    "Wir möchten nun eine LDA auf unsere Daten anwenden und verwenden dafür die LDA aus Scikit-learn: \n",
    "https://scikit-learn.org/stable/modules/generated/sklearn.discriminant_analysis.LinearDiscriminantAnalysis.html"
   ]
  },
  {
   "cell_type": "markdown",
   "id": "45a247f1",
   "metadata": {
    "deletable": false,
    "editable": false,
    "nbgrader": {
     "cell_type": "markdown",
     "checksum": "5344fbfe4eda452a55f3cc3e79ba0dda",
     "grade": false,
     "grade_id": "cell-a42fec4b21a1169f",
     "locked": true,
     "points": 0.25,
     "schema_version": 3,
     "solution": false,
     "task": true
    }
   },
   "source": [
    "**1.** Wie unterscheidet sich die LDA von der PCA? Wie transformiert sie den Merkmalsraum?\n"
   ]
  },
  {
   "cell_type": "markdown",
   "id": "5982d60f-1a5b-4934-9c7e-cbd98257a711",
   "metadata": {},
   "source": []
  },
  {
   "cell_type": "markdown",
   "id": "515bafec",
   "metadata": {
    "deletable": false,
    "editable": false,
    "nbgrader": {
     "cell_type": "markdown",
     "checksum": "b3e9232c41027d315f42dc9d9b2c9ecf",
     "grade": false,
     "grade_id": "cell-70a3bfc55cdad3ba",
     "locked": true,
     "points": 0.25,
     "schema_version": 3,
     "solution": false,
     "task": true
    }
   },
   "source": [
    "**2.** Basierend auf eurem farbigen Plot oder der PCA, wie viele Dimensionen benötigt ihr vorraussichtlich um die Klassen vernünftig zu trennen?\n"
   ]
  },
  {
   "cell_type": "markdown",
   "id": "4080e1bc",
   "metadata": {},
   "source": []
  },
  {
   "cell_type": "markdown",
   "id": "fd64f0c3",
   "metadata": {
    "deletable": false,
    "editable": false,
    "nbgrader": {
     "cell_type": "markdown",
     "checksum": "f0be5249b189ca327286f01848ec338b",
     "grade": false,
     "grade_id": "cell-5c62d0ed4af0174e",
     "locked": true,
     "schema_version": 3,
     "solution": false,
     "task": false
    }
   },
   "source": [
    "**3.** Führt nun eine LDA durch. Überschreibt hierzu die Anzahl der Komponenten basierend auf eurer Antwort oben. Transformiert anschließend die Daten und plottet das Ergebnis wieder farbig."
   ]
  },
  {
   "cell_type": "code",
   "execution_count": null,
   "id": "3bc05315-01ed-487b-a0d8-0806efcd3169",
   "metadata": {
    "deletable": false,
    "nbgrader": {
     "cell_type": "code",
     "checksum": "54bb549e7fd2216ef60317fdb2772b7a",
     "grade": true,
     "grade_id": "cell-1ff8b859880729a2",
     "locked": false,
     "points": 1,
     "schema_version": 3,
     "solution": true,
     "task": false
    }
   },
   "outputs": [],
   "source": [
    "from sklearn.discriminant_analysis import LinearDiscriminantAnalysis\n",
    "\n",
    "lda = LinearDiscriminantAnalysis(n_components=4)\n",
    "\n",
    "# YOUR CODE HERE\n",
    "raise NotImplementedError()"
   ]
  },
  {
   "cell_type": "markdown",
   "id": "60069277-a4db-4073-9ad1-d02e0204e7ff",
   "metadata": {
    "deletable": false,
    "editable": false,
    "nbgrader": {
     "cell_type": "markdown",
     "checksum": "28b4791253e04ac0b8fd6b40da3b7fc4",
     "grade": false,
     "grade_id": "cell-6d1afc00d1ccf466",
     "locked": true,
     "points": 1,
     "schema_version": 3,
     "solution": false,
     "task": true
    }
   },
   "source": [
    "**4.** Entspricht diese Transformation euren Erwartungen? Warum/warum nicht?"
   ]
  },
  {
   "cell_type": "markdown",
   "id": "ea6ed30c-5eae-46ee-8ad2-7efd80a67473",
   "metadata": {},
   "source": []
  },
  {
   "cell_type": "markdown",
   "id": "51285f3c",
   "metadata": {
    "deletable": false,
    "editable": false,
    "nbgrader": {
     "cell_type": "markdown",
     "checksum": "c3964c2ef4a7b81113a4c9ce8e496d0b",
     "grade": false,
     "grade_id": "cell-27180c90a1a883cf",
     "locked": true,
     "points": 1,
     "schema_version": 3,
     "solution": false,
     "task": true
    }
   },
   "source": [
    "**5.** Die LDA kann auch zur Klassifikation, also der automatischen Zuordnung eines Samples zu einer Klasse, genutzt werden. Überlegt euch ein einfaches Konzept (basierend auf eurem Plot oben) diese beiden Klassen zu trennen.\n",
    "\n",
    "_Hinweis_: Das Konzept muss nicht programmiert werden. Eine schriftliche Antwort reicht.\n"
   ]
  },
  {
   "cell_type": "markdown",
   "id": "7f68cbc9",
   "metadata": {},
   "source": []
  },
  {
   "cell_type": "markdown",
   "id": "4622641e-a248-472a-a8cc-fa1491ab0830",
   "metadata": {
    "deletable": false,
    "editable": false,
    "nbgrader": {
     "cell_type": "markdown",
     "checksum": "f66c2404b7e8489b7795fc3e4d5b2e6f",
     "grade": false,
     "grade_id": "cell-728d2527282452ca",
     "locked": true,
     "points": 2,
     "schema_version": 3,
     "solution": false,
     "task": true
    }
   },
   "source": [
    "**6.** Gibt es je eine Möglichkeit, dass\n",
    "- eine PCA gut auf einem Datensatz implementiert werden kann, aber eine LDA nicht?\n",
    "- eine LDA auf einem Datensatz gut implementiert werden kann, aber eine PCA nicht?\n",
    "\n",
    "Wenn ja, nennt ein Beispiel. Wenn nein begründet, weshalb nicht.\n"
   ]
  },
  {
   "cell_type": "markdown",
   "id": "329e5470-d5d3-4da1-9d72-b3e327fb5427",
   "metadata": {},
   "source": []
  }
 ],
 "metadata": {
  "kernelspec": {
   "display_name": "Python 3 (ipykernel)",
   "language": "python",
   "name": "python3"
  },
  "language_info": {
   "codemirror_mode": {
    "name": "ipython",
    "version": 3
   },
   "file_extension": ".py",
   "mimetype": "text/x-python",
   "name": "python",
   "nbconvert_exporter": "python",
   "pygments_lexer": "ipython3",
   "version": "3.9.5"
  },
  "vscode": {
   "interpreter": {
    "hash": "0ebd0b701ff4c2363b86f7237a81d4bde3162c261c985e5f11c480c0a9ebf323"
   }
  }
 },
 "nbformat": 4,
 "nbformat_minor": 5
}

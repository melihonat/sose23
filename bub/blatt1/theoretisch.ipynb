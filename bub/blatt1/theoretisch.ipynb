{
 "cells": [
  {
   "cell_type": "markdown",
   "id": "5f99883e",
   "metadata": {
    "deletable": false,
    "editable": false,
    "nbgrader": {
     "cell_type": "markdown",
     "checksum": "8c10ace9d7c40824583407907e12b46d",
     "grade": false,
     "grade_id": "cell-3b95a240bfb4e376",
     "locked": true,
     "schema_version": 3,
     "solution": false,
     "task": false
    }
   },
   "source": [
    "## Theoretische Aufgaben – Blatt1"
   ]
  },
  {
   "cell_type": "markdown",
   "id": "0f5285d6",
   "metadata": {
    "deletable": false,
    "editable": false,
    "nbgrader": {
     "cell_type": "markdown",
     "checksum": "6e8538330089ea8caec383df4968bc88",
     "grade": false,
     "grade_id": "cell-4f6cd4936872cacf",
     "locked": true,
     "schema_version": 3,
     "solution": false,
     "task": false
    }
   },
   "source": [
    "Beantwortet die inhaltlichen Fragen schriftlich und verwendet für die Statistikaufgaben eine mathematische Notation und keine Textbeschreibung oder graphische Deduktion. Ohne Rechenweg können keine Punkte vergeben werden.\n",
    "\n",
    "_Hinweis_: Beantwortet die folgenden Fragen ohne Programmierung.\n",
    "\n",
    "_Tipp_: Ihr könnt in den Markdown Zellen auch Latex verwenden oder Bilder einfügen:\n",
    "\n",
    "#### Latex Beispiel\n",
    "\\begin{align*}\n",
    "  \\text{Align Text} = x  \\\\\n",
    "   = x  \\\\\n",
    "\\end{align*}\n",
    "\n",
    "\n",
    "#### Bild Beispiel\n",
    "Achtet bei Bildern auf die Größe und Auflösung des Bildes. Text sollte lesbar sein, dennoch sollte das Bild nicht über 2MB groß sein. Unter Umständen können wir eure Aufgaben sonst nicht bewerten.\n",
    "\n",
    "![title](jupyter-logo.svg)"
   ]
  },
  {
   "cell_type": "markdown",
   "id": "10cb1159",
   "metadata": {
    "deletable": false,
    "editable": false,
    "nbgrader": {
     "cell_type": "markdown",
     "checksum": "d742a22d3116b7a9b8e06a856dfc68ef",
     "grade": false,
     "grade_id": "cell-faeca15a91913a05",
     "locked": true,
     "points": 2,
     "schema_version": 3,
     "solution": false,
     "task": true
    }
   },
   "source": [
    "### Aufgabe 1: Biologische Messkette \n",
    "\n",
    "Ihr führt ein Experiment durch, in dem eure Proband:innen eine interaktive Online-Lehrplattform testen. Dafür möchtet ihr das Interesse der Proband:innen während des Anschauens verschiedener digitaler Inhalte messen.\n",
    "\n",
    "1. Skizziert/Beschreibt die biologische Messkette allgemein. Welche Aufgaben übernimmt ein Biosensor in der biologischen Messkette?\n",
    "2. Welche Biosensoren würdet ihr für dieses konkrete Experiment wählen? Nennt drei mögliche Sensoren und wie ihr diese einsetzen würden. Ist die Erfassung damit direkt?\n"
   ]
  },
  {
   "cell_type": "markdown",
   "id": "d9f7394c",
   "metadata": {},
   "source": [
    "1: Die biologische Messkette ist ein Prozess zur Erfassung und Verarbeitung von biologischen Signalen. Um das gewünschte biologische Signal zu messen, muss ein entsprechender Reiz oder eine Welle auf den Körper appliziert werden. Dies kann z.B. ein akustischer, visueller oder elektrischer Reiz sein. \n",
    "\n",
    "Der Reiz führt zur Entstehung eines primären Messsignals, das direkt vom Körper erzeugt wird. Um das Signal zu erfassen, wird ein Biosensor verwendet. Dieser kann das Signal (möglichst) direkt erfassen und in ein elektrisches Signal umwandeln, das dann weiter verarbeitet werden kann.\n",
    "\n",
    "Anschließend wird das Signal verstärkt und gefiltert, um eine bessere Messqualität erreichen zu können. Dieses kann dann durch verschiedene Signalverarbeitungsschritte weiter bearbeitet werden, damit das Signal in eine geeignete Form kommt, die für die weitere Analyse verwendet werden kann.\n",
    "\n",
    "Das erfolgt durch biostatistische, biosignalanalytische oder bildverarbeitende Methoden, um relevante Informationen aus dem Signal zu extrahieren (z.B. Erkennung von Mustern).\n",
    "\n",
    "Zum Schluss werden die Ergebnisse der Analyse bewertet, um eine Aussage über die jeweiligen Prozesse im Körper zu treffen.\n",
    "\n",
    "Ein Biosensor übernimmt in der Messkette die Erfassung des primären Messsignals und die Umwandlung in elektrische Signale.\n",
    "\n",
    "\n",
    "2: Der unserer Meinung nach beste Biosensor für das Experiment ist ein Eyetracker, da dieser durch Erfassung von Blickbewegungen Hinweise darauf liefern kann, welche Inhalte besonders aufmerksamsstark sind. Dieser Biosensor ermöglicht eine direkte Erfassung.\n",
    "\n",
    "Darüber hinaus ist die Erfassung des EEG durch Elektroden am Kopf möglich, da dieser die elektrische Aktivität im Gehirn messen kann. Diese Aktivität könnte Aufschluss darüber geben, wie die Proband:innen bestimmte Inhalte verarbeiten. Auch dieser Biosensor ermöglicht eine direkte Erfassung.\n",
    "\n",
    "Abschließend könnte die Erfassung des EKG durch Elektroden am Oberkörper die elektrischen Signale des Herzens messen und Einsicht über das Stressniveau der Proband:innen bieten. Wenn jemand gestresst ist, kann sich das vielleicht in dem Herzrhythmus oder der Herzfrequenz ablesen lassen. Dieser Biosensor ermöglicht auch eine direkte Erfassung."
   ]
  },
  {
   "cell_type": "markdown",
   "id": "814394f1",
   "metadata": {
    "deletable": false,
    "editable": false,
    "nbgrader": {
     "cell_type": "markdown",
     "checksum": "7eed79df0c03d7c526db8c50f096c5b6",
     "grade": false,
     "grade_id": "cell-ecda2d198dd25a9e",
     "locked": true,
     "points": 3,
     "schema_version": 3,
     "solution": false,
     "task": true
    }
   },
   "source": [
    "#### Aufgabe 2: Biosignalbasierte Benutzerschnittstelle\n",
    "\n",
    "Ihr sollt eine Benutzerschnittstelle für diese interaktive Online-Lehrplattform entwerfen, die das Interesse der Nutzer:innen während des Anschauens der Lehrinhalte erkennt.\n",
    "\n",
    "1. Nennt zwei Biosignale, aus denen ihr Informationen über das Interesse extrahieren könnt. Welche Vor- und Nachteile seht ihr jeweils? Für welches Signal würdet ihr euch entscheiden?\n",
    "2. Wie könnte die Benutzerschnittstelle auf Veränderungen nachlassendes Interesse reagieren und diese rückmelden? Nennt ein Beispiel.\n",
    "3. Welche Kriterien könntet ihr zugrunde legen, um auszuwerten, ob die Online-Lehrplattform mit Benutzerschnittstelle besser ist als ohne? Bei welchem Kriterium erwartet ihr den größten Unterschied? Warum?\n"
   ]
  },
  {
   "cell_type": "markdown",
   "id": "b1b7ae5b",
   "metadata": {},
   "source": [
    "1: Zwei Biosignale, die zur Messung des Interesses während des Anschauens digitaler Inhalte verwendet werden könnten, sind die Hautleitfähigkeit und das EEG.\n",
    "\n",
    "Die Hautleitfähigkeit kann als Maß für die physiologische Erregung und emotionale Reaktionen dienen. Wenn jemand interessiert oder aufgeregt ist, steigt die Hautleitfähigkeit aufgrund der Aktivierung des autonomen Nervensystems. Vorteile dieser Methode sind ihre Einfachheit und relativ geringe Kosten. Nachteile sind jedoch, dass die Hautleitfähigkeit auch von anderen Faktoren beeinflusst werden kann, wie beispielsweise körperlicher Anstrengung oder Stress, die nicht unbedingt mit dem Interesse an den Inhalten zusammenhängen.\n",
    "\n",
    "EEG misst die elektrische Aktivität des Gehirns durch Platzierung von Elektroden auf der Kopfhaut. Es kann Einblicke in die neurologischen Zustände und Muster liefern, die mit unterschiedlichen kognitiven Prozessen verbunden sind, einschließlich des Interesses der Proband:innen. Vorteile des EEG sind seine hohe zeitliche Auflösung und die Fähigkeit, Veränderungen in der Gehirnaktivität in Echtzeit zu erfassen. Dadurch kann es subtile Veränderungen des Interesses während des Betrachtens der digitalen Inhalte erfassen.\n",
    "Ein Nachteil des EEG ist, dass es nicht so präzise ist, wenn es um die Lokalisierung der Aufmerksamkeit auf bestimmte Bereiche oder Elemente geht. Das EEG gibt uns eher allgemeine Informationen über die Gehirnaktivität und erfordert komplexe Datenanalyseverfahren, um relevante Muster zu identifizieren. Zudem erfordert die Durchführung eines EEG-Experiments erfahrene Fachkräfte und spezielle Ausrüstung.\n",
    "\n",
    "Die Wahl zwischen EEG und Hautleitwert hängt von den spezifischen Anforderungen des Experiments und den verfolgten Zielen ab. Wenn es aber keinen Kosten- und Spezalistenmangel gibt, würden wir uns für das EEG entscheiden.  \n",
    "  \n",
    "\\*\n",
    "     \n",
    "2: Wenn das Interesse eines Nutzers oder einer Nutzerin nachlässt, könnte die Benutzerschnittstelle ein Pop-Up-Fenster mit Empfehlungen für verwandte Inhalte oder einer Aufforderung, eine kurze Pause einzulegen, anzeigen. Diese Empfehlungen könnten auf den bisherigen Interessen, dem bisherigen Lernverlauf oder den Profilinformationen basieren. Durch die Anzeige von weiteren relevanten und interessanten Inhalten kann die Plattform das Interesse wieder anregen und die Lernmotivation steigern.\n",
    "\n",
    "\\*\n",
    "\n",
    "3: \n",
    "\n",
    "1. Kriterium: Lernleistung: Hierbei geht es darum, die Fähigkeit der Nutzer:innen zu messen, das Gelernte anzuwenden. Dies kann durch Tests, Quizze oder praktische Anwendungen erfolgen.  \n",
    "\n",
    "2. Kriterium: Nutzungsverhalten: Hierbei geht es darum, das Verhalten der Nutzer:innen auf der Plattform zu messen, beispielsweise wie viel Zeit sie mit dem Lernen verbringen, wie viele Lernmodule sie abschließen oder wie oft sie die Plattform nutzen.\n",
    "\n",
    "3. Kriterium: Interesse: Hierbei geht es darum, das Interesse der Nutzer:innen an den Lehrinhalten zu messen. Dies kann durch die Verwendung von Fragebögen, Feedbackformularen oder Biosignalen wie EEG oder Hautleitwert erfolgen.\n",
    "\n",
    "Unter Berücksichtigung dieser Kriterien würden wir erwarten, dass das Nutzungsverhalten der wichtigste Indikator für die Effektivität einer Online-Lehrplattform ist, da es zeigt, wie gut die Plattform von den Nutzer:innen angenommen wird und wie engagiert sie sind. Eine höhere Nutzungsrate und längere Nutzungsdauer deuten darauf hin, dass die Benutzer:innen die Plattform als wertvoll und nützlich erachten."
   ]
  },
  {
   "cell_type": "markdown",
   "id": "61d74f90",
   "metadata": {
    "deletable": false,
    "editable": false,
    "nbgrader": {
     "cell_type": "markdown",
     "checksum": "ed00d7394c1c60297226b7dec0c4c7ed",
     "grade": false,
     "grade_id": "cell-92d6bd3a7396761b",
     "locked": true,
     "points": 2,
     "schema_version": 3,
     "solution": false,
     "task": true
    }
   },
   "source": [
    "#### Aufgabe 3: Kartenspiel\n",
    "\n",
    "In jeder Runde eines Kartenspiels werden 52 Karten (A - K in jeder Farbe ohne Joker) an vier Spieler verteilt: Alina, Ben, Christina und dich. Jeder Spieler erhält 13 Karten. Alina und du seid Partner. Ben und Christina sind eure Gegner.\n",
    "\n",
    "Welches ist wahrscheinlicher A oder B? Warum?\n",
    "\n",
    "(A) In einer Runde haben Alina und du alle Könige bekommen   \n",
    "(B) In einer Runde haben Alina und du keine Könige bekommen.\n"
   ]
  },
  {
   "cell_type": "markdown",
   "id": "f659bf32",
   "metadata": {},
   "source": [
    "Hypergeometrische Verteilung:\n",
    "$$\n",
    "h(k|N;M;n) := P(X=k) = \\frac{\\binom{M}{k}\\binom{N-M}{n-k}}{\\binom{N}{n}} \n",
    "$$\n",
    "\n",
    "Für Ereignis A (alle Könige): $ \\\\ $\n",
    "N = 52  \n",
    "M = 4  \n",
    "n = 26  \n",
    "k = 4  \n",
    "\n",
    "$$\n",
    "P(X = 4) = \\frac{\\binom{4}{4} \\binom{52-4}{26-4}}{\\binom{52}{26}} \\approx 0.055222088835534\n",
    "$$\n",
    "$ \\\\ $\n",
    "$ \\\\ $\n",
    "\n",
    "Für Ereignis B (keinen König): $ \\\\ $\n",
    "N = 52  \n",
    "M = 48  \n",
    "n = 26  \n",
    "k = 26  \n",
    "\n",
    "$$\n",
    "P(X = 26) = \\frac{\\binom{48}{26} \\binom{52-48}{26-26}}{\\binom{52}{26}} \\approx 0.055222088835534\n",
    "$$\n",
    "\n",
    "Bedeutet, die Wahrscheinlichkeit für beide Ereignisse ist gleich groß ($ $$\\approx$ 5,52%). Der Grund dafür liegt im Mittelwert der Verteilung. Dieser sagt, dass im Schnitt 2 Könige innerhalb des 52-Karten-Decks gezogen werden. Das ergibt Sinn, immerhin zieht man 26 Karten, und das sind genau die Hälfte aller Karten."
   ]
  },
  {
   "cell_type": "markdown",
   "id": "f5d79a21",
   "metadata": {
    "deletable": false,
    "editable": false,
    "nbgrader": {
     "cell_type": "markdown",
     "checksum": "13c0b9bfe9940df63399da7ace768ad1",
     "grade": false,
     "grade_id": "cell-92d6bd3a7396761a",
     "locked": true,
     "points": 5,
     "schema_version": 3,
     "solution": false,
     "task": true
    }
   },
   "source": [
    "#### Aufgabe 4: Multiple Choice\n",
    "\n",
    "Es gibt eine Multiple-Choice-Frage mit 5 Optionen. 75% der Testteilnehmer verstehen diese Frage und werden sie definitiv richtig beantworten. Die restlichen Testteilnehmer, die diese Frage nicht beantworten können, können eine zufällige Antwort erraten. Erik hat diese Frage richtig beantwortet. Wie hoch ist die Wahrscheinlichkeit, dass er geraten hat?\n",
    "\n",
    "Angenommen nur 50% der Testteilnehmer verstehen die Frage und beantworten sie korrekt. Argumentiert, warum die Wahrscheinlichkeit, dass Erik geraten hat, in diesem Fall höher ist.\n"
   ]
  },
  {
   "cell_type": "markdown",
   "id": "4834b17e",
   "metadata": {},
   "source": [
    "Wie viele Teilnehmer haben am Ende die richtige Antwort angekreuzt?\n",
    "\n",
    "$ 0.75 + 0.2 * 0.25 = 0.8 = 80\\% $\n",
    "$ \\\\ $\n",
    "Wichtig: Bedingte Wahrscheinlichkeit\n",
    "$$\n",
    "P(A \\mid B)=\\frac{P(A \\cap B)}{P(B)}\n",
    "$$\n",
    "$ \\\\ $\n",
    "In diesem Fall:  \n",
    "\n",
    "Ereignis A: Erik hat geraten.  \n",
    "Ereignis B: Erik hat die richtige Antwort angekreuzt.\n",
    "\n",
    "$ P(A\\cap B) = 0.25 *0.8 = 0.2 = 20\\% $  \n",
    "$ P(B) = 0.8 = 80\\% $  \n",
    "$ P(A\\mid B) = \\frac{0.2}{0.8} = 0.25 = 25\\% $  $ \\\\ $\n",
    "Also beträgt die Wahrscheinlichkeit, dass Erik geraten hat, 25%. $ \\\\ $\n",
    "\n",
    "Wenn nur $50\\%$ der Testteilnehmer die Frage verstehen und beantworten können, wird die Wahrscheinlichkeit höher, dass Erik geraten hat. Das liegt daran, dass die sample size $n$ der Personen, die geraten haben, steigt. Anstatt bei $25\\%$ liegt sie jetzt bei $50\\%$, das bedeutet, dass es statt $5\\%$ richtiger Rateantworten jetzt $10\\%$ richtige Rateantworten gibt. Das erhöht wiederum die Wahrscheinlichkeit, dass Erik sich innerhalb dieser $10\\%$ befindet.\n",
    "\n",
    "$ P(A\\cap B) = 0.5 *0.8 = 0.4 = 40\\% $  \n",
    "$ P(B) = 0.5 + 0.2 * 0.5 = 0.6 = 60\\% $  \n",
    "$ P(A\\mid B) = \\frac{0.4}{0.6} = 0.66 = $ $66\\%$ $ \\\\ $\n",
    "\n",
    "Daher ist die Wahrscheinlichkeit, dass Erik geraten hat, in diesem Fall höher als wenn $75\\%$ der Testteilnehmer die Frage verstehen und beantworten können."
   ]
  }
 ],
 "metadata": {
  "kernelspec": {
   "display_name": "Python 3 (ipykernel)",
   "language": "python",
   "name": "python3"
  },
  "language_info": {
   "codemirror_mode": {
    "name": "ipython",
    "version": 3
   },
   "file_extension": ".py",
   "mimetype": "text/x-python",
   "name": "python",
   "nbconvert_exporter": "python",
   "pygments_lexer": "ipython3",
   "version": "3.11.3"
  }
 },
 "nbformat": 4,
 "nbformat_minor": 5
}

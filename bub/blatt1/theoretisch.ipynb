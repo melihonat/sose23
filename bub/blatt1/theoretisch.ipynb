{
 "cells": [
  {
   "cell_type": "markdown",
   "id": "5f99883e",
   "metadata": {
    "deletable": false,
    "editable": false,
    "nbgrader": {
     "cell_type": "markdown",
     "checksum": "8c10ace9d7c40824583407907e12b46d",
     "grade": false,
     "grade_id": "cell-3b95a240bfb4e376",
     "locked": true,
     "schema_version": 3,
     "solution": false,
     "task": false
    }
   },
   "source": [
    "## Theoretische Aufgaben – Blatt1"
   ]
  },
  {
   "cell_type": "markdown",
   "id": "0f5285d6",
   "metadata": {
    "deletable": false,
    "editable": false,
    "nbgrader": {
     "cell_type": "markdown",
     "checksum": "6e8538330089ea8caec383df4968bc88",
     "grade": false,
     "grade_id": "cell-4f6cd4936872cacf",
     "locked": true,
     "schema_version": 3,
     "solution": false,
     "task": false
    }
   },
   "source": [
    "Beantwortet die inhaltlichen Fragen schriftlich und verwendet für die Statistikaufgaben eine mathematische Notation und keine Textbeschreibung oder graphische Deduktion. Ohne Rechenweg können keine Punkte vergeben werden.\n",
    "\n",
    "_Hinweis_: Beantwortet die folgenden Fragen ohne Programmierung.\n",
    "\n",
    "_Tipp_: Ihr könnt in den Markdown Zellen auch Latex verwenden oder Bilder einfügen:\n",
    "\n",
    "#### Latex Beispiel\n",
    "\\begin{align*}\n",
    "  \\text{Align Text} = x  \\\\\n",
    "   = x  \\\\\n",
    "\\end{align*}\n",
    "\n",
    "\n",
    "#### Bild Beispiel\n",
    "Achtet bei Bildern auf die Größe und Auflösung des Bildes. Text sollte lesbar sein, dennoch sollte das Bild nicht über 2MB groß sein. Unter Umständen können wir eure Aufgaben sonst nicht bewerten.\n",
    "\n",
    "![title](jupyter-logo.svg)"
   ]
  },
  {
   "cell_type": "markdown",
   "id": "10cb1159",
   "metadata": {
    "deletable": false,
    "editable": false,
    "nbgrader": {
     "cell_type": "markdown",
     "checksum": "d742a22d3116b7a9b8e06a856dfc68ef",
     "grade": false,
     "grade_id": "cell-faeca15a91913a05",
     "locked": true,
     "points": 2,
     "schema_version": 3,
     "solution": false,
     "task": true
    }
   },
   "source": [
    "### Aufgabe 1: Biologische Messkette \n",
    "\n",
    "Ihr führt ein Experiment durch, in dem eure Proband:innen eine interaktive Online-Lehrplattform testen. Dafür möchtet ihr das Interesse der Proband:innen während des Anschauens verschiedener digitaler Inhalte messen.\n",
    "\n",
    "1. Skizziert/Beschreibt die biologische Messkette allgemein. Welche Aufgaben übernimmt ein Biosensor in der biologischen Messkette?\n",
    "2. Welche Biosensoren würdet ihr für dieses konkrete Experiment wählen? Nennt drei mögliche Sensoren und wie ihr diese einsetzen würden. Ist die Erfassung damit direkt?\n"
   ]
  },
  {
   "cell_type": "code",
   "execution_count": null,
   "id": "dcb7cac9-cac4-418a-a373-9c61faf361b0",
   "metadata": {},
   "outputs": [],
   "source": []
  },
  {
   "cell_type": "markdown",
   "id": "814394f1",
   "metadata": {
    "deletable": false,
    "editable": false,
    "nbgrader": {
     "cell_type": "markdown",
     "checksum": "7eed79df0c03d7c526db8c50f096c5b6",
     "grade": false,
     "grade_id": "cell-ecda2d198dd25a9e",
     "locked": true,
     "points": 3,
     "schema_version": 3,
     "solution": false,
     "task": true
    }
   },
   "source": [
    "#### Aufgabe 2: Biosignalbasierte Benutzerschnittstelle\n",
    "\n",
    "Ihr sollt eine Benutzerschnittstelle für diese interaktive Online-Lehrplattform entwerfen, die das Interesse der Nutzer:innen während des Anschauens der Lehrinhalte erkennt.\n",
    "\n",
    "1. Nennt zwei Biosignale, aus denen ihr Informationen über das Interesse extrahieren könnt. Welche Vor- und Nachteile seht ihr jeweils? Für welches Signal würdet ihr euch entscheiden?\n",
    "2. Wie könnte die Benutzerschnittstelle auf Veränderungen nachlassendes Interesse reagieren und diese rückmelden? Nennt ein Beispiel.\n",
    "3. Welche Kriterien könntet ihr zugrunde legen, um auszuwerten, ob die Online-Lehrplattform mit Benutzerschnittstelle besser ist als ohne? Bei welchem Kriterium erwartet ihr den größten Unterschied? Warum?\n"
   ]
  },
  {
   "cell_type": "code",
   "execution_count": null,
   "id": "74a492a8-5912-48f1-aa3e-50c4c2979466",
   "metadata": {},
   "outputs": [],
   "source": []
  },
  {
   "cell_type": "markdown",
   "id": "61d74f90",
   "metadata": {
    "deletable": false,
    "editable": false,
    "nbgrader": {
     "cell_type": "markdown",
     "checksum": "ed00d7394c1c60297226b7dec0c4c7ed",
     "grade": false,
     "grade_id": "cell-92d6bd3a7396761b",
     "locked": true,
     "points": 2,
     "schema_version": 3,
     "solution": false,
     "task": true
    }
   },
   "source": [
    "#### Aufgabe 3: Kartenspiel\n",
    "\n",
    "In jeder Runde eines Kartenspiels werden 52 Karten (A - K in jeder Farbe ohne Joker) an vier Spieler verteilt: Alina, Ben, Christina und dich. Jeder Spieler erhält 13 Karten. Alina und du seid Partner. Ben und Christina sind eure Gegner.\n",
    "\n",
    "Welches ist wahrscheinlicher A oder B? Warum?\n",
    "\n",
    "(A) In einer Runde haben Alina und du alle Könige bekommen   \n",
    "(B) In einer Runde haben Alina und du keine Könige bekommen.\n"
   ]
  },
  {
   "cell_type": "code",
   "execution_count": null,
   "id": "df3035f4-0212-469c-9881-1c24f9aa48aa",
   "metadata": {},
   "outputs": [],
   "source": []
  },
  {
   "cell_type": "markdown",
   "id": "f5d79a21",
   "metadata": {
    "deletable": false,
    "editable": false,
    "nbgrader": {
     "cell_type": "markdown",
     "checksum": "13c0b9bfe9940df63399da7ace768ad1",
     "grade": false,
     "grade_id": "cell-92d6bd3a7396761a",
     "locked": true,
     "points": 5,
     "schema_version": 3,
     "solution": false,
     "task": true
    }
   },
   "source": [
    "#### Aufgabe 4: Multiple Choice\n",
    "\n",
    "Es gibt eine Multiple-Choice-Frage mit 5 Optionen. 75% der Testteilnehmer verstehen diese Frage und werden sie definitiv richtig beantworten. Die restlichen Testteilnehmer, die diese Frage nicht beantworten können, können eine zufällige Antwort erraten. Erik hat diese Frage richtig beantwortet. Wie hoch ist die Wahrscheinlichkeit, dass er geraten hat?\n",
    "\n",
    "Angenommen nur 50% der Testteilnehmer verstehen die Frage und beantworten sie korrekt. Argumentiert, warum die Wahrscheinlichkeit, dass Erik geraten hat, in diesem Fall höher ist.\n"
   ]
  },
  {
   "cell_type": "code",
   "execution_count": null,
   "id": "d3c690f8-22fc-4003-8d26-ae44c5a34c52",
   "metadata": {},
   "outputs": [],
   "source": []
  }
 ],
 "metadata": {
  "kernelspec": {
   "display_name": "Python 3 (ipykernel)",
   "language": "python",
   "name": "python3"
  },
  "language_info": {
   "codemirror_mode": {
    "name": "ipython",
    "version": 3
   },
   "file_extension": ".py",
   "mimetype": "text/x-python",
   "name": "python",
   "nbconvert_exporter": "python",
   "pygments_lexer": "ipython3",
   "version": "3.11.3"
  }
 },
 "nbformat": 4,
 "nbformat_minor": 5
}

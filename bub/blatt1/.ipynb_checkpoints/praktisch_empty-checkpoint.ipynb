{
 "cells": [
  {
   "cell_type": "markdown",
   "id": "32c4a1cf",
   "metadata": {
    "deletable": false,
    "editable": false,
    "nbgrader": {
     "cell_type": "markdown",
     "checksum": "f3d778e1bf1cef75f6c980b0cb3d3309",
     "grade": false,
     "grade_id": "cell-f0e08049127dc5a5",
     "locked": true,
     "schema_version": 3,
     "solution": false,
     "task": false
    }
   },
   "source": [
    "## Praktische Aufgaben – Blatt1"
   ]
  },
  {
   "cell_type": "markdown",
   "id": "5758d9fd",
   "metadata": {
    "deletable": false,
    "editable": false,
    "nbgrader": {
     "cell_type": "markdown",
     "checksum": "06ec0a4770abe6e8f36f41978c3a7abc",
     "grade": false,
     "grade_id": "cell-f84e908caaab8b13",
     "locked": true,
     "schema_version": 3,
     "solution": false,
     "task": false
    }
   },
   "source": [
    "### Aufgabe 1: Daten Analysieren\n",
    "\n",
    "Im Folgenden werden die Daten einer Audiodatei geladen. \n",
    "Diese sollen erst geplottet werden, anschließend berechnet ihr darauf verschiedene Metriken."
   ]
  },
  {
   "cell_type": "markdown",
   "id": "de83f81f",
   "metadata": {
    "deletable": false,
    "editable": false,
    "nbgrader": {
     "cell_type": "markdown",
     "checksum": "99027c6d58e98c7821c00142766d20f3",
     "grade": false,
     "grade_id": "cell-8af4091756caa8a8",
     "locked": true,
     "schema_version": 3,
     "solution": false,
     "task": false
    }
   },
   "source": [
    "Dafür importieren wir zunächst einige hilfreiche Pakete: `numpy` zur Datenmanipulation, `matplotlib` zum Plotten und `scipy` zum Einlesen der Audiodatei. Ihr solltet euch ein wenig Zeit nehmen, um euch mit `numpy` und `matplotlib` vertraut zu machen, wir werden beide Bibliotheken in allen Übungsblättern nutzen."
   ]
  },
  {
   "cell_type": "code",
   "execution_count": null,
   "id": "15ba44ca",
   "metadata": {
    "deletable": false,
    "editable": false,
    "nbgrader": {
     "cell_type": "code",
     "checksum": "f65118a9c0cd9833f13a0a3d99d35c59",
     "grade": false,
     "grade_id": "cell-21216987b0eb859c",
     "locked": true,
     "schema_version": 3,
     "solution": false,
     "task": false
    }
   },
   "outputs": [],
   "source": [
    "import numpy as np\n",
    "import matplotlib.pyplot as plt\n",
    "from scipy.io import wavfile"
   ]
  },
  {
   "cell_type": "code",
   "execution_count": null,
   "id": "d6abe4bb",
   "metadata": {
    "deletable": false,
    "editable": false,
    "nbgrader": {
     "cell_type": "code",
     "checksum": "727062089d593f9c7d6de97b03624b47",
     "grade": false,
     "grade_id": "cell-ad76377a5a998447",
     "locked": true,
     "schema_version": 3,
     "solution": false,
     "task": false
    }
   },
   "outputs": [],
   "source": [
    "sampling_rate, data = wavfile.read('Audio.wav')"
   ]
  },
  {
   "cell_type": "markdown",
   "id": "20a1615c",
   "metadata": {
    "deletable": false,
    "editable": false,
    "nbgrader": {
     "cell_type": "markdown",
     "checksum": "d2977d537d535f598c419856e1ae4b0d",
     "grade": false,
     "grade_id": "cell-8d82f8b35fa1f4fa",
     "locked": true,
     "schema_version": 3,
     "solution": false,
     "task": false
    }
   },
   "source": [
    "**1.** Plottet die Daten."
   ]
  },
  {
   "cell_type": "code",
   "execution_count": null,
   "id": "416c7c83",
   "metadata": {
    "deletable": false,
    "nbgrader": {
     "cell_type": "code",
     "checksum": "cc69ee22b704697e1acb3f6e06a76c6a",
     "grade": true,
     "grade_id": "cell-ade20ae6d8b02fb9",
     "locked": false,
     "points": 0.5,
     "schema_version": 3,
     "solution": true,
     "task": false
    }
   },
   "outputs": [],
   "source": [
    "imageWidth = 15\n",
    "plt.rcParams['figure.figsize'] = [imageWidth, 5]\n",
    "\n",
    "# YOUR CODE HERE\n",
    "raise NotImplementedError()\n",
    "plt.show()"
   ]
  },
  {
   "cell_type": "markdown",
   "id": "30029d96",
   "metadata": {
    "deletable": false,
    "editable": false,
    "nbgrader": {
     "cell_type": "markdown",
     "checksum": "c3133af58580701f0563edb339e38f5b",
     "grade": false,
     "grade_id": "cell-aa2b66674e60e2e6",
     "locked": true,
     "schema_version": 3,
     "solution": false,
     "task": false
    }
   },
   "source": [
    "**2.** Plottet die Daten nun noch einmal mit der x-Achse in Sekunden."
   ]
  },
  {
   "cell_type": "code",
   "execution_count": null,
   "id": "2fb2e955",
   "metadata": {
    "deletable": false,
    "nbgrader": {
     "cell_type": "code",
     "checksum": "3f64ab35e6b7bb44b3bd56e822b7831c",
     "grade": true,
     "grade_id": "cell-4e3ac9f0e1f2b941",
     "locked": false,
     "points": 0.5,
     "schema_version": 3,
     "solution": true,
     "task": false
    }
   },
   "outputs": [],
   "source": [
    "# YOUR CODE HERE\n",
    "raise NotImplementedError()\n",
    "plt.show()"
   ]
  },
  {
   "cell_type": "markdown",
   "id": "dc8150cb",
   "metadata": {
    "deletable": false,
    "editable": false,
    "nbgrader": {
     "cell_type": "markdown",
     "checksum": "c81fcc20d8009f5bce585bdf46e79720",
     "grade": false,
     "grade_id": "cell-5768a4ff330bc727",
     "locked": true,
     "schema_version": 3,
     "solution": false,
     "task": false
    }
   },
   "source": [
    "**3.** Berechnet nun die folgenden Metriken und speichert diese in den initialisierten Variablen.\n",
    "- Durchschnitt\n",
    "- Standardabweichung\n",
    "- Quadratisches Mittel (Root Mean Square)\n",
    "- Länge der Audio-Datei in Sekunden"
   ]
  },
  {
   "cell_type": "code",
   "execution_count": null,
   "id": "e383ce35",
   "metadata": {
    "deletable": false,
    "nbgrader": {
     "cell_type": "code",
     "checksum": "4352265ef8ba04ea9d1584f0fc7558f6",
     "grade": false,
     "grade_id": "cell-b73a542bf8a7ac65",
     "locked": false,
     "schema_version": 3,
     "solution": true,
     "task": false
    }
   },
   "outputs": [],
   "source": [
    "mean = 0\n",
    "standard_deviation = 0\n",
    "rms = 0\n",
    "duration = 0\n",
    "\n",
    "# YOUR CODE HERE\n",
    "raise NotImplementedError()"
   ]
  },
  {
   "cell_type": "markdown",
   "id": "f41187f3",
   "metadata": {
    "deletable": false,
    "editable": false,
    "nbgrader": {
     "cell_type": "markdown",
     "checksum": "74975aa939bfa4efa28504851748c018",
     "grade": false,
     "grade_id": "cell-0ed72a95e2f6c434",
     "locked": true,
     "schema_version": 3,
     "solution": false,
     "task": false
    }
   },
   "source": [
    "Eure Ergebnisse werden automatisch ausgewertet. Die Tests sehen in etwa so aus:"
   ]
  },
  {
   "cell_type": "code",
   "execution_count": null,
   "id": "5539cbd5",
   "metadata": {
    "deletable": false,
    "editable": false,
    "nbgrader": {
     "cell_type": "code",
     "checksum": "583945f563ca85fffc02b43196bde0d3",
     "grade": true,
     "grade_id": "cell-d7d9b13654e43b4c",
     "locked": true,
     "points": 2,
     "schema_version": 3,
     "solution": false,
     "task": false
    }
   },
   "outputs": [],
   "source": [
    "np.testing.assert_allclose(0.0055921306, mean)"
   ]
  },
  {
   "cell_type": "markdown",
   "id": "95ed2485",
   "metadata": {
    "deletable": false,
    "editable": false,
    "nbgrader": {
     "cell_type": "markdown",
     "checksum": "4ea3c3c959f4e5e59580ac89537305ed",
     "grade": false,
     "grade_id": "cell-1dd3faf73f64fa29",
     "locked": true,
     "points": 0.5,
     "schema_version": 3,
     "solution": false,
     "task": true
    }
   },
   "source": [
    "### Aufgabe 2: Pausen Erkennen\n",
    "**1.** In der Datei gibt es mehrere Pausen, an welcher Sekundenmarke sind diese jeweils?\n"
   ]
  },
  {
   "cell_type": "markdown",
   "id": "29e6fa19",
   "metadata": {},
   "source": []
  },
  {
   "cell_type": "markdown",
   "id": "028db960",
   "metadata": {
    "deletable": false,
    "editable": false,
    "nbgrader": {
     "cell_type": "markdown",
     "checksum": "00b18a4e1467fcf46da802ebe8ba9d66",
     "grade": false,
     "grade_id": "cell-1b0dbc5af7ba9f66",
     "locked": true,
     "schema_version": 3,
     "solution": false,
     "task": false
    }
   },
   "source": [
    "**2.** Plottet eine der Pausen. Die Einheit der x-Achse ist hier nicht wichtig. Dafür ist es besonders interessant, sich die Pausen im Kontext des umgebenden Signals anzuschauen.\n",
    "\n",
    "_Tipp_: mit `data[start:end]` könnt ihr einen Ausschnitt der Daten betrachten. "
   ]
  },
  {
   "cell_type": "code",
   "execution_count": null,
   "id": "6ec9b7ff",
   "metadata": {
    "deletable": false,
    "nbgrader": {
     "cell_type": "code",
     "checksum": "dd910ab4cd348ad80fbecf45cbe6787e",
     "grade": true,
     "grade_id": "cell-ea8804e347ff6b1b",
     "locked": false,
     "points": 0.5,
     "schema_version": 3,
     "solution": true,
     "task": false
    }
   },
   "outputs": [],
   "source": [
    "# YOUR CODE HERE\n",
    "raise NotImplementedError()"
   ]
  },
  {
   "cell_type": "markdown",
   "id": "a98ac50b",
   "metadata": {
    "deletable": false,
    "editable": false,
    "nbgrader": {
     "cell_type": "markdown",
     "checksum": "8ced5d047b43f54956a84423beea86d6",
     "grade": false,
     "grade_id": "cell-faceac5856ea3815",
     "locked": true,
     "points": 1,
     "schema_version": 3,
     "solution": false,
     "task": true
    }
   },
   "source": [
    "**3.** Wie könnten diese Pausen automatisch erkannt werden?\n"
   ]
  },
  {
   "cell_type": "markdown",
   "id": "a64046d5",
   "metadata": {},
   "source": []
  },
  {
   "cell_type": "markdown",
   "id": "12967c30",
   "metadata": {
    "deletable": false,
    "editable": false,
    "nbgrader": {
     "cell_type": "markdown",
     "checksum": "39036d663d08b9a294a77592acc2fbc4",
     "grade": false,
     "grade_id": "cell-bc07c28698cefb38",
     "locked": true,
     "schema_version": 3,
     "solution": false,
     "task": false
    }
   },
   "source": [
    "**4.** Implementiert eure Idee und speichert das Ende der erkannten Pausen in dem vorgegebenen Array `pauses`.\n",
    "Zum Vergleich: die erste Pause endet bei ca. 273000."
   ]
  },
  {
   "cell_type": "code",
   "execution_count": null,
   "id": "2b6fb009",
   "metadata": {
    "deletable": false,
    "nbgrader": {
     "cell_type": "code",
     "checksum": "7e5735be501c7294e0639f7fde2bc7b6",
     "grade": true,
     "grade_id": "cell-9ac52b8c2040af7d",
     "locked": false,
     "points": 4,
     "schema_version": 3,
     "solution": true,
     "task": false
    }
   },
   "outputs": [],
   "source": [
    "pauses = []\n",
    "\n",
    "# YOUR CODE HERE\n",
    "raise NotImplementedError()\n",
    "\n",
    "print(pauses)"
   ]
  },
  {
   "cell_type": "markdown",
   "id": "e1de063a",
   "metadata": {
    "deletable": false,
    "editable": false,
    "nbgrader": {
     "cell_type": "markdown",
     "checksum": "3fef5b5c127fbdce3e4c2bbb82ae4364",
     "grade": false,
     "grade_id": "cell-a38e563d40edb742",
     "locked": true,
     "schema_version": 3,
     "solution": false,
     "task": false
    }
   },
   "source": [
    "**5.** Nutzt eure eben erkannten Pausen in `pauses` um das Trompetenintro inklusive der ersten Pause zu entfernen."
   ]
  },
  {
   "cell_type": "code",
   "execution_count": null,
   "id": "43347d02",
   "metadata": {
    "deletable": false,
    "nbgrader": {
     "cell_type": "code",
     "checksum": "182ba86e35e2423f1d83b8ceb1f5fa96",
     "grade": false,
     "grade_id": "cell-7766c47ffa616cbd",
     "locked": false,
     "schema_version": 3,
     "solution": true,
     "task": false
    }
   },
   "outputs": [],
   "source": [
    "trimmed_data = data\n",
    "\n",
    "# YOUR CODE HERE\n",
    "raise NotImplementedError()"
   ]
  },
  {
   "cell_type": "code",
   "execution_count": null,
   "id": "f3a78789",
   "metadata": {
    "deletable": false,
    "editable": false,
    "nbgrader": {
     "cell_type": "code",
     "checksum": "203976872125577face2613442710a7c",
     "grade": true,
     "grade_id": "cell-d832062540b195a9",
     "locked": true,
     "points": 0.5,
     "schema_version": 3,
     "solution": false,
     "task": false
    }
   },
   "outputs": [],
   "source": [
    "# Euer Ergebnis wird automatisch getestet."
   ]
  },
  {
   "cell_type": "markdown",
   "id": "54ae11fd",
   "metadata": {
    "deletable": false,
    "editable": false,
    "nbgrader": {
     "cell_type": "markdown",
     "checksum": "bd706aff2ab09eeb17882a756c1c5b29",
     "grade": false,
     "grade_id": "cell-41c36be7de045da3",
     "locked": true,
     "schema_version": 3,
     "solution": false,
     "task": false
    }
   },
   "source": [
    "**6.** Nehmt nun wieder das komplette Signal und verringert die Lautstärke um 10 dB.\n",
    "\n",
    "_Tipp_: Hierfür existieren Gleichungen, mit denen Amplitude in dB und dB in Amplitude umgewandelt werden können. Euer Endergebnis sollte wieder ein Amplitudensignal sein."
   ]
  },
  {
   "cell_type": "code",
   "execution_count": null,
   "id": "a283cc5a",
   "metadata": {
    "deletable": false,
    "nbgrader": {
     "cell_type": "code",
     "checksum": "29deaa7f9a559158fd60bc6982c37c4a",
     "grade": false,
     "grade_id": "cell-8720ef5a32cec4c7",
     "locked": false,
     "schema_version": 3,
     "solution": true,
     "task": false
    }
   },
   "outputs": [],
   "source": [
    "quiet_data = data\n",
    "\n",
    "# YOUR CODE HERE\n",
    "raise NotImplementedError()"
   ]
  },
  {
   "cell_type": "code",
   "execution_count": null,
   "id": "53ad5da5",
   "metadata": {
    "deletable": false,
    "editable": false,
    "nbgrader": {
     "cell_type": "code",
     "checksum": "b183a9e0e826810ab2b788382c6eea17",
     "grade": true,
     "grade_id": "cell-1ff5382f5c830eaa",
     "locked": true,
     "points": 0.5,
     "schema_version": 3,
     "solution": false,
     "task": false
    }
   },
   "outputs": [],
   "source": [
    "# Euer Ergebnis wird automatisch getestet."
   ]
  },
  {
   "cell_type": "markdown",
   "id": "e1e003af",
   "metadata": {
    "deletable": false,
    "editable": false,
    "nbgrader": {
     "cell_type": "markdown",
     "checksum": "a7b892f47c4a839bc411b05a599d1b88",
     "grade": false,
     "grade_id": "cell-209a0e8a09e5c010",
     "locked": true,
     "points": 1,
     "schema_version": 3,
     "solution": false,
     "task": true
    }
   },
   "source": [
    "**7.** Plottet nun das Signal mit reduzierter Lautstärke `quiet_data`. Was fällt euch auf, wenn ihr diesen Plot mit eurem ersten Plot von oben vergleicht?"
   ]
  },
  {
   "cell_type": "code",
   "execution_count": null,
   "id": "722cd26b",
   "metadata": {
    "deletable": false,
    "nbgrader": {
     "cell_type": "code",
     "checksum": "5d3f7eae8340b1cab2e759b77a80b453",
     "grade": false,
     "grade_id": "cell-e25d5720112b54a2",
     "locked": false,
     "schema_version": 3,
     "solution": true,
     "task": false
    }
   },
   "outputs": [],
   "source": [
    "# YOUR CODE HERE\n",
    "raise NotImplementedError()"
   ]
  },
  {
   "cell_type": "markdown",
   "id": "4458b0ff",
   "metadata": {},
   "source": []
  },
  {
   "cell_type": "markdown",
   "id": "58495c05",
   "metadata": {
    "deletable": false,
    "editable": false,
    "nbgrader": {
     "cell_type": "markdown",
     "checksum": "737aaa2ecb04a8f30bce334900676dd3",
     "grade": false,
     "grade_id": "cell-cf085315cf2a1789",
     "locked": true,
     "schema_version": 3,
     "solution": false,
     "task": false
    }
   },
   "source": [
    "**8.** Verdoppelt nun das Tempo des Liedes und plottet wie oben das Signal. Nutzt wieder eine x-Achse in Sekunden.\n",
    "Wenn ihr möchtet, könnt ihr das neue Signal wieder als wave Datei speichern und hineinhören.\n",
    "\n",
    "_Hinweis_: Abtastratenwandlung verändert die Audioauflösung bzw. -qualität, und ist hier nicht erwünscht."
   ]
  },
  {
   "cell_type": "code",
   "execution_count": null,
   "id": "5853fca6",
   "metadata": {
    "deletable": false,
    "nbgrader": {
     "cell_type": "code",
     "checksum": "47c39f7ea35c66c10ee69bfbd6cea3b2",
     "grade": true,
     "grade_id": "cell-9a8a888d9f484aca",
     "locked": false,
     "points": 1,
     "schema_version": 3,
     "solution": true,
     "task": false
    }
   },
   "outputs": [],
   "source": [
    "data_quick = data\n",
    "\n",
    "# YOUR CODE HERE\n",
    "raise NotImplementedError()\n",
    "\n",
    "# wavfile.write ('Audio_quick.wav', sampling_rate, data_quick)"
   ]
  }
 ],
 "metadata": {
  "kernelspec": {
   "display_name": "Python 3 (ipykernel)",
   "language": "python",
   "name": "python3"
  },
  "language_info": {
   "codemirror_mode": {
    "name": "ipython",
    "version": 3
   },
   "file_extension": ".py",
   "mimetype": "text/x-python",
   "name": "python",
   "nbconvert_exporter": "python",
   "pygments_lexer": "ipython3",
   "version": "3.11.3"
  }
 },
 "nbformat": 4,
 "nbformat_minor": 5
}

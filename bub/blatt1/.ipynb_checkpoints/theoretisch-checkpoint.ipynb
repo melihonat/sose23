{
 "cells": [
  {
   "cell_type": "markdown",
   "id": "5f99883e",
   "metadata": {
    "deletable": false,
    "editable": false,
    "nbgrader": {
     "cell_type": "markdown",
     "checksum": "8c10ace9d7c40824583407907e12b46d",
     "grade": false,
     "grade_id": "cell-3b95a240bfb4e376",
     "locked": true,
     "schema_version": 3,
     "solution": false,
     "task": false
    }
   },
   "source": [
    "## Theoretische Aufgaben – Blatt1"
   ]
  },
  {
   "cell_type": "markdown",
   "id": "0f5285d6",
   "metadata": {
    "deletable": false,
    "editable": false,
    "nbgrader": {
     "cell_type": "markdown",
     "checksum": "6e8538330089ea8caec383df4968bc88",
     "grade": false,
     "grade_id": "cell-4f6cd4936872cacf",
     "locked": true,
     "schema_version": 3,
     "solution": false,
     "task": false
    }
   },
   "source": [
    "Beantwortet die inhaltlichen Fragen schriftlich und verwendet für die Statistikaufgaben eine mathematische Notation und keine Textbeschreibung oder graphische Deduktion. Ohne Rechenweg können keine Punkte vergeben werden.\n",
    "\n",
    "_Hinweis_: Beantwortet die folgenden Fragen ohne Programmierung.\n",
    "\n",
    "_Tipp_: Ihr könnt in den Markdown Zellen auch Latex verwenden oder Bilder einfügen:\n",
    "\n",
    "#### Latex Beispiel\n",
    "\\begin{align*}\n",
    "  \\text{Align Text} = x  \\\\\n",
    "   = x  \\\\\n",
    "\\end{align*}\n",
    "\n",
    "\n",
    "#### Bild Beispiel\n",
    "Achtet bei Bildern auf die Größe und Auflösung des Bildes. Text sollte lesbar sein, dennoch sollte das Bild nicht über 2MB groß sein. Unter Umständen können wir eure Aufgaben sonst nicht bewerten.\n",
    "\n",
    "![title](jupyter-logo.svg)"
   ]
  },
  {
   "cell_type": "markdown",
   "id": "10cb1159",
   "metadata": {
    "deletable": false,
    "editable": false,
    "nbgrader": {
     "cell_type": "markdown",
     "checksum": "d742a22d3116b7a9b8e06a856dfc68ef",
     "grade": false,
     "grade_id": "cell-faeca15a91913a05",
     "locked": true,
     "points": 2,
     "schema_version": 3,
     "solution": false,
     "task": true
    }
   },
   "source": [
    "### Aufgabe 1: Biologische Messkette \n",
    "\n",
    "Ihr führt ein Experiment durch, in dem eure Proband:innen eine interaktive Online-Lehrplattform testen. Dafür möchtet ihr das Interesse der Proband:innen während des Anschauens verschiedener digitaler Inhalte messen.\n",
    "\n",
    "1. Skizziert/Beschreibt die biologische Messkette allgemein. Welche Aufgaben übernimmt ein Biosensor in der biologischen Messkette?\n",
    "2. Welche Biosensoren würdet ihr für dieses konkrete Experiment wählen? Nennt drei mögliche Sensoren und wie ihr diese einsetzen würden. Ist die Erfassung damit direkt?\n"
   ]
  },
  {
   "cell_type": "markdown",
   "id": "d9f7394c",
   "metadata": {},
   "source": []
  },
  {
   "cell_type": "markdown",
   "id": "814394f1",
   "metadata": {
    "deletable": false,
    "editable": false,
    "nbgrader": {
     "cell_type": "markdown",
     "checksum": "7eed79df0c03d7c526db8c50f096c5b6",
     "grade": false,
     "grade_id": "cell-ecda2d198dd25a9e",
     "locked": true,
     "points": 3,
     "schema_version": 3,
     "solution": false,
     "task": true
    }
   },
   "source": [
    "#### Aufgabe 2: Biosignalbasierte Benutzerschnittstelle\n",
    "\n",
    "Ihr sollt eine Benutzerschnittstelle für diese interaktive Online-Lehrplattform entwerfen, die das Interesse der Nutzer:innen während des Anschauens der Lehrinhalte erkennt.\n",
    "\n",
    "1. Nennt zwei Biosignale, aus denen ihr Informationen über das Interesse extrahieren könnt. Welche Vor- und Nachteile seht ihr jeweils? Für welches Signal würdet ihr euch entscheiden?\n",
    "2. Wie könnte die Benutzerschnittstelle auf Veränderungen nachlassendes Interesse reagieren und diese rückmelden? Nennt ein Beispiel.\n",
    "3. Welche Kriterien könntet ihr zugrunde legen, um auszuwerten, ob die Online-Lehrplattform mit Benutzerschnittstelle besser ist als ohne? Bei welchem Kriterium erwartet ihr den größten Unterschied? Warum?\n"
   ]
  },
  {
   "cell_type": "code",
   "execution_count": null,
   "id": "74a492a8-5912-48f1-aa3e-50c4c2979466",
   "metadata": {},
   "outputs": [],
   "source": []
  },
  {
   "cell_type": "markdown",
   "id": "61d74f90",
   "metadata": {
    "deletable": false,
    "editable": false,
    "nbgrader": {
     "cell_type": "markdown",
     "checksum": "ed00d7394c1c60297226b7dec0c4c7ed",
     "grade": false,
     "grade_id": "cell-92d6bd3a7396761b",
     "locked": true,
     "points": 2,
     "schema_version": 3,
     "solution": false,
     "task": true
    }
   },
   "source": [
    "#### Aufgabe 3: Kartenspiel\n",
    "\n",
    "In jeder Runde eines Kartenspiels werden 52 Karten (A - K in jeder Farbe ohne Joker) an vier Spieler verteilt: Alina, Ben, Christina und dich. Jeder Spieler erhält 13 Karten. Alina und du seid Partner. Ben und Christina sind eure Gegner.\n",
    "\n",
    "Welches ist wahrscheinlicher A oder B? Warum?\n",
    "\n",
    "(A) In einer Runde haben Alina und du alle Könige bekommen   \n",
    "(B) In einer Runde haben Alina und du keine Könige bekommen.\n"
   ]
  },
  {
   "cell_type": "markdown",
   "id": "f659bf32",
   "metadata": {},
   "source": [
    "Hypergeometrische Verteilung:\n",
    "$$\n",
    "h(k|N;M;n) := P(X=k) = \\frac{\\binom{M}{k}\\binom{N-M}{n-k}}{\\binom{N}{n}} \n",
    "$$\n",
    "\n",
    "Für Ereignis A (alle Könige): $ \\\\ $\n",
    "N = 52  \n",
    "M = 4  \n",
    "n = 26  \n",
    "k = 4  \n",
    "\n",
    "$$\n",
    "P(X = 4) = \\frac{\\binom{4}{4} \\binom{52-4}{26-4}}{\\binom{52}{26}} \\approx 0.055222088835534\n",
    "$$\n",
    "$ \\\\ $\n",
    "$ \\\\ $\n",
    "\n",
    "Für Ereignis B (keinen König): $ \\\\ $\n",
    "N = 52  \n",
    "M = 48  \n",
    "n = 26  \n",
    "k = 26  \n",
    "\n",
    "$$\n",
    "P(X = 26) = \\frac{\\binom{48}{26} \\binom{52-48}{26-26}}{\\binom{52}{26}} \\approx 0.055222088835534\n",
    "$$\n",
    "\n",
    "Bedeutet, die Wahrscheinlichkeit für beide Ereignisse ist gleich groß ($ $$\\approx$ 5,52%). Der Grund dafür liegt im Mittelwert der Verteilung. Dieser sagt, dass im Schnitt 2 Könige innerhalb des 52-Karten-Decks gezogen werden. Das ergibt Sinn, immerhin zieht man 26 Karten, und das sind genau die Hälfte aller Karten."
   ]
  },
  {
   "cell_type": "markdown",
   "id": "f5d79a21",
   "metadata": {
    "deletable": false,
    "editable": false,
    "nbgrader": {
     "cell_type": "markdown",
     "checksum": "13c0b9bfe9940df63399da7ace768ad1",
     "grade": false,
     "grade_id": "cell-92d6bd3a7396761a",
     "locked": true,
     "points": 5,
     "schema_version": 3,
     "solution": false,
     "task": true
    }
   },
   "source": [
    "#### Aufgabe 4: Multiple Choice\n",
    "\n",
    "Es gibt eine Multiple-Choice-Frage mit 5 Optionen. 75% der Testteilnehmer verstehen diese Frage und werden sie definitiv richtig beantworten. Die restlichen Testteilnehmer, die diese Frage nicht beantworten können, können eine zufällige Antwort erraten. Erik hat diese Frage richtig beantwortet. Wie hoch ist die Wahrscheinlichkeit, dass er geraten hat?\n",
    "\n",
    "Angenommen nur 50% der Testteilnehmer verstehen die Frage und beantworten sie korrekt. Argumentiert, warum die Wahrscheinlichkeit, dass Erik geraten hat, in diesem Fall höher ist.\n"
   ]
  },
  {
   "cell_type": "markdown",
   "id": "4834b17e",
   "metadata": {},
   "source": [
    "Wie viele Teilnehmer haben am Ende die richtige Antwort angekreuzt?\n",
    "\n",
    "$ 0.75 + 0.2 * 0.25 = 0.8 = 80\\% $\n",
    "$ \\\\ $\n",
    "Wichtig: Bedingte Wahrscheinlichkeit\n",
    "$$\n",
    "P(A \\mid B)=\\frac{P(A \\cap B)}{P(B)}\n",
    "$$\n",
    "$ \\\\ $\n",
    "In diesem Fall:  \n",
    "\n",
    "Ereignis A: Erik hat geraten.  \n",
    "Ereignis B: Erik hat die richtige Antwort angekreuzt.\n",
    "\n",
    "$ P(A\\cap B) = 0.25 *0.8 = 0.2 = 20\\% $  \n",
    "$ P(B) = 0.8 = 80\\% $  \n",
    "$ P(A\\mid B) = \\frac{0.2}{0.8} = 0.25 = 25\\% $  $ \\\\ $\n",
    "Also beträgt die Wahrscheinlichkeit, dass Erik geraten hat, 25%. $ \\\\ $\n",
    "\n",
    "Wenn nur $50\\%$ der Testteilnehmer die Frage verstehen und beantworten können, wird die Wahrscheinlichkeit höher, dass Erik geraten hat. Das liegt daran, dass die sample size $n$ der Personen, die geraten haben, steigt. Anstatt bei $25\\%$ liegt sie jetzt bei $50\\%$, das bedeutet, dass es statt $5\\%$ richtiger Rateantworten jetzt $10\\%$ richtige Rateantworten gibt. Das erhöht wiederum die Wahrscheinlichkeit, dass Erik sich innerhalb dieser $10\\%$ befindet.\n",
    "\n",
    "$ P(A\\cap B) = 0.5 *0.8 = 0.4 = 40\\% $  \n",
    "$ P(B) = 0.5 + 0.2 * 0.5 = 0.6 = 60\\% $  \n",
    "$ P(A\\mid B) = \\frac{0.4}{0.6} = 0.66 = $ $66\\%$ $ \\\\ $\n",
    "\n",
    "Daher ist die Wahrscheinlichkeit, dass Erik geraten hat, in diesem Fall höher als wenn $75\\%$ der Testteilnehmer die Frage verstehen und beantworten können."
   ]
  },
  {
   "cell_type": "code",
   "execution_count": null,
   "id": "fa06d4cd",
   "metadata": {},
   "outputs": [],
   "source": []
  },
  {
   "cell_type": "code",
   "execution_count": null,
   "id": "9cff2ee1",
   "metadata": {},
   "outputs": [],
   "source": []
  }
 ],
 "metadata": {
  "kernelspec": {
   "display_name": "Python 3 (ipykernel)",
   "language": "python",
   "name": "python3"
  },
  "language_info": {
   "codemirror_mode": {
    "name": "ipython",
    "version": 3
   },
   "file_extension": ".py",
   "mimetype": "text/x-python",
   "name": "python",
   "nbconvert_exporter": "python",
   "pygments_lexer": "ipython3",
   "version": "3.11.3"
  }
 },
 "nbformat": 4,
 "nbformat_minor": 5
}

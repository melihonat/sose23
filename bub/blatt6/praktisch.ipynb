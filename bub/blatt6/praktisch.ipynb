{
 "cells": [
  {
   "cell_type": "markdown",
   "id": "2788f242",
   "metadata": {
    "deletable": false,
    "editable": false,
    "nbgrader": {
     "cell_type": "markdown",
     "checksum": "f4e743e44bc4aacd5cc56be1e7a8fee0",
     "grade": false,
     "grade_id": "cell-f0e08049127dc5a5",
     "locked": true,
     "schema_version": 3,
     "solution": false,
     "task": false
    }
   },
   "source": [
    "## Praktische Aufgaben – Blatt 6"
   ]
  },
  {
   "cell_type": "code",
   "execution_count": null,
   "id": "fd366628",
   "metadata": {
    "deletable": false,
    "editable": false,
    "nbgrader": {
     "cell_type": "code",
     "checksum": "791bcf9e0772949f48e72c8784f62efe",
     "grade": false,
     "grade_id": "cell-21216987b0eb859c",
     "locked": true,
     "schema_version": 3,
     "solution": false,
     "task": false
    }
   },
   "outputs": [],
   "source": [
    "import numpy as np\n",
    "import matplotlib.pyplot as plt\n",
    "import sklearn\n",
    "import sklearn.datasets\n",
    "import sklearn.model_selection\n",
    "import sklearn.metrics"
   ]
  },
  {
   "cell_type": "code",
   "execution_count": null,
   "id": "89ab28f9",
   "metadata": {
    "deletable": false,
    "editable": false,
    "nbgrader": {
     "cell_type": "code",
     "checksum": "e0113c00eec003cea67e666d1b6daa02",
     "grade": false,
     "grade_id": "cell-4f46465ec3d8dc93",
     "locked": true,
     "schema_version": 3,
     "solution": false,
     "task": false
    }
   },
   "outputs": [],
   "source": [
    "import hmmlearn.hmm as hmm\n",
    "import pandas as pd\n",
    "import seaborn as sns"
   ]
  },
  {
   "cell_type": "markdown",
   "id": "b27bbdd4",
   "metadata": {
    "deletable": false,
    "editable": false,
    "nbgrader": {
     "cell_type": "markdown",
     "checksum": "b9c672b75ef13918518d00973c4c6257",
     "grade": false,
     "grade_id": "cell-bbd83348ecc9b54a",
     "locked": true,
     "schema_version": 3,
     "solution": false,
     "task": false
    }
   },
   "source": [
    "### Aufgabe 1: SSVEP BCI\n",
    "\n",
    "Anliegend findet ihr vier EEG Aufnahmen als CSV gespeichert. Diese stammen aus einem Brain-Computer-Interface (BCI) Experiment, welches mit einem Steady State Visual Evoked Potential (SSVEP) arbeitet. Das heißt, es flackern auf einem Bildschirm vier Kästchen jeweils mit einer eigenen Frequenz und der/die Nutzer:in fokussiert sich auf eines um eine Aktion auszuführen. Die Frequenz findet sich dann im EEG des Okzipitallappens wieder.\n",
    "\n",
    "Die Daten wurden mit 500 Hz aufgezeichnet und stammen von den drei Elektroden \"O1\", \"Oz\", \"O2\". Die vier Kästchen flackerten mit 4, 6, 10 und 15 Hz."
   ]
  },
  {
   "cell_type": "code",
   "execution_count": null,
   "id": "9749c074",
   "metadata": {
    "deletable": false,
    "editable": false,
    "nbgrader": {
     "cell_type": "code",
     "checksum": "f787740f910b4191db244fcac913a008",
     "grade": false,
     "grade_id": "cell-bbaba84ce4f2a4cb",
     "locked": true,
     "schema_version": 3,
     "solution": false,
     "task": false
    }
   },
   "outputs": [],
   "source": [
    "channels = [\"O1\", \"Oz\", \"O2\"]\n",
    "\n",
    "a = pd.read_csv('a.csv', names=channels, sep=' ')\n",
    "b = pd.read_csv('b.csv', names=channels, sep=' ')\n",
    "c = pd.read_csv('c.csv', names=channels, sep=' ')\n",
    "d = pd.read_csv('d.csv', names=channels, sep=' ')\n",
    "\n",
    "a_values = a.values\n",
    "b_values = b.values\n",
    "c_values = c.values\n",
    "d_values = d.values"
   ]
  },
  {
   "cell_type": "markdown",
   "id": "742a718a-79d6-46f0-8934-802b5968ccc4",
   "metadata": {
    "deletable": false,
    "editable": false,
    "nbgrader": {
     "cell_type": "markdown",
     "checksum": "0d280c944ebc48c0f5b7504a63a93c16",
     "grade": false,
     "grade_id": "cell-702a011ec11f92ce",
     "locked": true,
     "schema_version": 3,
     "solution": false,
     "task": false
    },
    "tags": []
   },
   "source": [
    "**1.** Plottet Aufnahme a als Linienplot."
   ]
  },
  {
   "cell_type": "code",
   "execution_count": null,
   "id": "3c387f42",
   "metadata": {
    "deletable": false,
    "nbgrader": {
     "cell_type": "code",
     "checksum": "adc4b4f82da105566eb0626cd7affe37",
     "grade": true,
     "grade_id": "cell-ade20ae6d8b02fb9",
     "locked": false,
     "points": 1,
     "schema_version": 3,
     "solution": true,
     "task": false
    }
   },
   "outputs": [],
   "source": [
    "# YOUR CODE HERE\n",
    "raise NotImplementedError()"
   ]
  },
  {
   "cell_type": "markdown",
   "id": "b33f4d14-2557-45e0-a457-a03bc3e58bc9",
   "metadata": {
    "deletable": false,
    "editable": false,
    "nbgrader": {
     "cell_type": "markdown",
     "checksum": "2b3d3ba1c165af9f2273790da7289bed",
     "grade": false,
     "grade_id": "cell-a4f7a3cac1df6571",
     "locked": true,
     "schema_version": 3,
     "solution": false,
     "task": false
    },
    "tags": []
   },
   "source": [
    "**2.** Könnt ihr basierend auf diesem Plot etwas erkennen, welche Frequenz der/die Nutzer:in fokussiert hat?"
   ]
  },
  {
   "cell_type": "code",
   "execution_count": null,
   "id": "5f9e81cd-6b2c-457c-aa3a-48b5f0ecd92b",
   "metadata": {
    "deletable": false,
    "nbgrader": {
     "cell_type": "code",
     "checksum": "4a2778d241dffbcf0b84fa18eb224490",
     "grade": true,
     "grade_id": "cell-b96a4b1d55f7b3a9",
     "locked": false,
     "points": 0,
     "schema_version": 3,
     "solution": true,
     "task": false
    },
    "tags": []
   },
   "outputs": [],
   "source": [
    "# YOUR CODE HERE\n",
    "raise NotImplementedError()"
   ]
  },
  {
   "cell_type": "markdown",
   "id": "e2485b11-971a-4ce0-948e-d2c237612871",
   "metadata": {
    "deletable": false,
    "editable": false,
    "nbgrader": {
     "cell_type": "markdown",
     "checksum": "122570ba0981fa55efd685656495a9d5",
     "grade": false,
     "grade_id": "cell-0c60fcac724c7f34",
     "locked": true,
     "schema_version": 3,
     "solution": false,
     "task": false
    },
    "tags": []
   },
   "source": [
    "**3.** Wir möchten nun die Powerspektren pro Kanal und Aufnahme darstellen. Implementiert dafür zunächst die Funktion `calc_powerspektrum`; `channel` entspricht hierbei einem Kanal, bspw. `a_values[:, 0]`."
   ]
  },
  {
   "cell_type": "code",
   "execution_count": null,
   "id": "956ebad8",
   "metadata": {
    "deletable": false,
    "nbgrader": {
     "cell_type": "code",
     "checksum": "d8c6692a1feabad468f3fabb3dd639ff",
     "grade": true,
     "grade_id": "cell-b465bd1fa615b46f",
     "locked": false,
     "points": 2,
     "schema_version": 3,
     "solution": true,
     "task": false
    }
   },
   "outputs": [],
   "source": [
    "def calc_powerspektrum(channel):\n",
    "    # Berechnet die absolute Energie (np.fft.rfft kann hier helfen)\n",
    "    abs_spec = np.array([])\n",
    "    \n",
    "    # YOUR CODE HERE\n",
    "    raise NotImplementedError()\n",
    "\n",
    "    # Berechnet die Frequenzbins (np.fft.rfftfreq kann hier helfen) \n",
    "    freqs = np.array([])\n",
    "    \n",
    "    # YOUR CODE HERE\n",
    "    raise NotImplementedError()\n",
    "    \n",
    "    # Behaltet nur diejenigen Frequenzen zwischen 3 und 40 Hz\n",
    "    # YOUR CODE HERE\n",
    "    raise NotImplementedError()\n",
    "    \n",
    "    # Gebt als ersten Rückgabewert die Frequenzen und als zweiten die zugehörige Energie zurück\n",
    "    # YOUR CODE HERE\n",
    "    raise NotImplementedError()"
   ]
  },
  {
   "cell_type": "markdown",
   "id": "8161a531-532c-47ac-ac8e-6d9cd088cb50",
   "metadata": {
    "deletable": false,
    "editable": false,
    "nbgrader": {
     "cell_type": "markdown",
     "checksum": "f5a9e95ac199c9373f36a286fe6042e2",
     "grade": false,
     "grade_id": "cell-145410a72c12b1a0",
     "locked": true,
     "schema_version": 3,
     "solution": false,
     "task": false
    },
    "tags": []
   },
   "source": [
    "**4.** Plottet nun die Powerspektren pro Kanal und Aufnahme.\n",
    "\n",
    "_Hinweis_: die `for`-Schleife dient der Hilfe. Ihr dürft diese auch durch eure eigene Implementierung ersetzen, wenn ihr möchtet."
   ]
  },
  {
   "cell_type": "code",
   "execution_count": null,
   "id": "8748d6ce",
   "metadata": {
    "deletable": false,
    "nbgrader": {
     "cell_type": "code",
     "checksum": "ef275de59321d59fea0c881a113b2e00",
     "grade": true,
     "grade_id": "cell-67a425fbb9b0783c",
     "locked": false,
     "points": 1,
     "schema_version": 3,
     "solution": true,
     "task": false
    },
    "tags": []
   },
   "outputs": [],
   "source": [
    "for trial in [a_values, b_values, c_values, d_values]:\n",
    "    # YOUR CODE HERE\n",
    "    raise NotImplementedError()\n",
    "    plt.show()"
   ]
  },
  {
   "cell_type": "markdown",
   "id": "9bb70c43",
   "metadata": {
    "deletable": false,
    "editable": false,
    "nbgrader": {
     "cell_type": "markdown",
     "checksum": "c885a50eb7d724e107b81ca23e78dcbe",
     "grade": false,
     "grade_id": "cell-21db087cc5ad1491",
     "locked": true,
     "schema_version": 3,
     "solution": false,
     "task": false
    }
   },
   "source": [
    "Referenz für möglichen Plot für a.csv aus Aufgabenteil 4.\n",
    "\n",
    "<img src=\"a.png\" style=\"width: 50%\">"
   ]
  },
  {
   "cell_type": "markdown",
   "id": "01830713",
   "metadata": {
    "deletable": false,
    "editable": false,
    "nbgrader": {
     "cell_type": "markdown",
     "checksum": "04ca8df5eb39e53f18cfd5b77590f97f",
     "grade": false,
     "grade_id": "cell-729d5b637d64ad5a",
     "locked": true,
     "points": 1,
     "schema_version": 3,
     "solution": false,
     "task": true
    },
    "tags": []
   },
   "source": [
    "**5.** Basierend auf den Plots, auf welche Frequenz hat sich der/die Nutzer:in in `a`, `b`, `c` und `d` jeweils fokussiert?\n"
   ]
  },
  {
   "cell_type": "markdown",
   "id": "78377294",
   "metadata": {
    "tags": []
   },
   "source": []
  },
  {
   "cell_type": "markdown",
   "id": "b173544c-67b1-4e0a-a656-d589e93f97ba",
   "metadata": {
    "deletable": false,
    "editable": false,
    "nbgrader": {
     "cell_type": "markdown",
     "checksum": "107ed11e9c2d12a8cbdae15fe8e143b8",
     "grade": false,
     "grade_id": "cell-ef64945c9297123d",
     "locked": true,
     "points": 1,
     "schema_version": 3,
     "solution": false,
     "task": true
    },
    "tags": []
   },
   "source": [
    "**6.** Woran erkennt ihr die fokussierten Frequenzen?\n"
   ]
  },
  {
   "cell_type": "markdown",
   "id": "bcc53832-9c8b-4272-9c84-47be21021f4c",
   "metadata": {},
   "source": []
  },
  {
   "cell_type": "markdown",
   "id": "a16341ba",
   "metadata": {
    "deletable": false,
    "editable": false,
    "nbgrader": {
     "cell_type": "markdown",
     "checksum": "0ae31000714fd913b69727beb97b654a",
     "grade": false,
     "grade_id": "cell-63028dd0747afe92",
     "locked": true,
     "schema_version": 3,
     "solution": false,
     "task": false
    }
   },
   "source": [
    "### 2. Aufgabe: Evaluation\n",
    "\n",
    "Im Folgenden möchten wir zwei Klassifikatoren auswerten und auf einem Datensatz vergleichen. Wir nutzen dazu den Breast Cancer Datensatz (https://scikit-learn.org/stable/datasets/toy_dataset.html#breast-cancer-dataset) sowie eine SVM und ein KNN."
   ]
  },
  {
   "cell_type": "code",
   "execution_count": null,
   "id": "07862bdd",
   "metadata": {
    "deletable": false,
    "editable": false,
    "nbgrader": {
     "cell_type": "code",
     "checksum": "d94b9d42af066e235c608e8991de77f5",
     "grade": false,
     "grade_id": "cell-1b0e8d054d8d015f",
     "locked": true,
     "schema_version": 3,
     "solution": false,
     "task": false
    }
   },
   "outputs": [],
   "source": [
    "breast_cancer = sklearn.datasets.load_breast_cancer()"
   ]
  },
  {
   "cell_type": "markdown",
   "id": "50e208b2-9b04-4547-a837-b8a2c86ed948",
   "metadata": {
    "deletable": false,
    "editable": false,
    "nbgrader": {
     "cell_type": "markdown",
     "checksum": "494a2fccac2e1fd697b5c088229c5440",
     "grade": false,
     "grade_id": "cell-d4ed0af5357db609",
     "locked": true,
     "schema_version": 3,
     "solution": false,
     "task": false
    },
    "tags": []
   },
   "source": [
    "**1.** Teilt den Datensatz dafür zuerst in Trainings- und Testset mit einem 80% zu 20% Verhältnis. "
   ]
  },
  {
   "cell_type": "code",
   "execution_count": null,
   "id": "6803ab6a",
   "metadata": {
    "deletable": false,
    "nbgrader": {
     "cell_type": "code",
     "checksum": "0d9c494c8c147ad945512a2339f76d1c",
     "grade": true,
     "grade_id": "cell-46b434cbc5a5bf11",
     "locked": false,
     "points": 1,
     "schema_version": 3,
     "solution": true,
     "task": false
    }
   },
   "outputs": [],
   "source": [
    "train_X, train_y = [], []\n",
    "test_X, test_y = [], []\n",
    "\n",
    "# YOUR CODE HERE\n",
    "raise NotImplementedError()"
   ]
  },
  {
   "cell_type": "markdown",
   "id": "438b0981-0fb4-44d5-9e2e-60750d1316a4",
   "metadata": {
    "deletable": false,
    "editable": false,
    "nbgrader": {
     "cell_type": "markdown",
     "checksum": "bd2e8804d0b878f8cce3fa0934c9d1dc",
     "grade": false,
     "grade_id": "cell-80dbb31ff5cafdcd",
     "locked": true,
     "schema_version": 3,
     "solution": false,
     "task": false
    },
    "tags": []
   },
   "source": [
    "**2.** Trainiert nun eine SVM und ein KNN auf den Trainingsdaten und klassifiziert die Testdaten. "
   ]
  },
  {
   "cell_type": "code",
   "execution_count": null,
   "id": "5670eebb",
   "metadata": {
    "deletable": false,
    "nbgrader": {
     "cell_type": "code",
     "checksum": "49cbe2054d7f35b5970f649086349482",
     "grade": true,
     "grade_id": "cell-6569d7a3984cbcf0",
     "locked": false,
     "points": 1,
     "schema_version": 3,
     "solution": true,
     "task": false
    }
   },
   "outputs": [],
   "source": [
    "from sklearn.svm import SVC\n",
    "from sklearn.neighbors import KNeighborsClassifier\n",
    "\n",
    "model_svm = None\n",
    "model_knn = None\n",
    "\n",
    "pred_svm = []\n",
    "pred_knn = []\n",
    "\n",
    "# YOUR CODE HERE\n",
    "raise NotImplementedError()"
   ]
  },
  {
   "cell_type": "markdown",
   "id": "60fb5dfd-e8fb-43b0-a014-5ba49cb7d9bd",
   "metadata": {
    "deletable": false,
    "editable": false,
    "nbgrader": {
     "cell_type": "markdown",
     "checksum": "27755829c017e7058970628a68d92fb8",
     "grade": false,
     "grade_id": "cell-3ecca9fae087d504",
     "locked": true,
     "schema_version": 3,
     "solution": false,
     "task": false
    },
    "tags": []
   },
   "source": [
    "**3.** Plottet eine verständliche Konfusionsmatrix für beide Modelle. Nutzt hierfür `confusion_matrix` und `ConfusionMatrixDisplay`.\n",
    "\n",
    "_Hinweis_: vergesst nicht .plot() aufzurufen."
   ]
  },
  {
   "cell_type": "code",
   "execution_count": null,
   "id": "5ff20105",
   "metadata": {
    "deletable": false,
    "nbgrader": {
     "cell_type": "code",
     "checksum": "9c56abfb3c7df93dd923723077524453",
     "grade": true,
     "grade_id": "cell-f48c5d2e962ff8f9",
     "locked": false,
     "points": 1,
     "schema_version": 3,
     "solution": true,
     "task": false
    }
   },
   "outputs": [],
   "source": [
    "from sklearn.metrics import confusion_matrix, ConfusionMatrixDisplay\n",
    "\n",
    "conf_matr_svm = []\n",
    "conf_matr_knn = []\n",
    "\n",
    "# YOUR CODE HERE\n",
    "raise NotImplementedError()"
   ]
  },
  {
   "cell_type": "markdown",
   "id": "c340f246-4875-4366-bad1-c6d34997e3aa",
   "metadata": {
    "deletable": false,
    "editable": false,
    "nbgrader": {
     "cell_type": "markdown",
     "checksum": "911a85b1d7fcb095f93d7f5e49aad907",
     "grade": false,
     "grade_id": "cell-4e8a4e9fd687593b",
     "locked": true,
     "schema_version": 3,
     "solution": false,
     "task": false
    },
    "tags": []
   },
   "source": [
    "**4.** Implementiert die Funktionen `precision` und `recall` für Klasse 1 (`tp = 1`). `cm` steht hierbei für die Konfusionsmatrix.\n",
    "\n",
    "_Hinweis_: Eure Lösungen werden automatisch getestet. Achtet daher darauf, dass eure Konfusionsmatrizen `conf_matr_svm` und `conf_matr_knn` heißen, wie in **3.** definiert."
   ]
  },
  {
   "cell_type": "code",
   "execution_count": null,
   "id": "3431007f",
   "metadata": {
    "deletable": false,
    "nbgrader": {
     "cell_type": "code",
     "checksum": "b581b6836d71f5ba58bff17737755913",
     "grade": false,
     "grade_id": "cell-6c487432407e5780",
     "locked": false,
     "schema_version": 3,
     "solution": true,
     "task": false
    },
    "tags": []
   },
   "outputs": [],
   "source": [
    "def precision(cm):\n",
    "    # YOUR CODE HERE\n",
    "    raise NotImplementedError()\n",
    "\n",
    "def recall(cm):\n",
    "    # YOUR CODE HERE\n",
    "    raise NotImplementedError()"
   ]
  },
  {
   "cell_type": "code",
   "execution_count": null,
   "id": "6367b6ea-2a56-4875-b255-f0c6e0f8ecf6",
   "metadata": {
    "deletable": false,
    "editable": false,
    "nbgrader": {
     "cell_type": "code",
     "checksum": "442ae926d6da52d7b17604cd8d2403c6",
     "grade": true,
     "grade_id": "cell-22514e621cc718b6",
     "locked": true,
     "points": 1,
     "schema_version": 3,
     "solution": false,
     "task": false
    },
    "tags": []
   },
   "outputs": [],
   "source": [
    "print(f'''-- SVM Class 1 -- \n",
    "    Precision: {precision(conf_matr_svm):.3}, \n",
    "    Recall: {recall(conf_matr_svm):.3}''')\n",
    "\n",
    "print(f'''-- KNN Class 1 -- \n",
    "    Precision: {precision(conf_matr_knn):.3}, \n",
    "    Recall: {recall(conf_matr_knn):.3}''')\n",
    "\n",
    "# Euer Ergebnis wird automatisch getestet."
   ]
  },
  {
   "cell_type": "markdown",
   "id": "24cb87fa",
   "metadata": {
    "deletable": false,
    "editable": false,
    "nbgrader": {
     "cell_type": "markdown",
     "checksum": "d8be10b3a1605af71cb46c72b535fc6e",
     "grade": false,
     "grade_id": "cell-c59a27da13e62c75",
     "locked": true,
     "points": 1,
     "schema_version": 3,
     "solution": false,
     "task": true
    },
    "tags": []
   },
   "source": [
    "**6.** Ist eine SVM oder ein KNN besser auf dem Breast Cancer Datenset?\n"
   ]
  },
  {
   "cell_type": "markdown",
   "id": "c5359c89",
   "metadata": {},
   "source": []
  },
  {
   "cell_type": "markdown",
   "id": "f06dc9d6-7418-42f3-b851-0ca95c98dcfc",
   "metadata": {
    "deletable": false,
    "editable": false,
    "nbgrader": {
     "cell_type": "markdown",
     "checksum": "52d73e663b115d25a8f274a641db4ade",
     "grade": false,
     "grade_id": "cell-156a71659982fe45",
     "locked": true,
     "points": 1,
     "schema_version": 3,
     "solution": false,
     "task": true
    },
    "tags": []
   },
   "source": [
    "**7.** Ist ein 80/20 Evaluationssplit geschickt? Welche Alternativen gibt es?\n"
   ]
  },
  {
   "cell_type": "markdown",
   "id": "e8d1dc06-98ea-4099-ac5f-8ab42c8c2096",
   "metadata": {},
   "source": []
  }
 ],
 "metadata": {
  "kernelspec": {
   "display_name": "jupynb",
   "language": "python",
   "name": "jupynb"
  },
  "language_info": {
   "codemirror_mode": {
    "name": "ipython",
    "version": 3
   },
   "file_extension": ".py",
   "mimetype": "text/x-python",
   "name": "python",
   "nbconvert_exporter": "python",
   "pygments_lexer": "ipython3",
   "version": "3.10.6"
  },
  "vscode": {
   "interpreter": {
    "hash": "0ebd0b701ff4c2363b86f7237a81d4bde3162c261c985e5f11c480c0a9ebf323"
   }
  }
 },
 "nbformat": 4,
 "nbformat_minor": 5
}

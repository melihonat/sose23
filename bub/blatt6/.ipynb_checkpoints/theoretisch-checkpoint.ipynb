{
 "cells": [
  {
   "cell_type": "markdown",
   "id": "66ce36b5",
   "metadata": {
    "deletable": false,
    "editable": false,
    "nbgrader": {
     "cell_type": "markdown",
     "checksum": "27f82dc63b1fcf20fe552f368d19cc37",
     "grade": false,
     "grade_id": "cell-3b95a240bfb4e376",
     "locked": true,
     "schema_version": 3,
     "solution": false,
     "task": false
    }
   },
   "source": [
    "## Theoretische Aufgaben – Blatt6"
   ]
  },
  {
   "cell_type": "markdown",
   "id": "d863ba71",
   "metadata": {
    "deletable": false,
    "editable": false,
    "nbgrader": {
     "cell_type": "markdown",
     "checksum": "4fe209a84a83a741241960a52ee91dd8",
     "grade": false,
     "grade_id": "cell-4f6cd4936872cacf",
     "locked": true,
     "schema_version": 3,
     "solution": false,
     "task": false
    }
   },
   "source": [
    "Beantwortet die inhaltlichen Fragen schriftlich und verwendet für die Statistikaufgaben eine mathematische Notation und keine Textbeschreibung oder graphische Deduktion. Ohne Rechenweg können keine Punkte vergeben werden.\n",
    "\n",
    "_Hinweis_: Beantwortet die folgenden Fragen ohne Programmierung.\n",
    "\n",
    "_Tipp_: Ihr könnt in den Markdown Zellen auch Latex verwenden oder Bilder einfügen."
   ]
  },
  {
   "cell_type": "markdown",
   "id": "9d1b5d96",
   "metadata": {
    "deletable": false,
    "editable": false,
    "nbgrader": {
     "cell_type": "markdown",
     "checksum": "004e813f0b1fb1a8ddbf7f5e1ce06620",
     "grade": false,
     "grade_id": "cell-a09f3a04b54f7a6c",
     "locked": true,
     "points": 5,
     "schema_version": 3,
     "solution": false,
     "task": true
    }
   },
   "source": [
    "### Aufgabe 1: Hirnaktivität\n",
    "\n",
    "1. Ordnet die folgenden Messverfahren aufsteigend nach räumlicher Auflösung: EEG, fMRI, Microarrays\n",
    "2. Ordnet die Messverfahren aus Teilaufgabe 1 nun aufsteigend nach zeitlicher Auflösung.\n",
    "3. Was versteht man unter Cosine-Tuning? Was (im Bezug auf dem Motorcortex) unter Lateralisierung? Was ist der Unterschied zwischen den beiden?\n",
    "4. Was besagt das Prinzip der Neurovaskulären Kopplung? Wie hilft das bei der Erfassung von Hirnaktivität?\n",
    "5. Wir haben in der Vorlesung BCIs kennengelernt, die mit Steady-State Visually Evoked Potentials arbeiten. Erläutert, wie diese funktionieren. Könnte man ein fNIRS-basiertes SSVEP-BCI bauen? Begründet eure Antwort.\n"
   ]
  },
  {
   "cell_type": "markdown",
   "id": "7793785f",
   "metadata": {},
   "source": [
    "1.\\\n",
    "Die Ordnung der räumlichen Auflösung der genannten Messverfahren ist wie folgt:\\\n",
    "EEG: Einige Zentimeter\\\n",
    "fMRI: Etwa 3mm\\\n",
    "Microarrays: Einzelne Neuronen\\\n",
    "\n",
    "2.\\\n",
    "Die zeitliche Auflösung von EEG und Microarrays sind Millisekunden, und die von fMRI 2-5 Sekunden.\n",
    "\n",
    "3.\\\n",
    "Cosine-Tuning ist ein Modell zur Beschreibung der neuronalen Aktivität in Bezug auf die Bewegungsrichtung, während Lateralisierung sich auf die Dominanz einer Gehirnhälfte bei bestimmten Funktionen oder Prozessen bezieht. Beide Konzepte können zusammen verwendet werden, um ein umfassenderes Verständnis davon zu erlangen, wie der Motorcortex Bewegungen steuert.\n",
    "\n",
    "4.\\\n",
    "\n",
    "5.\\\n",
    "SSVEP sind Reaktionen des Gehirns auf visuelle Reize. SSVEP-BCIs funktionieren, indem sie verschiedene Lichtquellen verwenden, die mit unterschiedlichen Frequenzen flackern. Im EEG lässt sich die oszillatorische Aktivität mit entsprechenden Frequenzen detektieren, was zur Unterscheidung verschiedener Klassen genutzt werden kann.\\\n",
    "Ein fNIRS-basiertes SSVEP-BCI könnte theoretisch möglich sein, da fNIRS auch Veränderungen in der Gehirnaktivität messen kann, ähnlich wie EEG. Aber fNIRS ist langsamer als EEG und könnte daher Probleme haben, die schnellen Veränderungen der Gehirnaktivität zu erfassen, die durch die flackernden Lichter verursacht werden. Trotzdem hätte es eine gute Klassifikationsleistung."
   ]
  },
  {
   "cell_type": "markdown",
   "id": "10617269",
   "metadata": {
    "deletable": false,
    "editable": false,
    "nbgrader": {
     "cell_type": "markdown",
     "checksum": "c5caa3d4a038ffc85920f15163f889b7",
     "grade": false,
     "grade_id": "cell-83e35c59ec3b4124",
     "locked": true,
     "points": 4,
     "schema_version": 3,
     "solution": false,
     "task": true
    }
   },
   "source": [
    "### Aufgabe 2: Workload-Erkenner\n",
    "\n",
    "Ihr sollt ein System zum Einsatz in Flugzeugen entwerfen, das die mentale Auslastung auf Basis von Hirnaktivität schätzt.\n",
    "\n",
    "1. Welche in der Vorlesung behandelten Biosignale wären zur tragbaren Hirnaktivitätserfassung grundsätzlich geeignet? Nennen Sie 4 Beispiele.\n",
    "\n",
    "2. Welches Biosignal würdet ihr für das System wählen? Nennt zwei Biosignale, die für dieses System ungeeignet wären (begründet eure Antwort).\n",
    "\n",
    "3. Mit welchem Sensor wird das von euch gewählte Signal erfasst? (1 Wort)\n",
    "\n",
    "4. Erklärt, wie die Erfassung eures gewählten Signals funktioniert.\n",
    "\n"
   ]
  },
  {
   "cell_type": "markdown",
   "id": "56ba7db0",
   "metadata": {},
   "source": [
    "1.\\\n",
    "EEG, fNIRS, EOG, \n",
    "\n",
    "2.\\\n",
    "Wir würden für das System das EEG wählen, da es nicht invasiv ist, und in Echtzeit Daten liefern kann, was gut ist, wenn es ein System sein soll, das die mentale Auslastung in Echtzeit überwachen soll.\\\n",
    "Zwei Biosignale die ungeeignet wären, sind zum einen fMRI, da die Probanden still liegen müssten, was in einem Flugzeug relativ schwierig aufzusetzen ist, und zum anderen MEG, da es auch hier einen großen und schweren Scanner benötigt, und die Probanden still sitzen/liegen müssen.\n",
    "\n",
    "3.\\\n",
    "Elektroden\n",
    "\n",
    "4.\\\n",
    "Die Erfassung des EEG-Signals funktioniert mit Elektroden, die man auf der Kopfhaut platziert. Diese messen die elektrischen Spannungsschwankungen an der Kopfoberfläche."
   ]
  },
  {
   "cell_type": "markdown",
   "id": "5e3c7677",
   "metadata": {
    "deletable": false,
    "editable": false,
    "nbgrader": {
     "cell_type": "markdown",
     "checksum": "dc45fa3169964aae2ca1911862f36a20",
     "grade": false,
     "grade_id": "cell-5abb67d6b6e8d23e",
     "locked": true,
     "points": 3,
     "schema_version": 3,
     "solution": false,
     "task": true
    }
   },
   "source": [
    "### Aufgabe 3: Wissenschaftliche Methoden\n",
    "\n",
    "1. Erklärt kurz die Wissenschaftliche Methode. \n",
    "\n",
    "2. Anhand der VL-Folien: Welche drei Anforderungen sollten an Antworten auf wissenschaftliche Fragen gestellt werden? Erklärt diese.\n",
    "\n"
   ]
  },
  {
   "cell_type": "markdown",
   "id": "fac7fe2d",
   "metadata": {},
   "source": [
    "1.\\\n",
    "Die Wissenschaftliche Methode besteht im ersten Schritt aus dem Formulieren einer Hypothese, also einer vorläufigen Annahme, welche testbar, einfach, umfangreich, ergebig und konservativ sein sollte. Danach wird ein Experiment entworfen, um die Annahmen der Hypothese zu testen. Hier werden die Daten mithilfe des Experiments gesammelt. Anschließend werden statistische Analysen durchgeführt, um die Hypothese auf Basis der gesammelten Daten auszuwerten. Diese Analysen können zeigen, ob die Ergebnisse der Experimente statistisch signifikant sind und ob die Hypothese unterstützen oder widerlegen. Zu guter Letzt werden auf der Grundlage der statistischen Analyse Schlussfolgerungen gezogen, die dazu führen, dass die Hypothese bestätigt, modifiziert oder verworfen wird.\n",
    "\n",
    "2.\\\n",
    "### Objektivität\n",
    "Die Ergebnisse sollten auf soliden Beweisen basieren, die durch Beobachtung oder Experimente gesammelt wurden und nicht auf subjektiver Einschätzung des Versuchsleiters.\n",
    "### Quantität\n",
    "Die Ergebnisse sollten in einer Form vorliegen, die quantitativ analysiert und mit anderen Ergebnissen (normskaliert) verglichen werden kann.\n",
    "### Reproduzierbarkeit\n",
    "Experimente, Analysen und Ergebnisse sollten so dokumentiert sein, dass andere Wissenschaftler das Experiment selber nachmachen können und Ergebnisse vergleichen können (Peer-Review)."
   ]
  }
 ],
 "metadata": {
  "kernelspec": {
   "display_name": "Python 3 (ipykernel)",
   "language": "python",
   "name": "python3"
  },
  "language_info": {
   "codemirror_mode": {
    "name": "ipython",
    "version": 3
   },
   "file_extension": ".py",
   "mimetype": "text/x-python",
   "name": "python",
   "nbconvert_exporter": "python",
   "pygments_lexer": "ipython3",
   "version": "3.11.3"
  }
 },
 "nbformat": 4,
 "nbformat_minor": 5
}

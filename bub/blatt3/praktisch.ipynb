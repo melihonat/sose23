{
 "cells": [
  {
   "cell_type": "markdown",
   "id": "32c4a1cf",
   "metadata": {
    "deletable": false,
    "editable": false,
    "nbgrader": {
     "cell_type": "markdown",
     "checksum": "a88d0f0ce3664a615354b292d2a5bb30",
     "grade": false,
     "grade_id": "cell-f0e08049127dc5a5",
     "locked": true,
     "schema_version": 3,
     "solution": false,
     "task": false
    }
   },
   "source": [
    "## Praktische Aufgaben – Blatt 3"
   ]
  },
  {
   "cell_type": "code",
   "execution_count": null,
   "id": "15ba44ca",
   "metadata": {
    "deletable": false,
    "editable": false,
    "nbgrader": {
     "cell_type": "code",
     "checksum": "4d5a41502ac798ecc52f61bcfef2a9e7",
     "grade": false,
     "grade_id": "cell-21216987b0eb859c",
     "locked": true,
     "schema_version": 3,
     "solution": false,
     "task": false
    }
   },
   "outputs": [],
   "source": [
    "import numpy as np\n",
    "import matplotlib.pyplot as plt\n",
    "\n",
    "import numpy.typing as npt\n",
    "from typing import List"
   ]
  },
  {
   "cell_type": "markdown",
   "id": "5758d9fd",
   "metadata": {
    "deletable": false,
    "editable": false,
    "nbgrader": {
     "cell_type": "markdown",
     "checksum": "1b2dc475d7e8aa7037bc909a83e9e801",
     "grade": false,
     "grade_id": "cell-f84e908caaab8b13",
     "locked": true,
     "schema_version": 3,
     "solution": false,
     "task": false
    }
   },
   "source": [
    "Im Folgenden laden wir einen klassischen, aber veränderten Datensatz.\n",
    "\n",
    "Die Daten findet ihr in `data`. Die erste Dimension (Zeilen) enthält alle Samples und die zweite (Spalten) die vier Merkmale. Die Klasse für jedes der 105 Samples findet ihr in `target`."
   ]
  },
  {
   "cell_type": "code",
   "execution_count": null,
   "id": "d6abe4bb",
   "metadata": {
    "deletable": false,
    "editable": false,
    "nbgrader": {
     "cell_type": "code",
     "checksum": "7efa27bb7e7f93279ec20cec7f84f84c",
     "grade": false,
     "grade_id": "cell-ad76377a5a998447",
     "locked": true,
     "schema_version": 3,
     "solution": false,
     "task": false
    }
   },
   "outputs": [],
   "source": [
    "dataset = np.loadtxt(\"Dataset.csv\", delimiter=',', skiprows=1)\n",
    "np.random.shuffle(dataset)\n",
    "\n",
    "data = dataset[:, :-1]\n",
    "target = dataset[:, -1]\n",
    "print(data.shape, np.unique(target))"
   ]
  },
  {
   "cell_type": "markdown",
   "id": "0d25e435",
   "metadata": {
    "deletable": false,
    "editable": false,
    "nbgrader": {
     "cell_type": "markdown",
     "checksum": "0b986aa26ebdae4e21cbb9342c116c2f",
     "grade": false,
     "grade_id": "cell-b3f5f399519c2182",
     "locked": true,
     "schema_version": 3,
     "solution": false,
     "task": false
    }
   },
   "source": [
    "**Achtung**: In diesem Übungsblatt nutzen wir alle drei Klassen, nicht wie in Blatt2 nur die ersten beiden."
   ]
  },
  {
   "cell_type": "markdown",
   "id": "1ff1fcac-4c82-4f3d-b8ad-e6e53bfbb194",
   "metadata": {
    "deletable": false,
    "editable": false,
    "nbgrader": {
     "cell_type": "markdown",
     "checksum": "ffd42213eb4290fc052a7faaa15c5c2b",
     "grade": false,
     "grade_id": "cell-9ec952a204e03c23",
     "locked": true,
     "schema_version": 3,
     "solution": false,
     "task": false
    }
   },
   "source": [
    "### Aufgabe 1: k-Means\n",
    "Die folgenden Aufgaben befassen sich mit VL 09 Teil 2 und Teil 3"
   ]
  },
  {
   "cell_type": "markdown",
   "id": "e5a579b0-3bee-4d5f-a320-615c25ee59b6",
   "metadata": {
    "deletable": false,
    "editable": false,
    "nbgrader": {
     "cell_type": "markdown",
     "checksum": "9637f04b2b0a8031e219cd6f37b1f05d",
     "grade": false,
     "grade_id": "cell-d03f9760de86df12",
     "locked": true,
     "schema_version": 3,
     "solution": false,
     "task": false
    }
   },
   "source": [
    "**1.** Implementiert den k-Means Algorithmus, indem ihr in der folgenden Klasse die drei Funktionen `distance`, `fit` und `predict` vervollständigt:\n",
    "- `distance` berechnet die euklidische Distanz zwischen `sample` und `center`.\n",
    "_Erinnerung_: $eukl = \\sqrt{(x2_0 - x1_0)^2 + ... + (x2 - x1_n)^2}$.\n",
    "- `predict` findet für jedes Sample dasjenige Clusterzentrum, das ihm am nächsten ist und ordnet das Sample dem entsprechenden Cluster zu.\n",
    "- Und `fit` findet basierend auf `predict`'s Zuordnungen die besten Cluster durch iteratives Minimieren der Distanzen zwischen Samples und Clusterzentren.\n",
    "\n",
    "`X` sind übrigens Daten mit den Dimensionen $m \\times n$, wobei $m$ Samples und $n$ Merkmale sind.\n",
    "\n",
    "Nutzt außer `numpy` keine weiteren Pakete.\n",
    "\n",
    "_Hinweis_: den Algorithmus findet ihr in VL 09, Teil 2, Folie 6."
   ]
  },
  {
   "cell_type": "code",
   "execution_count": null,
   "id": "416c7c83",
   "metadata": {
    "deletable": false,
    "nbgrader": {
     "cell_type": "code",
     "checksum": "61f2e4d23b4d62294eb630c914a28c38",
     "grade": true,
     "grade_id": "cell-ade20ae6d8b02fb9",
     "locked": false,
     "points": 5,
     "schema_version": 3,
     "solution": true,
     "task": false
    }
   },
   "outputs": [],
   "source": [
    "class K_Means ():\n",
    "    def __init__ (self, k: int, n_iterations: int = 2) -> None:\n",
    "        self.k = k\n",
    "        self.n_iterations = n_iterations\n",
    "    \n",
    "    def distance(self, sample: npt.NDArray, center: npt.NDArray) -> float:\n",
    "        \"\"\"Berechnung der euklidischen Distanz zwischen sample und center\"\"\"  \n",
    "        \n",
    "        # YOUR CODE HERE\n",
    "        raise NotImplementedError()\n",
    "        \n",
    "        return 0.0\n",
    "    \n",
    "    def fit(self, X: npt.NDArray) -> None:\n",
    "        \"\"\" Berechnung der besten Cluster durch iterative\n",
    "        Minimierung der Distanz jedes Samples zu seinem Clusterzentrum\n",
    "        \"\"\"\n",
    "        \n",
    "        # Initialisierung der Zentren durch Ziehen eines zufälligen Samples\n",
    "        self.centers = np.random.default_rng().choice(X, size=self.k, replace=False)\n",
    "         \n",
    "        for _ in range(self.n_iterations):\n",
    "            \n",
    "            # Zuordnung jedes Samples zum Cluster mit geringster Entfernung\n",
    "            clusters = self.predict(X)\n",
    "            \n",
    "            # Berechnung neuer Zentren: Durchschnitt aller Samples in einem Cluster\n",
    "            self.centers = []\n",
    "            \n",
    "            # YOUR CODE HERE\n",
    "            raise NotImplementedError()\n",
    "    \n",
    "    def predict(self, X: npt.NDArray) -> List[int]:\n",
    "        \"\"\" Zuweisung jedes Samples zu dem Cluster (0..k-1), \n",
    "        dessen Zentrum dem Sample am nächsten ist.\n",
    "        \"\"\"\n",
    "\n",
    "        # YOUR CODE HERE\n",
    "        raise NotImplementedError()\n",
    "        \n",
    "        return []"
   ]
  },
  {
   "cell_type": "markdown",
   "id": "60982b01",
   "metadata": {
    "deletable": false,
    "editable": false,
    "nbgrader": {
     "cell_type": "markdown",
     "checksum": "719d7c6879a5faf9e9d49bd867bb8d94",
     "grade": false,
     "grade_id": "cell-6f3e69fe3c3472cf",
     "locked": true,
     "schema_version": 3,
     "solution": false,
     "task": false
    }
   },
   "source": [
    "Hier einige Sanity checks, ob eure k-Means Klasse das tut, was sie tun sollte..."
   ]
  },
  {
   "cell_type": "code",
   "execution_count": null,
   "id": "af34eef4-fa6f-46d1-9d81-6112eec984b6",
   "metadata": {
    "deletable": false,
    "editable": false,
    "nbgrader": {
     "cell_type": "code",
     "checksum": "2dc7d5d63c9080b12eab82d4b16ebab8",
     "grade": false,
     "grade_id": "cell-43a727aead425118",
     "locked": true,
     "schema_version": 3,
     "solution": false,
     "task": false
    }
   },
   "outputs": [],
   "source": [
    "k_means = K_Means(k=2, n_iterations=1)\n",
    "\n",
    "# Einfacher Distanz Test\n",
    "assert k_means.distance(np.array([1, 1]), np.array([2, 1])) == 1.0\n",
    "\n",
    "# Einfacher Cluster Test\n",
    "test_data = np.array([[1, 1], [2, 2]])\n",
    "k_means.fit(test_data)\n",
    "assert k_means.predict(test_data) in [[0, 1], [1, 0]]"
   ]
  },
  {
   "cell_type": "markdown",
   "id": "3177da23",
   "metadata": {
    "deletable": false,
    "editable": false,
    "nbgrader": {
     "cell_type": "markdown",
     "checksum": "98cfcfa3ea47c9119cb7b5d24a8b9097",
     "grade": false,
     "grade_id": "cell-3083cb7d283f212a",
     "locked": true,
     "schema_version": 3,
     "solution": false,
     "task": false
    }
   },
   "source": [
    "**2.** Trainiert nun eure K-Means Klasse mit den gegebenen Daten (`data`). Sollte es Probleme bei der Implementierung gegeben haben, könnt ihr hier den K-Means aus SKlearn nutzen (https://scikit-learn.org/stable/modules/generated/sklearn.cluster.KMeans.html)."
   ]
  },
  {
   "cell_type": "code",
   "execution_count": null,
   "id": "bc778a4d",
   "metadata": {
    "deletable": false,
    "nbgrader": {
     "cell_type": "code",
     "checksum": "d69b9460e28cf31c1ddf9512659707e8",
     "grade": true,
     "grade_id": "cell-5d3d440047c9e9f5",
     "locked": false,
     "points": 0.5,
     "schema_version": 3,
     "solution": true,
     "task": false
    }
   },
   "outputs": [],
   "source": [
    "# YOUR CODE HERE\n",
    "raise NotImplementedError()"
   ]
  },
  {
   "cell_type": "markdown",
   "id": "b8ccda10",
   "metadata": {
    "deletable": false,
    "editable": false,
    "nbgrader": {
     "cell_type": "markdown",
     "checksum": "bc6e86565f8c6a7515c1981a0e27e0e7",
     "grade": false,
     "grade_id": "cell-42d72ef92bf8cd68",
     "locked": true,
     "schema_version": 3,
     "solution": false,
     "task": false
    }
   },
   "source": [
    "**3.** Clustert die Daten, plottet die Samples mithilfe einer geeigneten Methode und färbt die Samples gemäß Ihres Clusterings ein."
   ]
  },
  {
   "cell_type": "code",
   "execution_count": null,
   "id": "eeda87c1",
   "metadata": {
    "deletable": false,
    "nbgrader": {
     "cell_type": "code",
     "checksum": "7ceb18d294df72f146029ab5a6a7fb00",
     "grade": true,
     "grade_id": "cell-d7ebcdf595c594cb",
     "locked": false,
     "points": 0.5,
     "schema_version": 3,
     "solution": true,
     "task": false
    }
   },
   "outputs": [],
   "source": [
    "cluster_pred = []\n",
    "\n",
    "# YOUR CODE HERE\n",
    "raise NotImplementedError()"
   ]
  },
  {
   "cell_type": "markdown",
   "id": "881e59e4",
   "metadata": {
    "deletable": false,
    "editable": false,
    "nbgrader": {
     "cell_type": "markdown",
     "checksum": "016d63f30e957c054dedc1015822df5d",
     "grade": false,
     "grade_id": "cell-072853577953b774",
     "locked": true,
     "points": 0.5,
     "schema_version": 3,
     "solution": false,
     "task": true
    }
   },
   "source": [
    "**4.** Führt das Training, Clustering und Plotten mehrfach aus. Die Cluster wechseln immer wieder durch, woran liegt dies?\n"
   ]
  },
  {
   "cell_type": "markdown",
   "id": "917ce57f",
   "metadata": {},
   "source": []
  },
  {
   "cell_type": "markdown",
   "id": "efb7c2a2",
   "metadata": {
    "deletable": false,
    "editable": false,
    "nbgrader": {
     "cell_type": "markdown",
     "checksum": "8e576e24bcf9b627e9e162daff986c8e",
     "grade": false,
     "grade_id": "cell-055f6f6cdaf8bd35",
     "locked": true,
     "points": 0.5,
     "schema_version": 3,
     "solution": false,
     "task": true
    }
   },
   "source": [
    "**5.** Was erwartet ihr, wenn ihr `k!=3` oder `n_iterations=1` wählt?\n"
   ]
  },
  {
   "cell_type": "markdown",
   "id": "33e0b3cb",
   "metadata": {},
   "source": []
  },
  {
   "cell_type": "markdown",
   "id": "9715b259-627a-4ac9-a82c-82e75a126f6d",
   "metadata": {
    "deletable": false,
    "editable": false,
    "nbgrader": {
     "cell_type": "markdown",
     "checksum": "8a86a7b098a1360493e1fd46f3871d61",
     "grade": false,
     "grade_id": "cell-35c200da97e1f08a",
     "locked": true,
     "schema_version": 3,
     "solution": false,
     "task": false
    }
   },
   "source": [
    "### Aufgabe 2: Gaussverteilungen\n",
    "\n",
    "Im Folgenden wollen wir nun basierend auf unserem k-Means-Clustering Gaussverteilungen trainieren. \n",
    "Dies ist angelehnt an die GMM-Initalisierung mithilfe von k-Means. Grundsätzlich ist k-Means aber für das Training von Gaussverteilungen nicht nötig, da diese eine eindeutige Lösung haben."
   ]
  },
  {
   "cell_type": "markdown",
   "id": "303cbc04",
   "metadata": {
    "deletable": false,
    "editable": false,
    "nbgrader": {
     "cell_type": "markdown",
     "checksum": "6bc111a741659b8763064d7f3733aa2d",
     "grade": false,
     "grade_id": "cell-19c2f17837201348",
     "locked": true,
     "schema_version": 3,
     "solution": false,
     "task": false
    }
   },
   "source": [
    "**1.** In der folgenden Berechnung für die Wahrscheinlichkeit eines Samples einer Gaussverteilung hat sich ein Fehler eingeschlichen.\n",
    "Korrigiert diesen (siehe VL 10, Teil 2)."
   ]
  },
  {
   "cell_type": "code",
   "execution_count": null,
   "id": "85076211-13be-48c5-8f70-dc0292ff562e",
   "metadata": {
    "deletable": false,
    "nbgrader": {
     "cell_type": "code",
     "checksum": "74fc99fd8e9cb459f5ee42409c820bce",
     "grade": false,
     "grade_id": "cell-f13c97dad5ca5bf3",
     "locked": false,
     "schema_version": 3,
     "solution": true,
     "task": false
    }
   },
   "outputs": [],
   "source": [
    "def gaussian_pdf(x, mu=0, variance=1):\n",
    "    return 1/(variance) * np.exp(-1/(2 * variance) * (x)**2)\n",
    "\n",
    "# YOUR CODE HERE\n",
    "raise NotImplementedError()"
   ]
  },
  {
   "cell_type": "markdown",
   "id": "7e2097f4",
   "metadata": {
    "deletable": false,
    "editable": false,
    "nbgrader": {
     "cell_type": "markdown",
     "checksum": "219660ac062dfefcba182ff81c36960f",
     "grade": false,
     "grade_id": "cell-077d70e9c0e537fa",
     "locked": true,
     "schema_version": 3,
     "solution": false,
     "task": false
    }
   },
   "source": [
    "Zum Vergleich: der folgende Code entspricht der grünen Verteilung auf Folie 6."
   ]
  },
  {
   "cell_type": "code",
   "execution_count": null,
   "id": "b5d3a7d1",
   "metadata": {
    "deletable": false,
    "editable": false,
    "nbgrader": {
     "cell_type": "code",
     "checksum": "600760e46b199dc697d205ea550a1587",
     "grade": true,
     "grade_id": "cell-bc4a149663ca2bc8",
     "locked": true,
     "points": 1,
     "schema_version": 3,
     "solution": false,
     "task": false
    }
   },
   "outputs": [],
   "source": [
    "x = np.arange(-5, 5, 0.01)\n",
    "y = [gaussian_pdf(t, mu=-2, variance=0.5) for t in x]\n",
    "plt.plot(x, y)\n",
    "\n",
    "# Euer Ergebnis wird automatisch getestet."
   ]
  },
  {
   "cell_type": "markdown",
   "id": "a06b9836",
   "metadata": {
    "deletable": false,
    "editable": false,
    "nbgrader": {
     "cell_type": "markdown",
     "checksum": "7c187df580a9fda2d57b63bbde22781c",
     "grade": false,
     "grade_id": "cell-b0a049a44ff89ddc",
     "locked": true,
     "schema_version": 3,
     "solution": false,
     "task": false
    }
   },
   "source": [
    "**2.** Berechnet nun für jedes eurer oben bestimmten Cluster Mittelwert `mu` und Varianz `var` auf dem dritten(!) Merkmal (also `feature = 2`) und speichert diese.\n",
    "\n",
    "_Hinweis_: Wir verwenden hier nur eine Dimension um die Gaussverteilungen nicht zu sehr zu verkomplizieren. In der realen Welt sind dies jedoch meist mehrdimensionale Vektoren."
   ]
  },
  {
   "cell_type": "code",
   "execution_count": null,
   "id": "05ccf5c6-b36a-4abf-b6d0-c2f5b3f85bed",
   "metadata": {
    "deletable": false,
    "nbgrader": {
     "cell_type": "code",
     "checksum": "91974356e6d0df0a1358e631072962ba",
     "grade": false,
     "grade_id": "cell-7366526c9b3d7bfe",
     "locked": false,
     "schema_version": 3,
     "solution": true,
     "task": false
    }
   },
   "outputs": [],
   "source": [
    "feature = 2\n",
    "\n",
    "parameters = [(0, 1)] # tuples with (mu, variance)\n",
    "\n",
    "# YOUR CODE HERE\n",
    "raise NotImplementedError()"
   ]
  },
  {
   "cell_type": "code",
   "execution_count": null,
   "id": "c5835e62",
   "metadata": {
    "deletable": false,
    "editable": false,
    "nbgrader": {
     "cell_type": "code",
     "checksum": "adfff230f27365317f266f95c4372f43",
     "grade": true,
     "grade_id": "cell-c7ab9f7c03783160",
     "locked": true,
     "points": 0.5,
     "schema_version": 3,
     "solution": false,
     "task": false
    }
   },
   "outputs": [],
   "source": [
    "# Euer Ergebnis wird automatisch getestet."
   ]
  },
  {
   "cell_type": "markdown",
   "id": "d8af6185",
   "metadata": {
    "deletable": false,
    "editable": false,
    "nbgrader": {
     "cell_type": "markdown",
     "checksum": "89378a062c997ea6e258fb18ffd08b94",
     "grade": false,
     "grade_id": "cell-db34638a1ecdaa1f",
     "locked": true,
     "schema_version": 3,
     "solution": false,
     "task": false
    }
   },
   "source": [
    "**3.** Plottet die drei Gaussverteilungen. Fügt außerdem das dritte Merkmal der Datenpunkte in den Plot ein. \n",
    "\n",
    "_Hinweise_: Die Farben zwischen Gaussverteilung und Daten müssen nicht übereinstimmen. Um die Datenpunkte einzufügen, könnt ihr für y-Werte Nullen verwenden."
   ]
  },
  {
   "cell_type": "code",
   "execution_count": null,
   "id": "f8f458b3",
   "metadata": {
    "deletable": false,
    "nbgrader": {
     "cell_type": "code",
     "checksum": "985b406010803d85fb91a7744a933b9e",
     "grade": true,
     "grade_id": "cell-3a66531ec0e8ad37",
     "locked": false,
     "points": 0.5,
     "schema_version": 3,
     "solution": true,
     "task": false
    }
   },
   "outputs": [],
   "source": [
    "x = np.arange(-1, 7, 0.01)\n",
    "\n",
    "# YOUR CODE HERE\n",
    "raise NotImplementedError()"
   ]
  },
  {
   "cell_type": "markdown",
   "id": "5b962872-4e4c-4c08-a336-06f24eeefa21",
   "metadata": {
    "deletable": false,
    "editable": false,
    "nbgrader": {
     "cell_type": "markdown",
     "checksum": "2aeb2f546aecade519f8ef1b826c9c1a",
     "grade": false,
     "grade_id": "cell-4224654fdcfb2387",
     "locked": true,
     "schema_version": 3,
     "solution": false,
     "task": false
    }
   },
   "source": [
    "**Vergleichsplot**\n",
    "\n",
    "![cluster.png](cluster.png)"
   ]
  },
  {
   "cell_type": "markdown",
   "id": "2ec1f6ce",
   "metadata": {
    "deletable": false,
    "editable": false,
    "nbgrader": {
     "cell_type": "markdown",
     "checksum": "c6757f3cb85ede9b022afb56c8c27283",
     "grade": false,
     "grade_id": "cell-447be237d1532c4c",
     "locked": true,
     "schema_version": 3,
     "solution": false,
     "task": false
    }
   },
   "source": [
    "**4.** Berechnet für alle drei Gaussverteilungen die Wahrscheinlichkeit, dass das erste Sample aus dieser Verteilung kommt."
   ]
  },
  {
   "cell_type": "code",
   "execution_count": null,
   "id": "6605c19a-fa63-45c0-8462-5e1e99de52a5",
   "metadata": {
    "deletable": false,
    "nbgrader": {
     "cell_type": "code",
     "checksum": "eef7c1a89f6c09e1c0f0a0cd01cfecef",
     "grade": false,
     "grade_id": "cell-3a6d6de619842c34",
     "locked": false,
     "schema_version": 3,
     "solution": true,
     "task": false
    }
   },
   "outputs": [],
   "source": [
    "sample = data[0, feature]\n",
    "probabilities = []\n",
    "\n",
    "# YOUR CODE HERE\n",
    "raise NotImplementedError()\n",
    "\n",
    "print(probabilities)"
   ]
  },
  {
   "cell_type": "code",
   "execution_count": null,
   "id": "4d51d6bc",
   "metadata": {
    "deletable": false,
    "editable": false,
    "nbgrader": {
     "cell_type": "code",
     "checksum": "22831239a9d4ba21013dab32688f534e",
     "grade": true,
     "grade_id": "cell-d2b1b65eaffee2ff",
     "locked": true,
     "points": 0.5,
     "schema_version": 3,
     "solution": false,
     "task": false
    }
   },
   "outputs": [],
   "source": [
    "# Euer Ergebnis wird automatisch getestet."
   ]
  },
  {
   "cell_type": "markdown",
   "id": "55868d31",
   "metadata": {
    "deletable": false,
    "editable": false,
    "nbgrader": {
     "cell_type": "markdown",
     "checksum": "a15fadb8f4db9a63d9a81f3e298c12aa",
     "grade": false,
     "grade_id": "cell-5d2a94dce46cfc47",
     "locked": true,
     "points": 0.5,
     "schema_version": 3,
     "solution": false,
     "task": true
    }
   },
   "source": [
    "**5.** Wenn ihr die Wahrscheinlichkeiten aufsummiert, kommt nicht eins heraus. Warum?\n"
   ]
  },
  {
   "cell_type": "markdown",
   "id": "4e5eac45",
   "metadata": {},
   "source": []
  },
  {
   "cell_type": "markdown",
   "id": "016d62fa",
   "metadata": {
    "deletable": false,
    "editable": false,
    "nbgrader": {
     "cell_type": "markdown",
     "checksum": "ddc086edd496dc05a3169aa459dd975d",
     "grade": false,
     "grade_id": "cell-aa163b9dccd35411",
     "locked": true,
     "schema_version": 3,
     "solution": false,
     "task": false
    }
   },
   "source": [
    "**6.** Wir wollen nun einen einfachen Klassifikator bauen. Wir betrachten dafür wieder nur das dritte(!) Merkmal. Berechnet für jedes Sample in den Daten die wahrscheinlichste Gaussverteilung.\n",
    "\n",
    "_Hinweis_: Falls ihr ChatGPT nutzt, validiert den Code und passt ihn an, sodass er effizienter ist."
   ]
  },
  {
   "cell_type": "code",
   "execution_count": null,
   "id": "d444801c-87a2-483d-b921-3e384b0ab5a5",
   "metadata": {
    "deletable": false,
    "nbgrader": {
     "cell_type": "code",
     "checksum": "43c6b345fa21a2cddbd87cad38897c05",
     "grade": true,
     "grade_id": "cell-baf51c0ec60af0c7",
     "locked": false,
     "points": 1,
     "schema_version": 3,
     "solution": true,
     "task": false
    }
   },
   "outputs": [],
   "source": [
    "target_prediction = []\n",
    "\n",
    "# YOUR CODE HERE\n",
    "raise NotImplementedError()"
   ]
  },
  {
   "cell_type": "code",
   "execution_count": null,
   "id": "639cee5a",
   "metadata": {
    "deletable": false,
    "editable": false,
    "nbgrader": {
     "cell_type": "code",
     "checksum": "fb920cb8faadd1f73a9c62c9caff8c5d",
     "grade": false,
     "grade_id": "cell-c9b95de2f7202fb1",
     "locked": true,
     "schema_version": 3,
     "solution": false,
     "task": false
    }
   },
   "outputs": [],
   "source": [
    "print(\n",
    "    'Train Accuracy:',\n",
    "    np.count_nonzero(np.array(cluster_pred) == np.array(target_prediction)) / len(cluster_pred)\n",
    ")"
   ]
  },
  {
   "cell_type": "code",
   "execution_count": null,
   "id": "422ce261",
   "metadata": {
    "deletable": false,
    "editable": false,
    "nbgrader": {
     "cell_type": "code",
     "checksum": "c16c80ccfcd4ef6238747376589c1cb1",
     "grade": true,
     "grade_id": "cell-8a5d452314e96054",
     "locked": true,
     "points": 0,
     "schema_version": 3,
     "solution": false,
     "task": false
    }
   },
   "outputs": [],
   "source": [
    "# Euer Ergebnis wird automatisch getestet."
   ]
  },
  {
   "cell_type": "markdown",
   "id": "749ceb11-9089-4fcb-bf0e-2dac0c5abd79",
   "metadata": {
    "deletable": false,
    "editable": false,
    "nbgrader": {
     "cell_type": "markdown",
     "checksum": "11bc42339e728792b4d539479cfe1ca7",
     "grade": false,
     "grade_id": "cell-e2b06bfefa27cedd",
     "locked": true,
     "points": 1,
     "schema_version": 3,
     "solution": false,
     "task": true
    }
   },
   "source": [
    "**7.** Obwohl wir die selben Daten klassifizieren, mit denen wir trainiert haben, ist die Akkuratheit ziemlich schlecht.  \n",
    "1. Woran könnte das liegen? Nennt 2 Gründe.  \n",
    "2. Was sagt die Akkuratheit aus, wenn wir auf den exakt selben Daten trainiern und klassifizieren?\n"
   ]
  },
  {
   "cell_type": "markdown",
   "id": "6500df06",
   "metadata": {},
   "source": []
  }
 ],
 "metadata": {
  "kernelspec": {
   "display_name": "Python 3 (ipykernel)",
   "language": "python",
   "name": "python3"
  },
  "language_info": {
   "codemirror_mode": {
    "name": "ipython",
    "version": 3
   },
   "file_extension": ".py",
   "mimetype": "text/x-python",
   "name": "python",
   "nbconvert_exporter": "python",
   "pygments_lexer": "ipython3",
   "version": "3.10.6"
  },
  "vscode": {
   "interpreter": {
    "hash": "0ebd0b701ff4c2363b86f7237a81d4bde3162c261c985e5f11c480c0a9ebf323"
   }
  }
 },
 "nbformat": 4,
 "nbformat_minor": 5
}

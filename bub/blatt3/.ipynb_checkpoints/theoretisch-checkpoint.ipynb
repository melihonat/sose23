{
 "cells": [
  {
   "cell_type": "markdown",
   "id": "5f99883e",
   "metadata": {
    "deletable": false,
    "editable": false,
    "nbgrader": {
     "cell_type": "markdown",
     "checksum": "192b4abb442e63eeb9365256e28b410d",
     "grade": false,
     "grade_id": "cell-3b95a240bfb4e376",
     "locked": true,
     "schema_version": 3,
     "solution": false,
     "task": false
    }
   },
   "source": [
    "## Theoretische Aufgaben – Blatt3"
   ]
  },
  {
   "cell_type": "markdown",
   "id": "0f5285d6",
   "metadata": {
    "deletable": false,
    "editable": false,
    "nbgrader": {
     "cell_type": "markdown",
     "checksum": "4fe209a84a83a741241960a52ee91dd8",
     "grade": false,
     "grade_id": "cell-4f6cd4936872cacf",
     "locked": true,
     "schema_version": 3,
     "solution": false,
     "task": false
    }
   },
   "source": [
    "Beantwortet die inhaltlichen Fragen schriftlich und verwendet für die Statistikaufgaben eine mathematische Notation und keine Textbeschreibung oder graphische Deduktion. Ohne Rechenweg können keine Punkte vergeben werden.\n",
    "\n",
    "_Hinweis_: Beantwortet die folgenden Fragen ohne Programmierung.\n",
    "\n",
    "_Tipp_: Ihr könnt in den Markdown Zellen auch Latex verwenden oder Bilder einfügen."
   ]
  },
  {
   "cell_type": "markdown",
   "id": "80881398",
   "metadata": {
    "deletable": false,
    "editable": false,
    "nbgrader": {
     "cell_type": "markdown",
     "checksum": "78229538c6131630f8aa4c1c5c149a02",
     "grade": false,
     "grade_id": "cell-5abb67d6b6e8d23e",
     "locked": true,
     "points": 2,
     "schema_version": 3,
     "solution": false,
     "task": true
    }
   },
   "source": [
    "### Aufgabe 1: K-Means und KNN\n",
    "\n",
    "Was bedeutet $K$ in K-Means und in K-Nearest-Neighbours? Nennt 8 Gemeinsamkeiten und 8 Unterschiede der beiden Verfahren.\n"
   ]
  },
  {
   "cell_type": "markdown",
   "id": "a68d2f2c-47b7-4239-9e52-bb0c2c538000",
   "metadata": {},
   "source": [
    "Das K steht für die Anzahl der Cluster bzw. Nachbarn, die in den jeweiligen Verfahren benutzt werden.\n",
    "\n",
    "Gemeinsamkeiten:\n",
    "\n",
    "1. Beide Verfahren ermöglichen Vorhersagen für neue Samples.\n",
    "2. Der lineare Zusammenhang zwischen den Klassenzuordnungen und den Merkmalen muss nicht gegeben sein.\n",
    "3. Bei beiden Verfahren ist das Wählen eines geeigneten K wichtig.\n",
    "4. Normalisierung ist bei beiden Verfahren wichtig, da ohne Normalisierung Dimensionen mit hoher Varianz überwiegen würden.\n",
    "5. Die Algorithmen basieren auf Distanzen im Feature Space.\n",
    "6.\n",
    "7.\n",
    "8.\n",
    "\n",
    "Unterschiede:\n",
    "\n",
    "1. K-Means ist ein Clustering-Algorithmus, K-Nearest-Neighbours ist ein Klassifikations-Algorithmus.\n",
    "2. K-Means benötigt die Anzahl der Cluster vor der Berechnung, während KNN die Anzahl der Nachbarn benötigt.\n",
    "3. KM verwendet die Mittelwerte der Samples in einem Cluster, um die Clustermitte zu finden, während KNN die Klassen der nächstliegenden Samples benutzt, um ein Sample zu klassifizieren.\n",
    "4. KM kann unterschiedliche Ergebnisse erzielen, je nachdem, wo die Clustermitten initialisiert werden. KNN ist diesbezüglich nicht empfindlich.\n",
    "5. KM gibt Clustermitten als Output aus, KNN gibt eine Vorhersageklasse oder einen numerischen Wert für ein neues Sample aus.\n",
    "6. \n",
    "7.\n",
    "8."
   ]
  },
  {
   "cell_type": "markdown",
   "id": "0cf5eee2-cd8d-41b1-9e9d-d79081d4b92d",
   "metadata": {
    "deletable": false,
    "editable": false,
    "nbgrader": {
     "cell_type": "markdown",
     "checksum": "9f5139b641aa3f2e0d1e0163083c1460",
     "grade": false,
     "grade_id": "cell-a09f3a04b54f7a6c",
     "locked": true,
     "points": 2,
     "schema_version": 3,
     "solution": false,
     "task": true
    }
   },
   "source": [
    "### Aufgabe 2: Frequenzbereich\n",
    "\n",
    "Telefone senden beim Wählen einer Nummer für jede Ziffer einen bestimmten Ton, welcher mit dem DTMF Verfahren kodiert ist. Angenommen ihr hört diese Leitung ab und bekommt das Signal in Bild 1. \n",
    "\n",
    "1. Überfliegt das Verfahren: https://de.wikipedia.org/wiki/Mehrfrequenzwahlverfahren\n",
    "2. Mit welcher Funktion bekommt man das Signal aus Bild 1 in den Frequenzbereich?\n",
    "3. Bild 2 zeigt das Signal im Frequenzbereich. Welche Telefonnummer wurde hier gewählt?\n",
    "\n",
    "\n"
   ]
  },
  {
   "cell_type": "markdown",
   "id": "fc658791",
   "metadata": {},
   "source": [
    "Man bekommt das Signal mithilfe des Goertzel-Algorithmus, welcher auf der DFT beruht, in den Frequenzbereich.\n",
    "\n",
    "Ziffer 1: 0 (941Hz, 1336Hz)\n",
    "Ziffer 2: 4 (770Hz, 1209Hz)\n",
    "Ziffer 3: 2 (697Hz, 1336Hz)\n",
    "Ziffer 4: 1 (697Hz, 1209Hz)\n",
    "Ziffer 5: 2 (697Hz, 1336Hz)\n",
    "Ziffer 6: 1 (697Hz, 1209Hz)\n",
    "Ziffer 7: 8 (892Hz, 1336Hz)\n",
    "Ziffer 8: 6 (770Hz, 1477Hz)\n",
    "Ziffer 9: 4 (770Hz, 1209Hz)\n",
    "Ziffer 10: 2 (697Hz, 1336Hz)\n",
    "Ziffer 11: 7 (852Hz, 1209Hz)\n",
    "Ziffer 12: 8 (852Hz, 1336Hz)\n",
    "\n",
    "Komplette Nummer: 0421 21864278"
   ]
  },
  {
   "cell_type": "markdown",
   "id": "516c3149-2029-48f9-aa56-43891b4808a0",
   "metadata": {},
   "source": [
    "Signal im Zeitbereich (Bild 1):  \n",
    "![phone_wave2.png](phone_wave2.png)\n",
    "\n",
    "Signal im Frequenzbereich (Bild 2):  \n",
    "![phone_spec2.png](phone_spec2.png)"
   ]
  },
  {
   "cell_type": "markdown",
   "id": "10cb1159",
   "metadata": {
    "deletable": false,
    "editable": false,
    "nbgrader": {
     "cell_type": "markdown",
     "checksum": "d44a33eb5ed854a59b43d29919ad945b",
     "grade": false,
     "grade_id": "cell-faeca15a91913a05",
     "locked": true,
     "points": 1,
     "schema_version": 3,
     "solution": false,
     "task": true
    }
   },
   "source": [
    "### Aufgabe 3: Perzeptron\n",
    "\n",
    "In der Vorlesung habt ihr das Perzeptron kennengelernt. \n",
    "\n",
    "1. Nennt zwei einfache Probleme, die sich mit einem einzelnen Perzeptron-Neuron nicht lösen lassen.  \n",
    "2. Welche Eigenschaft des Perzeptrons ist dafür verantwortlich?  \n",
    "3. Nennt einen Klassifikator aus der VL, mit dem ihr dieses Problem lösen könnten.\n"
   ]
  },
  {
   "cell_type": "markdown",
   "id": "714838e6",
   "metadata": {},
   "source": [
    "1. Ein Perzeptron-Neuron kann nur lineare Grenzen erzeugen, daher kann es Probleme nicht lösen, bei denen die Daten nicht linear separierbar sind. Ein einzelnes Perzeptron kann außerdem nur als Klassifikator für maximal zwei verschiedene Klassen verwendet werden.\n",
    "\n",
    "2.  Die lineare Trennbarkeit  \n",
    "\n",
    "3. Mit einem Deep Neural Network kann man diese Probleme lösen, da es aus vielen Schichten von Perzeptron-Neuronen besteht.\n"
   ]
  },
  {
   "cell_type": "markdown",
   "id": "f94800a9-80cc-40af-a918-4767945c65b5",
   "metadata": {
    "deletable": false,
    "editable": false,
    "nbgrader": {
     "cell_type": "markdown",
     "checksum": "bccba914fee4c1721c2b3ce21dc6636e",
     "grade": false,
     "grade_id": "cell-e1fecdeaa11cc816",
     "locked": true,
     "points": 2,
     "schema_version": 3,
     "solution": false,
     "task": true
    }
   },
   "source": [
    "#### Aufgabe 4: Regression\n",
    "\n",
    "Nennt zwei Formen der Regression, welche wir in der Vorlesung behandelt haben. Nutzt hierfür die Vorlesungsfolien. Gebt jeweils ein Anwendungsszenario.\n"
   ]
  },
  {
   "cell_type": "markdown",
   "id": "823bdb66",
   "metadata": {},
   "source": [
    "Lineare Regression: \n",
    "Vorhersagen treffen basierend auf historischen Daten und Erfahrungswerten. Zum Beispiel könnte für ein Unternehmen durch die Anwendung linearer Regression basierend auf Werbeausgaben vorhergesagt werden, wie viel Umsatz erwartet werden kann, indem man bisherige Werbeaktionen einbezieht.\n",
    "\n",
    "Multiple Regression: \n",
    "Vorhersagen treffen basierend auf historischen Daten, Erfahrungswerten und mehreren unabhängigen Einflussfaktoren. Zum Beispiel könnte man Aktienkurse vorhersehen. Hier könnten verschiedene Faktoren wie Zinssätze, Branchentrends und Umsätze als unabhängige Einflussfaktoren betrachtet werden. Dadurch kann ein Modell erstellt werden, das den Einfluss dieser Faktoren auf den Aktienkurs berücksichtigt und Vorhersagen über zukünftige Kursbewegungen ermöglicht."
   ]
  },
  {
   "cell_type": "markdown",
   "id": "814394f1",
   "metadata": {
    "deletable": false,
    "editable": false,
    "nbgrader": {
     "cell_type": "markdown",
     "checksum": "e82a8acab81557beacdaac9549938210",
     "grade": false,
     "grade_id": "cell-ecda2d198dd25a9e",
     "locked": true,
     "points": 5,
     "schema_version": 3,
     "solution": false,
     "task": true
    }
   },
   "source": [
    "#### Aufgabe 5: Hidden Markov Models\n",
    "\n",
    "Bestimmt, ob die folgenden Probleme durch Markov- oder Hidden-Markov-Modellierung gelöst werden können. Wenn ja, soll ein _Hidden_-Markov-Modell verwendet werden und warum?\n",
    "\n",
    "1. Ihr habt einen Fahrplan für jede ICE-Strecke in Deutschland, einschließlich der Städte, durch die sie führen, aber keine Zeitangaben. Zum Beispiel: ICE 639, Bremen, Hannover, Göttingen... Ihr möchtet ein Modell bauen, das eine Stadt als Eingabe bekommt, in der der aktuelle Zug hält (ohne Zugnr.), und die nächsten ein, zwei, drei, vier, oder fünf Städte ausgibt, durch die der Zug höchstwahrscheinlich fahren wird.\n",
    "2. Ihr habt einen Datensatz mit täglichen Durchschnittswindgeschwindigkeiten für den Bremer Stadtteil Borgfeld für die Jahre 2020-2022. Ihr möchtet die Windgeschwindigkeit von Borgfeld am 1. Oktober 2023 ableiten.\n",
    "3. Ihr messt stündlich eure Herzfrequenz mit einem tragbaren Gerät und zeichnet eure Stimmung auf: aufgeregt, frustriert oder ruhig. Ihr versucht eine Funktion für den Zusammenhang zwischen der Herzfrequenz und diesen drei Stimmungen zu finden.\n",
    "4. Die gleiche Aufnahme wie in der vorherigen Frage, aber ihr möchtet über eure Stimmung zu dem Zeitpunkt spekulieren, an dem ihr eure Herzfrequenz das nächste Mal messt.\n"
   ]
  },
  {
   "cell_type": "markdown",
   "id": "8ad523a0",
   "metadata": {},
   "source": [
    "1. Dieses Problem könnte mit einem HMM gelöst werden, da man den Zustand eines Systems modellieren möchte. In diesem Fall ist der Zustand der aktuelle Aufenthaltsort eines Zuges, der aber nicht direkt beobachtet werden kann, da wir zwar eine Liste aller Städte haben, aber keine Zeitangaben.\n",
    "\n",
    "2. Dieses Problem lässt sich nicht mit einem MM oder HMM lösen, da die Windgeschwindigkeit ein kontinuierliches Signal ist, das sich nicht durch diskrete Zustände modellieren lässt.\n",
    "\n",
    "3. Dieses Problem kann mit einem Markov Modell gelöst werden. Es könnte verwendet werden, um den Zustand der Stimmung zu modellieren, wobei der Zustand in jedem Zeitschritt von der vorherigen Stimmung abhängt. Das Modell würde die Übergangswahrscheinlichkeiten zwischen den verschiedenen Stimmungen erfassen.\n",
    "\n",
    "4. Dieses Problem kann mit einem HMM gelöst werden. Das Modell enthält versteckte Zustände (Stimmungen), die nicht direkt beobachtbar sind, aber man durch die beobachteten Zustände (Herzfrequenz) auf diese schließen können."
   ]
  }
 ],
 "metadata": {
  "kernelspec": {
   "display_name": "Python 3 (ipykernel)",
   "language": "python",
   "name": "python3"
  },
  "language_info": {
   "codemirror_mode": {
    "name": "ipython",
    "version": 3
   },
   "file_extension": ".py",
   "mimetype": "text/x-python",
   "name": "python",
   "nbconvert_exporter": "python",
   "pygments_lexer": "ipython3",
   "version": "3.11.3"
  }
 },
 "nbformat": 4,
 "nbformat_minor": 5
}
